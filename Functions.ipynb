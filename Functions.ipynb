{
 "cells": [
  {
   "cell_type": "code",
   "execution_count": 1,
   "id": "5720e4b2-ea7f-43d3-bf48-0c6558f3609a",
   "metadata": {},
   "outputs": [
    {
     "name": "stdin",
     "output_type": "stream",
     "text": [
      "whats your name:  Adeela\n"
     ]
    },
    {
     "data": {
      "text/plain": [
       "'Adeela'"
      ]
     },
     "execution_count": 1,
     "metadata": {},
     "output_type": "execute_result"
    }
   ],
   "source": [
    "#input function\n",
    "name=input(\"whats your name: \")\n",
    "name"
   ]
  },
  {
   "cell_type": "code",
   "execution_count": 2,
   "id": "0df2bd40-72ae-4a54-a8e9-b403343bfdef",
   "metadata": {},
   "outputs": [
    {
     "data": {
      "text/plain": [
       "1234"
      ]
     },
     "execution_count": 2,
     "metadata": {},
     "output_type": "execute_result"
    }
   ],
   "source": [
    "#evaluation function\n",
    "#evaluates the string input as a Python expression.\n",
    "eval('1234')"
   ]
  },
  {
   "cell_type": "code",
   "execution_count": 3,
   "id": "83bec41c-6c3d-46ff-a420-b8511f57fb11",
   "metadata": {},
   "outputs": [
    {
     "data": {
      "text/plain": [
       "68"
      ]
     },
     "execution_count": 3,
     "metadata": {},
     "output_type": "execute_result"
    }
   ],
   "source": [
    "eval('23+45')"
   ]
  },
  {
   "cell_type": "code",
   "execution_count": 5,
   "id": "14f61e08-572b-4ec7-9ac6-a1bf7c2ecc69",
   "metadata": {},
   "outputs": [
    {
     "name": "stdin",
     "output_type": "stream",
     "text": [
      "Enter an arithmetic expression:  12.0+13.0*3\n"
     ]
    },
    {
     "data": {
      "text/plain": [
       "51.0"
      ]
     },
     "execution_count": 5,
     "metadata": {},
     "output_type": "execute_result"
    }
   ],
   "source": [
    "#composition (nested calls)\n",
    "n1=eval(input(\"Enter an arithmetic expression: \"))\n",
    "n1"
   ]
  },
  {
   "cell_type": "code",
   "execution_count": 6,
   "id": "075c1954-abfd-4aa5-978a-b18f4266f874",
   "metadata": {},
   "outputs": [
    {
     "name": "stdout",
     "output_type": "stream",
     "text": [
      "hellow \n"
     ]
    }
   ],
   "source": [
    "#print function\n",
    "print(\"hellow \")"
   ]
  },
  {
   "cell_type": "code",
   "execution_count": 7,
   "id": "1483cd1a-7e85-42b0-850c-cb6331909ba8",
   "metadata": {},
   "outputs": [
    {
     "name": "stdout",
     "output_type": "stream",
     "text": [
      "2 456 344\n"
     ]
    }
   ],
   "source": [
    "print(2,456,344)"
   ]
  },
  {
   "cell_type": "code",
   "execution_count": 8,
   "id": "ea720cbc-efa0-45f5-9b7c-5d4889985d32",
   "metadata": {},
   "outputs": [
    {
     "name": "stdout",
     "output_type": "stream",
     "text": [
      "hello Adeela 2+2= 4\n"
     ]
    }
   ],
   "source": [
    "name='Adeela'\n",
    "print('hello',name,\"2+2=\",2+2)"
   ]
  },
  {
   "cell_type": "code",
   "execution_count": 9,
   "id": "f4c9503b-f148-41eb-b17b-7325afff3ed6",
   "metadata": {},
   "outputs": [
    {
     "name": "stdout",
     "output_type": "stream",
     "text": [
      "hello Adeela \n",
      "2+2= 4\n"
     ]
    }
   ],
   "source": [
    "#escape sequences\n",
    "print('hello',name,\"\\n2+2=\",2+2)"
   ]
  },
  {
   "cell_type": "code",
   "execution_count": 10,
   "id": "a226114c-381a-447e-b1ac-52052c57956e",
   "metadata": {},
   "outputs": [
    {
     "name": "stdout",
     "output_type": "stream",
     "text": [
      "hello Adeela \t2+2= 4\n"
     ]
    }
   ],
   "source": [
    "print('hello',name,\"\\t2+2=\",2+2)\n"
   ]
  },
  {
   "cell_type": "markdown",
   "id": "82fc711a-0a30-40f4-a6f1-b32215a4bb3c",
   "metadata": {},
   "source": [
    "R'' or r'' denotes a raw string in Python.\n",
    "A raw string treats backslashes (\\) as literal characters, meaning \\n is not interpreted as a newline.\n",
    "Instead, R'\\n' is treated as the exact string: \\n (backslash followed by 'n')"
   ]
  },
  {
   "cell_type": "code",
   "execution_count": 11,
   "id": "654b64b6-9157-45f1-b9a9-c2653822fce1",
   "metadata": {},
   "outputs": [
    {
     "name": "stdout",
     "output_type": "stream",
     "text": [
      "use \\n for newline \n"
     ]
    }
   ],
   "source": [
    "print(\"use \\\\n for newline \")"
   ]
  },
  {
   "cell_type": "code",
   "execution_count": 12,
   "id": "88fcdf03-4621-41fa-9330-68548e7df035",
   "metadata": {},
   "outputs": [
    {
     "name": "stdout",
     "output_type": "stream",
     "text": [
      "use \\n for newline \n"
     ]
    }
   ],
   "source": [
    "print(R\"use \\n for newline \")"
   ]
  },
  {
   "cell_type": "code",
   "execution_count": 13,
   "id": "217d93b3-23b2-4590-95d0-a7458dcb6937",
   "metadata": {},
   "outputs": [
    {
     "name": "stdout",
     "output_type": "stream",
     "text": [
      "use \\n for newline \n"
     ]
    }
   ],
   "source": [
    "print(r\"use \\n for newline \")"
   ]
  },
  {
   "cell_type": "code",
   "execution_count": 15,
   "id": "06911ce1-5fb5-47c4-a0d2-ed3fc6799fdb",
   "metadata": {},
   "outputs": [
    {
     "name": "stdout",
     "output_type": "stream",
     "text": [
      "use \\n for newline\n"
     ]
    }
   ],
   "source": [
    "print(\"use\", R'\\n' ,'for newline')"
   ]
  },
  {
   "cell_type": "code",
   "execution_count": 16,
   "id": "f05d5fc0-d7c8-45c8-b8c8-db26f0fe05c6",
   "metadata": {},
   "outputs": [
    {
     "name": "stdout",
     "output_type": "stream",
     "text": [
      "<class 'int'>\n"
     ]
    }
   ],
   "source": [
    "#type function \n",
    "print(type(12))"
   ]
  },
  {
   "cell_type": "code",
   "execution_count": 17,
   "id": "9e0f60a2-db13-4122-a4a0-f9e6d12ef108",
   "metadata": {},
   "outputs": [
    {
     "name": "stdout",
     "output_type": "stream",
     "text": [
      "89.62\n"
     ]
    }
   ],
   "source": [
    "#round function \n",
    "print(round(89.624,2))"
   ]
  },
  {
   "cell_type": "code",
   "execution_count": 18,
   "id": "c300f35c-698c-4b56-b4d3-0fefba7f937b",
   "metadata": {},
   "outputs": [
    {
     "name": "stdout",
     "output_type": "stream",
     "text": [
      "90\n"
     ]
    }
   ],
   "source": [
    "print(round(89.624)) #system rounds value of 1st argument to integer"
   ]
  },
  {
   "cell_type": "code",
   "execution_count": 19,
   "id": "cdd925cc-e96b-44fc-9aa7-3b51d7383a71",
   "metadata": {},
   "outputs": [
    {
     "name": "stdout",
     "output_type": "stream",
     "text": [
      "90.0\n"
     ]
    }
   ],
   "source": [
    "print(round(89.624,0))"
   ]
  },
  {
   "cell_type": "code",
   "execution_count": 20,
   "id": "2d8f5372-1411-495c-9fd4-b0dcf70473ff",
   "metadata": {},
   "outputs": [
    {
     "name": "stdout",
     "output_type": "stream",
     "text": [
      "34.1\n"
     ]
    }
   ],
   "source": [
    "print(round(34.12,1))"
   ]
  },
  {
   "cell_type": "code",
   "execution_count": 22,
   "id": "0dee19e6-ee34-478f-9ac8-b24280fbd953",
   "metadata": {},
   "outputs": [
    {
     "name": "stdout",
     "output_type": "stream",
     "text": [
      "-35\n"
     ]
    }
   ],
   "source": [
    "print(round(-34.62))"
   ]
  },
  {
   "cell_type": "code",
   "execution_count": 24,
   "id": "24a1cfe5-f6c8-4ba6-86f6-c4480f11ca37",
   "metadata": {},
   "outputs": [
    {
     "name": "stdin",
     "output_type": "stream",
     "text": [
      "enter cost price: 45\n",
      "enter profit: 67\n"
     ]
    },
    {
     "name": "stdout",
     "output_type": "stream",
     "text": [
      "sellingPrice 112\n"
     ]
    }
   ],
   "source": [
    "#type conversion\n",
    "costPrice=int(input(\"enter cost price:\"))\n",
    "profit=int(input(\"enter profit:\"))\n",
    "sellingPrice=costPrice+profit\n",
    "print('sellingPrice',sellingPrice)"
   ]
  },
  {
   "cell_type": "code",
   "execution_count": 25,
   "id": "394496c8-7de2-4636-9e90-9baf5bbcd2a5",
   "metadata": {},
   "outputs": [
    {
     "data": {
      "text/plain": [
       "'123'"
      ]
     },
     "execution_count": 25,
     "metadata": {},
     "output_type": "execute_result"
    }
   ],
   "source": [
    "str(123)"
   ]
  },
  {
   "cell_type": "code",
   "execution_count": 29,
   "id": "f24ce856-262b-4643-91fe-7dfe05323da9",
   "metadata": {},
   "outputs": [
    {
     "data": {
      "text/plain": [
       "'123.56'"
      ]
     },
     "execution_count": 29,
     "metadata": {},
     "output_type": "execute_result"
    }
   ],
   "source": [
    "str(123.56)"
   ]
  },
  {
   "cell_type": "code",
   "execution_count": 36,
   "id": "2ba4af7a-95a7-45f3-8ed7-d370e678607d",
   "metadata": {},
   "outputs": [
    {
     "data": {
      "text/plain": [
       "132"
      ]
     },
     "execution_count": 36,
     "metadata": {},
     "output_type": "execute_result"
    }
   ],
   "source": [
    "# int('132.56') throws eror .cannot directly convert a decimal (floating-point) string to an integer,\n",
    "int(float('132.56'))  \n",
    "\n"
   ]
  },
  {
   "cell_type": "code",
   "execution_count": 28,
   "id": "4b441195-95ac-4533-a7d1-e9cfb4c8a2cb",
   "metadata": {},
   "outputs": [
    {
     "data": {
      "text/plain": [
       "34"
      ]
     },
     "execution_count": 28,
     "metadata": {},
     "output_type": "execute_result"
    }
   ],
   "source": [
    "int(34.0)"
   ]
  },
  {
   "cell_type": "code",
   "execution_count": 27,
   "id": "2077c6a0-d337-438e-ac7e-8f3f4be15b34",
   "metadata": {},
   "outputs": [
    {
     "data": {
      "text/plain": [
       "2343.0"
      ]
     },
     "execution_count": 27,
     "metadata": {},
     "output_type": "execute_result"
    }
   ],
   "source": [
    "float(2343)"
   ]
  },
  {
   "cell_type": "code",
   "execution_count": 37,
   "id": "1e2b66ff-628f-4b55-9705-3a747a43b14d",
   "metadata": {},
   "outputs": [
    {
     "data": {
      "text/plain": [
       "6567"
      ]
     },
     "execution_count": 37,
     "metadata": {},
     "output_type": "execute_result"
    }
   ],
   "source": [
    "#max function\n",
    "max(34,6567,45,35)"
   ]
  },
  {
   "cell_type": "code",
   "execution_count": 39,
   "id": "f68464a3-4245-4dfd-a6e4-bd1bd1426544",
   "metadata": {},
   "outputs": [
    {
     "data": {
      "text/plain": [
       "34"
      ]
     },
     "execution_count": 39,
     "metadata": {},
     "output_type": "execute_result"
    }
   ],
   "source": [
    "#min functio\n",
    "min(34,6567,45,35)\n"
   ]
  },
  {
   "cell_type": "code",
   "execution_count": 40,
   "id": "22aae3d6-4503-475e-9fe4-0ccf1b6aae9a",
   "metadata": {},
   "outputs": [
    {
     "data": {
      "text/plain": [
       "20736"
      ]
     },
     "execution_count": 40,
     "metadata": {},
     "output_type": "execute_result"
    }
   ],
   "source": [
    "#power function\n",
    "pow(12,4) #(a,b) computes a^b"
   ]
  },
  {
   "cell_type": "code",
   "execution_count": 42,
   "id": "8a0794a9-9eff-4766-9789-7cca18438ee9",
   "metadata": {},
   "outputs": [
    {
     "name": "stdout",
     "output_type": "stream",
     "text": [
      "Player A plays the 1st turn\n"
     ]
    }
   ],
   "source": [
    "#random number generation\n",
    "import random\n",
    "if random.random()<0.5:\n",
    "    print(\"Player A plays the 1st turn\")\n",
    "else:\n",
    "    print(\"Player B plays the 2nd turn\")"
   ]
  },
  {
   "cell_type": "code",
   "execution_count": 45,
   "id": "6daaa4d3-ef7a-4cbe-bdd9-e16179383050",
   "metadata": {},
   "outputs": [
    {
     "name": "stdout",
     "output_type": "stream",
     "text": [
      "Player A plays the 1st turn\n"
     ]
    }
   ],
   "source": [
    "\n",
    "\n",
    "if random.randint(1, 10) < 5:  # Generates a random number between 1 and 10\n",
    "    print(\"Player A plays the 1st turn\")\n",
    "else:\n",
    "    print(\"Player B plays the 2nd turn\")\n"
   ]
  },
  {
   "cell_type": "code",
   "execution_count": 47,
   "id": "0494ba5e-b420-4050-a1e4-bcdc82e382eb",
   "metadata": {},
   "outputs": [
    {
     "name": "stdout",
     "output_type": "stream",
     "text": [
      "46\n"
     ]
    }
   ],
   "source": [
    "import math\n",
    "\n",
    "result = math.ceil(45.67)\n",
    "print(result)  \n"
   ]
  },
  {
   "cell_type": "code",
   "execution_count": 50,
   "id": "e8535aaa-1553-46fa-ac75-b25ec1c51227",
   "metadata": {},
   "outputs": [
    {
     "data": {
      "text/plain": [
       "45"
      ]
     },
     "execution_count": 50,
     "metadata": {},
     "output_type": "execute_result"
    }
   ],
   "source": [
    "math.floor(45.99)"
   ]
  },
  {
   "cell_type": "code",
   "execution_count": 51,
   "id": "e24e01c2-6c97-4d2c-97e0-e59da2d1e4f2",
   "metadata": {},
   "outputs": [
    {
     "data": {
      "text/plain": [
       "56.0"
      ]
     },
     "execution_count": 51,
     "metadata": {},
     "output_type": "execute_result"
    }
   ],
   "source": [
    "math.fabs(56)  #Absolute value"
   ]
  },
  {
   "cell_type": "code",
   "execution_count": 54,
   "id": "78943ac7-b50f-4b20-a5d4-320f826af80f",
   "metadata": {},
   "outputs": [
    {
     "data": {
      "text/plain": [
       "7.38905609893065"
      ]
     },
     "execution_count": 54,
     "metadata": {},
     "output_type": "execute_result"
    }
   ],
   "source": [
    "math.exp(2)  #e^2"
   ]
  },
  {
   "cell_type": "code",
   "execution_count": 56,
   "id": "e5c11d60-054b-463d-a14e-46dc8c589fdb",
   "metadata": {},
   "outputs": [
    {
     "data": {
      "text/plain": [
       "3.5263605246161616"
      ]
     },
     "execution_count": 56,
     "metadata": {},
     "output_type": "execute_result"
    }
   ],
   "source": [
    "math.log(34)"
   ]
  },
  {
   "cell_type": "code",
   "execution_count": 57,
   "id": "9d0c0a97-92ab-4a9d-b4f0-3c80101f533d",
   "metadata": {},
   "outputs": [
    {
     "data": {
      "text/plain": [
       "0.47712125471966244"
      ]
     },
     "execution_count": 57,
     "metadata": {},
     "output_type": "execute_result"
    }
   ],
   "source": [
    "math.log10(3)"
   ]
  },
  {
   "cell_type": "code",
   "execution_count": 58,
   "id": "343be004-c15c-42d9-9031-8393bc532577",
   "metadata": {},
   "outputs": [
    {
     "data": {
      "text/plain": [
       "16"
      ]
     },
     "execution_count": 58,
     "metadata": {},
     "output_type": "execute_result"
    }
   ],
   "source": [
    "pow(2,4) #2^4"
   ]
  },
  {
   "cell_type": "code",
   "execution_count": 60,
   "id": "7b5349e2-5599-4445-a73d-5de72718e11e",
   "metadata": {},
   "outputs": [
    {
     "data": {
      "text/plain": [
       "2.0"
      ]
     },
     "execution_count": 60,
     "metadata": {},
     "output_type": "execute_result"
    }
   ],
   "source": [
    "math.sqrt(4)"
   ]
  },
  {
   "cell_type": "code",
   "execution_count": 61,
   "id": "2471ed2b-6867-47d8-b9c6-641525168e25",
   "metadata": {},
   "outputs": [
    {
     "data": {
      "text/plain": [
       "0.5253219888177297"
      ]
     },
     "execution_count": 61,
     "metadata": {},
     "output_type": "execute_result"
    }
   ],
   "source": [
    "math.cos(45)"
   ]
  },
  {
   "cell_type": "code",
   "execution_count": 63,
   "id": "3c0061b1-8844-4151-b4ca-9195b1a63376",
   "metadata": {},
   "outputs": [
    {
     "data": {
      "text/plain": [
       "0.8509035245341184"
      ]
     },
     "execution_count": 63,
     "metadata": {},
     "output_type": "execute_result"
    }
   ],
   "source": [
    "math.sin(45)"
   ]
  },
  {
   "cell_type": "code",
   "execution_count": 70,
   "id": "e58d4e7a-2386-4c98-8aac-8468adf0fbf1",
   "metadata": {},
   "outputs": [
    {
     "data": {
      "text/plain": [
       "1.5707963267948966"
      ]
     },
     "execution_count": 70,
     "metadata": {},
     "output_type": "execute_result"
    }
   ],
   "source": [
    "math.asin(1)"
   ]
  },
  {
   "cell_type": "code",
   "execution_count": 69,
   "id": "8add07a3-9658-44e8-b542-2498e0897677",
   "metadata": {},
   "outputs": [
    {
     "data": {
      "text/plain": [
       "0.0"
      ]
     },
     "execution_count": 69,
     "metadata": {},
     "output_type": "execute_result"
    }
   ],
   "source": [
    "math.acos(1)"
   ]
  },
  {
   "cell_type": "code",
   "execution_count": 62,
   "id": "c830924e-a1b4-41f0-9701-d99eae07dcff",
   "metadata": {},
   "outputs": [
    {
     "data": {
      "text/plain": [
       "1.6197751905438615"
      ]
     },
     "execution_count": 62,
     "metadata": {},
     "output_type": "execute_result"
    }
   ],
   "source": [
    "math.tan(45)"
   ]
  },
  {
   "cell_type": "code",
   "execution_count": 65,
   "id": "8c4fd483-e860-4e44-890c-4b6eefbf9d59",
   "metadata": {},
   "outputs": [
    {
     "data": {
      "text/plain": [
       "1.5485777614681775"
      ]
     },
     "execution_count": 65,
     "metadata": {},
     "output_type": "execute_result"
    }
   ],
   "source": [
    "math.atan(45) #inverse tangent"
   ]
  },
  {
   "cell_type": "code",
   "execution_count": 73,
   "id": "25f8378b-5f2a-4448-823a-a165c399f9a6",
   "metadata": {},
   "outputs": [
    {
     "data": {
      "text/plain": [
       "5156.620156177409"
      ]
     },
     "execution_count": 73,
     "metadata": {},
     "output_type": "execute_result"
    }
   ],
   "source": [
    "math.degrees(90)"
   ]
  },
  {
   "cell_type": "code",
   "execution_count": 74,
   "id": "f09de8ab-6745-44af-bc57-2d6bb70e2529",
   "metadata": {},
   "outputs": [
    {
     "data": {
      "text/plain": [
       "1.5707963267948966"
      ]
     },
     "execution_count": 74,
     "metadata": {},
     "output_type": "execute_result"
    }
   ],
   "source": [
    "math.radians(90)"
   ]
  },
  {
   "cell_type": "code",
   "execution_count": 75,
   "id": "66cbca18-5100-486d-8810-26523e3aa9d8",
   "metadata": {},
   "outputs": [
    {
     "data": {
      "text/plain": [
       "0.9999999999999999"
      ]
     },
     "execution_count": 75,
     "metadata": {},
     "output_type": "execute_result"
    }
   ],
   "source": [
    "math.tan(math.pi/4)"
   ]
  },
  {
   "cell_type": "code",
   "execution_count": 76,
   "id": "df947c3d-49fd-45b2-a9b1-152bf90f8654",
   "metadata": {},
   "outputs": [
    {
     "name": "stdout",
     "output_type": "stream",
     "text": [
      "Help on built-in function cos in module math:\n",
      "\n",
      "cos(x, /)\n",
      "    Return the cosine of x (measured in radians).\n",
      "\n"
     ]
    }
   ],
   "source": [
    "help(math.cos)"
   ]
  },
  {
   "cell_type": "code",
   "execution_count": 1,
   "id": "ec4b93ff-eab3-4df9-84a3-fb8a41ee430c",
   "metadata": {},
   "outputs": [
    {
     "data": {
      "text/plain": [
       "['ArithmeticError',\n",
       " 'AssertionError',\n",
       " 'AttributeError',\n",
       " 'BaseException',\n",
       " 'BaseExceptionGroup',\n",
       " 'BlockingIOError',\n",
       " 'BrokenPipeError',\n",
       " 'BufferError',\n",
       " 'BytesWarning',\n",
       " 'ChildProcessError',\n",
       " 'ConnectionAbortedError',\n",
       " 'ConnectionError',\n",
       " 'ConnectionRefusedError',\n",
       " 'ConnectionResetError',\n",
       " 'DeprecationWarning',\n",
       " 'EOFError',\n",
       " 'Ellipsis',\n",
       " 'EncodingWarning',\n",
       " 'EnvironmentError',\n",
       " 'Exception',\n",
       " 'ExceptionGroup',\n",
       " 'False',\n",
       " 'FileExistsError',\n",
       " 'FileNotFoundError',\n",
       " 'FloatingPointError',\n",
       " 'FutureWarning',\n",
       " 'GeneratorExit',\n",
       " 'IOError',\n",
       " 'ImportError',\n",
       " 'ImportWarning',\n",
       " 'IndentationError',\n",
       " 'IndexError',\n",
       " 'InterruptedError',\n",
       " 'IsADirectoryError',\n",
       " 'KeyError',\n",
       " 'KeyboardInterrupt',\n",
       " 'LookupError',\n",
       " 'MemoryError',\n",
       " 'ModuleNotFoundError',\n",
       " 'NameError',\n",
       " 'None',\n",
       " 'NotADirectoryError',\n",
       " 'NotImplemented',\n",
       " 'NotImplementedError',\n",
       " 'OSError',\n",
       " 'OverflowError',\n",
       " 'PendingDeprecationWarning',\n",
       " 'PermissionError',\n",
       " 'ProcessLookupError',\n",
       " 'RecursionError',\n",
       " 'ReferenceError',\n",
       " 'ResourceWarning',\n",
       " 'RuntimeError',\n",
       " 'RuntimeWarning',\n",
       " 'StopAsyncIteration',\n",
       " 'StopIteration',\n",
       " 'SyntaxError',\n",
       " 'SyntaxWarning',\n",
       " 'SystemError',\n",
       " 'SystemExit',\n",
       " 'TabError',\n",
       " 'TimeoutError',\n",
       " 'True',\n",
       " 'TypeError',\n",
       " 'UnboundLocalError',\n",
       " 'UnicodeDecodeError',\n",
       " 'UnicodeEncodeError',\n",
       " 'UnicodeError',\n",
       " 'UnicodeTranslateError',\n",
       " 'UnicodeWarning',\n",
       " 'UserWarning',\n",
       " 'ValueError',\n",
       " 'Warning',\n",
       " 'WindowsError',\n",
       " 'ZeroDivisionError',\n",
       " '__IPYTHON__',\n",
       " '__build_class__',\n",
       " '__debug__',\n",
       " '__doc__',\n",
       " '__import__',\n",
       " '__loader__',\n",
       " '__name__',\n",
       " '__package__',\n",
       " '__spec__',\n",
       " 'abs',\n",
       " 'aiter',\n",
       " 'all',\n",
       " 'anext',\n",
       " 'any',\n",
       " 'ascii',\n",
       " 'bin',\n",
       " 'bool',\n",
       " 'breakpoint',\n",
       " 'bytearray',\n",
       " 'bytes',\n",
       " 'callable',\n",
       " 'chr',\n",
       " 'classmethod',\n",
       " 'compile',\n",
       " 'complex',\n",
       " 'copyright',\n",
       " 'credits',\n",
       " 'delattr',\n",
       " 'dict',\n",
       " 'dir',\n",
       " 'display',\n",
       " 'divmod',\n",
       " 'enumerate',\n",
       " 'eval',\n",
       " 'exec',\n",
       " 'execfile',\n",
       " 'filter',\n",
       " 'float',\n",
       " 'format',\n",
       " 'frozenset',\n",
       " 'get_ipython',\n",
       " 'getattr',\n",
       " 'globals',\n",
       " 'hasattr',\n",
       " 'hash',\n",
       " 'help',\n",
       " 'hex',\n",
       " 'id',\n",
       " 'input',\n",
       " 'int',\n",
       " 'isinstance',\n",
       " 'issubclass',\n",
       " 'iter',\n",
       " 'len',\n",
       " 'license',\n",
       " 'list',\n",
       " 'locals',\n",
       " 'map',\n",
       " 'max',\n",
       " 'memoryview',\n",
       " 'min',\n",
       " 'next',\n",
       " 'object',\n",
       " 'oct',\n",
       " 'open',\n",
       " 'ord',\n",
       " 'pow',\n",
       " 'print',\n",
       " 'property',\n",
       " 'range',\n",
       " 'repr',\n",
       " 'reversed',\n",
       " 'round',\n",
       " 'runfile',\n",
       " 'set',\n",
       " 'setattr',\n",
       " 'slice',\n",
       " 'sorted',\n",
       " 'staticmethod',\n",
       " 'str',\n",
       " 'sum',\n",
       " 'super',\n",
       " 'tuple',\n",
       " 'type',\n",
       " 'vars',\n",
       " 'zip']"
      ]
     },
     "execution_count": 1,
     "metadata": {},
     "output_type": "execute_result"
    }
   ],
   "source": [
    "dir(__builtins__) #return builtin fnctions"
   ]
  },
  {
   "cell_type": "code",
   "execution_count": 78,
   "id": "a123a853-27ab-471a-aad6-fb712692764a",
   "metadata": {},
   "outputs": [
    {
     "name": "stdout",
     "output_type": "stream",
     "text": [
      "Help on built-in function print in module builtins:\n",
      "\n",
      "print(*args, sep=' ', end='\\n', file=None, flush=False)\n",
      "    Prints the values to a stream, or to sys.stdout by default.\n",
      "\n",
      "    sep\n",
      "      string inserted between values, default a space.\n",
      "    end\n",
      "      string appended after the last value, default a newline.\n",
      "    file\n",
      "      a file-like object (stream); defaults to the current sys.stdout.\n",
      "    flush\n",
      "      whether to forcibly flush the stream.\n",
      "\n"
     ]
    }
   ],
   "source": [
    "help(print) #helps to understand builtin"
   ]
  },
  {
   "cell_type": "code",
   "execution_count": 2,
   "id": "8a8fd880-0439-48d3-a8b3-8ecd0e611e0b",
   "metadata": {},
   "outputs": [
    {
     "name": "stdout",
     "output_type": "stream",
     "text": [
      "    *\n",
      "   ٭*٭\n",
      "  ٭٭٭٭*\n",
      " ٭٭٭٭٭٭*\n",
      "\n",
      "* * * *\n",
      "* * * *\n",
      "* * * *\n",
      "* * * *\n"
     ]
    }
   ],
   "source": [
    "def main():\n",
    "    print('    *')\n",
    "    print('   ٭*٭')\n",
    "    print('  ٭٭٭٭*')\n",
    "    print(' ٭٭٭٭٭٭*')\n",
    "\n",
    "    print()\n",
    "\n",
    "    print('* * * *')\n",
    "    print('* * * *')\n",
    "    print('* * * *')\n",
    "    print('* * * *')\n",
    " \n",
    "if __name__=='__main__' :\n",
    "    main()"
   ]
  },
  {
   "cell_type": "code",
   "execution_count": 6,
   "id": "ac6dbd3f-77cb-4529-8680-1e0486eaad72",
   "metadata": {},
   "outputs": [
    {
     "name": "stdout",
     "output_type": "stream",
     "text": [
      "    *\n",
      "   ٭*٭\n",
      "  ٭٭٭٭*\n",
      " ٭٭٭٭٭٭*\n",
      "\n",
      "* * * *\n",
      "* * * *\n",
      "* * * *\n",
      "* * * *\n",
      "\n",
      "End of program\n"
     ]
    }
   ],
   "source": [
    "def triangle():\n",
    "    print('    *')\n",
    "    print('   ٭*٭')\n",
    "    print('  ٭٭٭٭*')\n",
    "    print(' ٭٭٭٭٭٭*')\n",
    "def square():\n",
    "    print('* * * *')\n",
    "    print('* * * *')\n",
    "    print('* * * *')\n",
    "    print('* * * *')\n",
    "    \n",
    "def main():\n",
    "    triangle()\n",
    "    print()\n",
    "    square()\n",
    "  \n",
    "if __name__=='__main__' :\n",
    "    main()\n",
    "print(\"\\nEnd of program\")    "
   ]
  },
  {
   "cell_type": "code",
   "execution_count": 7,
   "id": "f3699c8d-12f5-4bf2-9217-268f90ace32e",
   "metadata": {},
   "outputs": [
    {
     "name": "stdin",
     "output_type": "stream",
     "text": [
      "Enter the length of the rectangle:  56\n",
      "Enter the breadth of the rectangle:  34\n"
     ]
    },
    {
     "name": "stdout",
     "output_type": "stream",
     "text": [
      "The area of the rectangle is: 1904.0\n"
     ]
    }
   ],
   "source": [
    "def calculate_area(length, breadth):\n",
    "    return length * breadth  # Formula: Area = Length × Breadth\n",
    "\n",
    "def main():\n",
    "  \n",
    "    length = float(input(\"Enter the length of the rectangle: \"))\n",
    "    breadth = float(input(\"Enter the breadth of the rectangle: \"))\n",
    "\n",
    "    # Function call\n",
    "    area = calculate_area(length, breadth)\n",
    "\n",
    "    \n",
    "    print(f\"The area of the rectangle is: {area}\")\n",
    "\n",
    "# Sirf tab run hoga jab script direct execute ho\n",
    "if __name__ == '__main__':\n",
    "    main()\n"
   ]
  },
  {
   "cell_type": "code",
   "execution_count": 10,
   "id": "0120e579-4d28-4c04-b2b2-6b22307f53a6",
   "metadata": {},
   "outputs": [
    {
     "data": {
      "text/plain": [
       "10"
      ]
     },
     "execution_count": 10,
     "metadata": {},
     "output_type": "execute_result"
    }
   ],
   "source": [
    "#default parameter values\n",
    "def areaRectangle(length,breadth=2):\n",
    "    area=length*breadth\n",
    "    return area\n",
    "areaRectangle(5)    "
   ]
  },
  {
   "cell_type": "markdown",
   "id": "b2e52c29-5e7e-4afa-a15f-c529149a6ded",
   "metadata": {},
   "source": [
    "def areaRectangle(length=10, breadth):  # ❌ Incorrect: Default pehle hai, non-default baad\n",
    "    return length * breadth\n"
   ]
  },
  {
   "cell_type": "code",
   "execution_count": 11,
   "id": "5111deb6-f8ea-4f34-8fe2-a3583480064b",
   "metadata": {},
   "outputs": [
    {
     "name": "stdout",
     "output_type": "stream",
     "text": [
      "10\n"
     ]
    }
   ],
   "source": [
    "def areaRectangle(length, breadth):\n",
    "    return length * breadth\n",
    "\n",
    "# Order change kar diya, lekin keyword se clear ho gaya\n",
    "areaRect = areaRectangle(breadth=2, length=5)\n",
    "print(areaRect)\n"
   ]
  },
  {
   "cell_type": "code",
   "execution_count": 12,
   "id": "73c23357-780f-4c5d-8c8d-ebbb26e47e78",
   "metadata": {},
   "outputs": [
    {
     "name": "stdout",
     "output_type": "stream",
     "text": [
      "Hello, Adeela! You are 20 years old.\n"
     ]
    }
   ],
   "source": [
    "#with keyword argument\n",
    "def greet(name, age):\n",
    "    print(f\"Hello, {name}! You are {age} years old.\")\n",
    "\n",
    "greet(age=20, name=\"Adeela\")  # Order change kiya, but it still works!\n"
   ]
  },
  {
   "cell_type": "code",
   "execution_count": 13,
   "id": "0b8bc53e-8460-4386-b3b1-006ae954f077",
   "metadata": {},
   "outputs": [
    {
     "name": "stdout",
     "output_type": "stream",
     "text": [
      "Hello, Adeela! You are 20 years old.\n"
     ]
    }
   ],
   "source": [
    "#positional argument\n",
    "def greet(name, age):\n",
    "    print(f\"Hello, {name}! You are {age} years old.\")\n",
    "\n",
    "greet(\"Adeela\", 20)  # orderchange kiya to ghlt hoga\n"
   ]
  },
  {
   "cell_type": "code",
   "execution_count": 15,
   "id": "8b9b86b7-fbfa-41b9-9b53-1c3c271d3f31",
   "metadata": {},
   "outputs": [
    {
     "data": {
      "text/plain": [
       "62"
      ]
     },
     "execution_count": 15,
     "metadata": {},
     "output_type": "execute_result"
    }
   ],
   "source": [
    "def f(a=2,b=3,c=4,d=5,e=6,f=7,g=8,h=9):\n",
    "    return a+b+c+d+e+f+g+h\n",
    "f(c=10,g=20)    "
   ]
  },
  {
   "cell_type": "code",
   "execution_count": 16,
   "id": "d80d6f50-8289-4fed-b115-29e60756a752",
   "metadata": {},
   "outputs": [
    {
     "name": "stdout",
     "output_type": "stream",
     "text": [
      "Hello, Guest! You are 18 years old.\n",
      "Hello, Guest! You are 25 years old.\n",
      "Hello, Adeela! You are 18 years old.\n",
      "Hello, Adeela! You are 22 years old.\n"
     ]
    }
   ],
   "source": [
    "def greet(name=\"Guest\", age=18):\n",
    "    print(f\"Hello, {name}! You are {age} years old.\")\n",
    "\n",
    "greet()                # Default values use honge\n",
    "greet(age=25)          # Sirf age change ki\n",
    "greet(name=\"Adeela\")   # Sirf name change ki\n",
    "greet(name=\"Adeela\", age=22)  # Dono change kiye\n"
   ]
  },
  {
   "cell_type": "code",
   "execution_count": 17,
   "id": "387458a6-5d59-4f1c-b1fa-b20a794b4ce2",
   "metadata": {},
   "outputs": [
    {
     "name": "stdout",
     "output_type": "stream",
     "text": [
      "Hello, Adeela! You are 20 years old.\n"
     ]
    }
   ],
   "source": [
    "def greet(name, age):\n",
    "    print(f\"Hello, {name}! You are {age} years old.\")\n",
    "\n",
    "greet(\"Adeela\", age=20)  # ✅ Correct\n",
    "#greet(name=\"Adeela\", 20)  # ❌ Error! Positional baad me nahi ho sakta\n"
   ]
  },
  {
   "cell_type": "code",
   "execution_count": 20,
   "id": "4f1c762d-3bf4-4551-959b-b524de9bf59c",
   "metadata": {},
   "outputs": [
    {
     "name": "stdout",
     "output_type": "stream",
     "text": [
      "All test cases passed!\n"
     ]
    }
   ],
   "source": [
    "def area_rectangle(length, breadth):\n",
    "    return length * breadth\n",
    "\n",
    "def main():\n",
    "    # Test cases using assert\n",
    "    assert area_rectangle(5, 2) == 10, \"Test Case 1 Failed\"\n",
    "    assert area_rectangle(3, 4) == 12, \"Test Case 2 Failed\"\n",
    "    assert area_rectangle(7, 3) == 21, \"Test Case 3 Failed\"\n",
    "    \n",
    "    print(\"All test cases passed!\")\n",
    "\n",
    "if __name__ == '__main__':\n",
    "    main()\n"
   ]
  },
  {
   "cell_type": "code",
   "execution_count": null,
   "id": "9c4ae985-bcbd-4483-a363-9ba2ce86b8f0",
   "metadata": {},
   "outputs": [],
   "source": []
  },
  {
   "cell_type": "code",
   "execution_count": null,
   "id": "1712d363-605c-456a-bcf1-2b9628f3acb1",
   "metadata": {},
   "outputs": [],
   "source": []
  },
  {
   "cell_type": "code",
   "execution_count": null,
   "id": "6e70d1cd-282a-4857-82d6-614be9948b23",
   "metadata": {},
   "outputs": [],
   "source": []
  }
 ],
 "metadata": {
  "kernelspec": {
   "display_name": "Python 3 (ipykernel)",
   "language": "python",
   "name": "python3"
  },
  "language_info": {
   "codemirror_mode": {
    "name": "ipython",
    "version": 3
   },
   "file_extension": ".py",
   "mimetype": "text/x-python",
   "name": "python",
   "nbconvert_exporter": "python",
   "pygments_lexer": "ipython3",
   "version": "3.12.7"
  }
 },
 "nbformat": 4,
 "nbformat_minor": 5
}
