{
 "cells": [
  {
   "cell_type": "code",
   "execution_count": 3,
   "id": "91d5ec45-f92c-4349-9b92-1cfb5bfeddea",
   "metadata": {},
   "outputs": [
    {
     "data": {
      "text/plain": [
       "'hello world'"
      ]
     },
     "execution_count": 3,
     "metadata": {},
     "output_type": "execute_result"
    }
   ],
   "source": [
    "msg='hello world'\n",
    "msg"
   ]
  },
  {
   "cell_type": "code",
   "execution_count": 4,
   "id": "5a8b46a5-2191-45ce-bc68-26f067ee1296",
   "metadata": {},
   "outputs": [
    {
     "data": {
      "text/plain": [
       "11"
      ]
     },
     "execution_count": 4,
     "metadata": {},
     "output_type": "execute_result"
    }
   ],
   "source": [
    "len(msg)"
   ]
  },
  {
   "cell_type": "code",
   "execution_count": 5,
   "id": "88802e0b-eda3-4474-a61b-42c0e80942cf",
   "metadata": {},
   "outputs": [
    {
     "data": {
      "text/plain": [
       "'h'"
      ]
     },
     "execution_count": 5,
     "metadata": {},
     "output_type": "execute_result"
    }
   ],
   "source": [
    "msg[0]"
   ]
  },
  {
   "cell_type": "code",
   "execution_count": 6,
   "id": "2367291d-3380-4c50-bd1e-22c7282a87be",
   "metadata": {},
   "outputs": [
    {
     "data": {
      "text/plain": [
       "'w'"
      ]
     },
     "execution_count": 6,
     "metadata": {},
     "output_type": "execute_result"
    }
   ],
   "source": [
    "msg[6]"
   ]
  },
  {
   "cell_type": "code",
   "execution_count": 11,
   "id": "f85f3367-bb2b-4bf5-bbc0-3f30396df633",
   "metadata": {},
   "outputs": [
    {
     "data": {
      "text/plain": [
       "10"
      ]
     },
     "execution_count": 11,
     "metadata": {},
     "output_type": "execute_result"
    }
   ],
   "source": [
    "index=len(msg)-1\n",
    "index"
   ]
  },
  {
   "cell_type": "code",
   "execution_count": 10,
   "id": "f1a15660-3bc6-4ae7-a924-b6aa67895b3d",
   "metadata": {},
   "outputs": [
    {
     "data": {
      "text/plain": [
       "'d'"
      ]
     },
     "execution_count": 10,
     "metadata": {},
     "output_type": "execute_result"
    }
   ],
   "source": [
    "index=len(msg)-1\n",
    "msg[index]"
   ]
  },
  {
   "cell_type": "code",
   "execution_count": 12,
   "id": "5b6343a6-5db5-4214-81be-a9f76f51ef77",
   "metadata": {},
   "outputs": [
    {
     "data": {
      "text/plain": [
       "'d'"
      ]
     },
     "execution_count": 12,
     "metadata": {},
     "output_type": "execute_result"
    }
   ],
   "source": [
    "msg[-1]"
   ]
  },
  {
   "cell_type": "code",
   "execution_count": 13,
   "id": "97053868-6182-461a-8ded-4ebbde118dca",
   "metadata": {},
   "outputs": [
    {
     "data": {
      "text/plain": [
       "'e'"
      ]
     },
     "execution_count": 13,
     "metadata": {},
     "output_type": "execute_result"
    }
   ],
   "source": [
    "msg[-index]"
   ]
  },
  {
   "cell_type": "code",
   "execution_count": 15,
   "id": "722004de-41f3-40f5-af3b-8c6f31738804",
   "metadata": {},
   "outputs": [],
   "source": [
    "#msg[15] \n",
    "#out of range error"
   ]
  },
  {
   "cell_type": "code",
   "execution_count": 17,
   "id": "cd6389a1-8bca-4f66-91d6-9ee85991fcca",
   "metadata": {},
   "outputs": [],
   "source": [
    "#strings are immutable\n",
    "#msg[6]='S'  #string object does not support item assignment"
   ]
  },
  {
   "cell_type": "code",
   "execution_count": 18,
   "id": "678b7c7d-b7ab-4b46-8089-4feb9b6acf22",
   "metadata": {},
   "outputs": [
    {
     "data": {
      "text/plain": [
       "'ComputerScience'"
      ]
     },
     "execution_count": 18,
     "metadata": {},
     "output_type": "execute_result"
    }
   ],
   "source": [
    "#can be concatenated \n",
    "'Computer'+'Science'\n"
   ]
  },
  {
   "cell_type": "code",
   "execution_count": 19,
   "id": "ac5ffb6e-fece-4a10-a0eb-7b06a22f5d5b",
   "metadata": {},
   "outputs": [
    {
     "data": {
      "text/plain": [
       "'HiHiHi'"
      ]
     },
     "execution_count": 19,
     "metadata": {},
     "output_type": "execute_result"
    }
   ],
   "source": [
    "#repetitive\n",
    "'Hi'*3"
   ]
  },
  {
   "cell_type": "code",
   "execution_count": 20,
   "id": "be045cab-04a3-4251-a069-cd4a5e2e6ff1",
   "metadata": {},
   "outputs": [
    {
     "data": {
      "text/plain": [
       "'C'"
      ]
     },
     "execution_count": 20,
     "metadata": {},
     "output_type": "execute_result"
    }
   ],
   "source": [
    "max('AZ','C','BD')"
   ]
  },
  {
   "cell_type": "code",
   "execution_count": 21,
   "id": "ce52f378-771f-47d6-8ed5-1f41685a020c",
   "metadata": {},
   "outputs": [
    {
     "data": {
      "text/plain": [
       "'AZ'"
      ]
     },
     "execution_count": 21,
     "metadata": {},
     "output_type": "execute_result"
    }
   ],
   "source": [
    "min('AZ','C','BD')"
   ]
  },
  {
   "cell_type": "code",
   "execution_count": 22,
   "id": "db731874-4b9b-4957-b2b3-85ae3cefc010",
   "metadata": {},
   "outputs": [
    {
     "data": {
      "text/plain": [
       "'Hello'"
      ]
     },
     "execution_count": 22,
     "metadata": {},
     "output_type": "execute_result"
    }
   ],
   "source": [
    "#slicing\n",
    "msg1='Hello sista'\n",
    "msg1[0:5]"
   ]
  },
  {
   "cell_type": "code",
   "execution_count": 23,
   "id": "0cb8150b-b44a-484e-b5d9-39b987c43d94",
   "metadata": {},
   "outputs": [
    {
     "data": {
      "text/plain": [
       "'ello '"
      ]
     },
     "execution_count": 23,
     "metadata": {},
     "output_type": "execute_result"
    }
   ],
   "source": [
    "msg[-10:-5]"
   ]
  },
  {
   "cell_type": "code",
   "execution_count": 24,
   "id": "0403f3b9-801e-4764-b66f-d55c0356172c",
   "metadata": {},
   "outputs": [
    {
     "data": {
      "text/plain": [
       "'hello'"
      ]
     },
     "execution_count": 24,
     "metadata": {},
     "output_type": "execute_result"
    }
   ],
   "source": [
    "msg[:5]"
   ]
  },
  {
   "cell_type": "code",
   "execution_count": 25,
   "id": "f78bdcd5-e405-4442-a5ec-53dbfc174615",
   "metadata": {},
   "outputs": [
    {
     "data": {
      "text/plain": [
       "' world'"
      ]
     },
     "execution_count": 25,
     "metadata": {},
     "output_type": "execute_result"
    }
   ],
   "source": [
    "msg[5:]"
   ]
  },
  {
   "cell_type": "code",
   "execution_count": 26,
   "id": "4b8c1062-4865-42bd-acda-72b8caa81a17",
   "metadata": {},
   "outputs": [
    {
     "data": {
      "text/plain": [
       "'hello world'"
      ]
     },
     "execution_count": 26,
     "metadata": {},
     "output_type": "execute_result"
    }
   ],
   "source": [
    "msg[:]"
   ]
  },
  {
   "cell_type": "code",
   "execution_count": 29,
   "id": "ec7039d5-26f5-4a6b-89b6-33bccc29fe10",
   "metadata": {},
   "outputs": [
    {
     "data": {
      "text/plain": [
       "'hello world'"
      ]
     },
     "execution_count": 29,
     "metadata": {},
     "output_type": "execute_result"
    }
   ],
   "source": [
    "msg[:5]+msg[5:]"
   ]
  },
  {
   "cell_type": "code",
   "execution_count": 31,
   "id": "4bf89bdc-f0a6-4994-b710-c04fb9f82422",
   "metadata": {},
   "outputs": [
    {
     "data": {
      "text/plain": [
       "'Hello sista'"
      ]
     },
     "execution_count": 31,
     "metadata": {},
     "output_type": "execute_result"
    }
   ],
   "source": [
    "msg1[:15]"
   ]
  },
  {
   "cell_type": "code",
   "execution_count": 32,
   "id": "c7296f2c-0d65-4ed8-bd6c-cca1e1cdb706",
   "metadata": {},
   "outputs": [
    {
     "data": {
      "text/plain": [
       "''"
      ]
     },
     "execution_count": 32,
     "metadata": {},
     "output_type": "execute_result"
    }
   ],
   "source": [
    "msg1[15:]"
   ]
  },
  {
   "cell_type": "code",
   "execution_count": 33,
   "id": "638bf82e-263f-4d82-9769-77135c3ec19e",
   "metadata": {},
   "outputs": [
    {
     "data": {
      "text/plain": [
       "'Hello sista'"
      ]
     },
     "execution_count": 33,
     "metadata": {},
     "output_type": "execute_result"
    }
   ],
   "source": [
    "msg1[:15]+msg[15:]"
   ]
  },
  {
   "cell_type": "code",
   "execution_count": 34,
   "id": "cfa76f70-96a9-407b-ad64-0d2b8fdcff6e",
   "metadata": {},
   "outputs": [
    {
     "data": {
      "text/plain": [
       "'sta'"
      ]
     },
     "execution_count": 34,
     "metadata": {},
     "output_type": "execute_result"
    }
   ],
   "source": [
    "msg1[8:20]"
   ]
  },
  {
   "cell_type": "code",
   "execution_count": 36,
   "id": "acd0dcf8-e01a-4897-89a9-9a1cf8cfeb6c",
   "metadata": {},
   "outputs": [
    {
     "data": {
      "text/plain": [
       "'sista'"
      ]
     },
     "execution_count": 36,
     "metadata": {},
     "output_type": "execute_result"
    }
   ],
   "source": [
    "msg1[6:None]"
   ]
  },
  {
   "cell_type": "code",
   "execution_count": 42,
   "id": "9e8025f1-ae6d-4ad9-9440-570958f56666",
   "metadata": {},
   "outputs": [
    {
     "data": {
      "text/plain": [
       "'Hlossa'"
      ]
     },
     "execution_count": 42,
     "metadata": {},
     "output_type": "execute_result"
    }
   ],
   "source": [
    "msg1[0:len(msg):2]"
   ]
  },
  {
   "cell_type": "code",
   "execution_count": 41,
   "id": "3d803342-9c63-4093-97a3-ddfd6920f01a",
   "metadata": {},
   "outputs": [
    {
     "data": {
      "text/plain": [
       "'Hlst'"
      ]
     },
     "execution_count": 41,
     "metadata": {},
     "output_type": "execute_result"
    }
   ],
   "source": [
    "msg1[0:len(msg):3]"
   ]
  },
  {
   "cell_type": "code",
   "execution_count": 43,
   "id": "810c0498-4dbb-42bf-a22d-73ff51a7d493",
   "metadata": {},
   "outputs": [
    {
     "data": {
      "text/plain": [
       "'Hello sista'"
      ]
     },
     "execution_count": 43,
     "metadata": {},
     "output_type": "execute_result"
    }
   ],
   "source": [
    "msg1[0:len(msg):]"
   ]
  },
  {
   "cell_type": "code",
   "execution_count": 44,
   "id": "48f08bab-3cb8-4eb1-90ec-2927b1b46ec8",
   "metadata": {},
   "outputs": [
    {
     "data": {
      "text/plain": [
       "True"
      ]
     },
     "execution_count": 44,
     "metadata": {},
     "output_type": "execute_result"
    }
   ],
   "source": [
    "#membership\n",
    "#determines whether a string is a substring of another string\n",
    "'h' in 'hello'"
   ]
  },
  {
   "cell_type": "code",
   "execution_count": 45,
   "id": "78281fce-5202-40cb-b8b6-27539578eca9",
   "metadata": {},
   "outputs": [
    {
     "data": {
      "text/plain": [
       "False"
      ]
     },
     "execution_count": 45,
     "metadata": {},
     "output_type": "execute_result"
    }
   ],
   "source": [
    "'b' in 'hello'"
   ]
  },
  {
   "cell_type": "code",
   "execution_count": 46,
   "id": "50ae07bd-19ed-49f3-9467-a97f7fa5673d",
   "metadata": {},
   "outputs": [
    {
     "data": {
      "text/plain": [
       "2"
      ]
     },
     "execution_count": 46,
     "metadata": {},
     "output_type": "execute_result"
    }
   ],
   "source": [
    "#built in functions\n",
    "#count():\n",
    "'Encyclopedia'.count('c')"
   ]
  },
  {
   "cell_type": "code",
   "execution_count": 49,
   "id": "cf487ffa-d3e8-416f-9910-f72f6b94d99e",
   "metadata": {},
   "outputs": [
    {
     "data": {
      "text/plain": [
       "4"
      ]
     },
     "execution_count": 49,
     "metadata": {},
     "output_type": "execute_result"
    }
   ],
   "source": [
    "vowels='aeiou'\n",
    "vowelCount=0\n",
    "for ch in vowels:\n",
    "    vowelCount+='Encyclopedia'.count(ch)\n",
    "vowelCount\n",
    "    "
   ]
  },
  {
   "cell_type": "code",
   "execution_count": 51,
   "id": "f7a99161-5ed8-4867-92c4-390ccf7ed72c",
   "metadata": {},
   "outputs": [
    {
     "data": {
      "text/plain": [
       "7"
      ]
     },
     "execution_count": 51,
     "metadata": {},
     "output_type": "execute_result"
    }
   ],
   "source": [
    "#find()\n",
    "#finding index of 1st occurences of a string in another string\n",
    "colors='green, red , blue , red , red , green'\n",
    "colors.find('red')"
   ]
  },
  {
   "cell_type": "code",
   "execution_count": 52,
   "id": "f9180472-78fe-41aa-a09d-adc90ff0746a",
   "metadata": {},
   "outputs": [
    {
     "data": {
      "text/plain": [
       "26"
      ]
     },
     "execution_count": 52,
     "metadata": {},
     "output_type": "execute_result"
    }
   ],
   "source": [
    "#rfind()\n",
    "#finding index of last occurences of a string in another string\n",
    "colors.rfind('red')"
   ]
  },
  {
   "cell_type": "code",
   "execution_count": 53,
   "id": "32c2314e-3fa4-4d1e-a4fb-275f0b5f5618",
   "metadata": {},
   "outputs": [
    {
     "data": {
      "text/plain": [
       "-1"
      ]
     },
     "execution_count": 53,
     "metadata": {},
     "output_type": "execute_result"
    }
   ],
   "source": [
    "colors.find('orange') #not available"
   ]
  },
  {
   "cell_type": "code",
   "execution_count": null,
   "id": "37b191ac-6a93-4185-b4ac-199496cdacad",
   "metadata": {},
   "outputs": [],
   "source": [
    "#transforming a string to sentence case"
   ]
  },
  {
   "cell_type": "code",
   "execution_count": 54,
   "id": "86daa100-4c7d-4cdc-8961-b9724b0f476e",
   "metadata": {},
   "outputs": [
    {
     "data": {
      "text/plain": [
       "'Python is a language '"
      ]
     },
     "execution_count": 54,
     "metadata": {},
     "output_type": "execute_result"
    }
   ],
   "source": [
    "'python is a language '.capitalize()"
   ]
  },
  {
   "cell_type": "code",
   "execution_count": 55,
   "id": "15a78570-3a56-44ee-bb99-5795c42e3dc6",
   "metadata": {},
   "outputs": [
    {
     "data": {
      "text/plain": [
       "'Python Is A Language '"
      ]
     },
     "execution_count": 55,
     "metadata": {},
     "output_type": "execute_result"
    }
   ],
   "source": [
    "'python is a language '.title()"
   ]
  },
  {
   "cell_type": "code",
   "execution_count": 57,
   "id": "4e3f755e-7134-4212-a733-78c23550e1b1",
   "metadata": {},
   "outputs": [
    {
     "name": "stdout",
     "output_type": "stream",
     "text": [
      "Python Is A Language\n",
      "Python is a language\n"
     ]
    }
   ],
   "source": [
    "# .title() capitalizes the first letter of each word, \n",
    "#while .capitalize() only capitalizes the first letter of the entire string and makes the rest lowercase.\n",
    "print('python is a language'.title())      \n",
    "print('python is a language'.capitalize())\n"
   ]
  },
  {
   "cell_type": "code",
   "execution_count": 58,
   "id": "5c08584b-fe1c-4ca6-b7a1-4e49646fe19d",
   "metadata": {},
   "outputs": [
    {
     "name": "stdout",
     "output_type": "stream",
     "text": [
      "python is a language\n"
     ]
    }
   ],
   "source": [
    "text = \"Python Is A Language\"\n",
    "print(text.lower())  \n",
    "\n"
   ]
  },
  {
   "cell_type": "code",
   "execution_count": 59,
   "id": "7152fc7f-0380-4adb-bf20-66d452c8a664",
   "metadata": {},
   "outputs": [
    {
     "name": "stdout",
     "output_type": "stream",
     "text": [
      "PYTHON IS A LANGUAGE\n"
     ]
    }
   ],
   "source": [
    "print(text.upper())  \n",
    "\n"
   ]
  },
  {
   "cell_type": "code",
   "execution_count": 60,
   "id": "bb5ede47-03f4-4dc3-a89e-bc48f634f641",
   "metadata": {},
   "outputs": [
    {
     "name": "stdout",
     "output_type": "stream",
     "text": [
      "True\n",
      "True\n",
      "False\n",
      "False\n"
     ]
    }
   ],
   "source": [
    "text = \"Python Is A Language\"\n",
    "\n",
    "# Comparing lowercase and original\n",
    "print(text.lower() == \"python is a language\")  \n",
    "\n",
    "\n",
    "# Comparing uppercase and original\n",
    "print(text.upper() == \"PYTHON IS A LANGUAGE\")  \n",
    "\n",
    "\n",
    "# Checking if original text is equal to its lowercase version\n",
    "print(text == text.lower())  \n",
    "\n",
    "\n",
    "# Checking if original text is equal to its uppercase version\n",
    "print(text == text.upper())  \n",
    "\n"
   ]
  },
  {
   "cell_type": "code",
   "execution_count": 61,
   "id": "fc9b3200-495b-4bf7-ba1f-db8de660997f",
   "metadata": {},
   "outputs": [
    {
     "name": "stdout",
     "output_type": "stream",
     "text": [
      "True\n",
      "True\n"
     ]
    }
   ],
   "source": [
    "str1 = \"Hello\"\n",
    "str2 = \"hello\"\n",
    "\n",
    "print(str1.lower() == str2.lower()) \n",
    "print(str1.upper() == str2.upper()) "
   ]
  },
  {
   "cell_type": "code",
   "execution_count": 63,
   "id": "bdc8169f-ee91-4799-a0d1-5c6dbc6d9e21",
   "metadata": {},
   "outputs": [
    {
     "data": {
      "text/plain": [
       "'pYTHON iS a lANGUAGE'"
      ]
     },
     "execution_count": 63,
     "metadata": {},
     "output_type": "execute_result"
    }
   ],
   "source": [
    "text.swapcase()"
   ]
  },
  {
   "cell_type": "code",
   "execution_count": null,
   "id": "be77d615-32cc-425a-919d-45fb6f8181ed",
   "metadata": {},
   "outputs": [],
   "source": [
    "#checking case"
   ]
  },
  {
   "cell_type": "code",
   "execution_count": 64,
   "id": "46b1c348-2e08-4314-be4b-80fdd7c878cd",
   "metadata": {},
   "outputs": [
    {
     "data": {
      "text/plain": [
       "True"
      ]
     },
     "execution_count": 64,
     "metadata": {},
     "output_type": "execute_result"
    }
   ],
   "source": [
    "'python'.islower()"
   ]
  },
  {
   "cell_type": "code",
   "execution_count": 65,
   "id": "2254fdbd-b40f-4865-a620-ce1a0d8a3ff0",
   "metadata": {},
   "outputs": [
    {
     "data": {
      "text/plain": [
       "False"
      ]
     },
     "execution_count": 65,
     "metadata": {},
     "output_type": "execute_result"
    }
   ],
   "source": [
    "'Python'.isupper()"
   ]
  },
  {
   "cell_type": "code",
   "execution_count": 66,
   "id": "f71cf659-5051-4fa6-8b87-0c81281b9991",
   "metadata": {},
   "outputs": [
    {
     "name": "stdout",
     "output_type": "stream",
     "text": [
      "True\n",
      "False\n",
      "False\n"
     ]
    }
   ],
   "source": [
    "#checking ehether the string is in title case\n",
    "text1 = \"Python Is A Language\"\n",
    "text2 = \"python is a language\"\n",
    "text3 = \"Python is a Language\"\n",
    "\n",
    "print(text1.istitle())  \n",
    "print(text2.istitle())  \n",
    "print(text3.istitle())  # False ('is' is lowercase)\n"
   ]
  },
  {
   "cell_type": "code",
   "execution_count": 67,
   "id": "7dad2403-cbda-439d-aca5-545ea3242827",
   "metadata": {},
   "outputs": [
    {
     "data": {
      "text/plain": [
       "'vihan is my friend ,vihan is my guider'"
      ]
     },
     "execution_count": 67,
     "metadata": {},
     "output_type": "execute_result"
    }
   ],
   "source": [
    "#replacing a function with another string\n",
    "txt='Amy is my friend ,Amy is my guider'\n",
    "txt.replace('Amy','vihan')"
   ]
  },
  {
   "cell_type": "code",
   "execution_count": 68,
   "id": "54ce3ee8-3c7c-428c-8270-334323a15464",
   "metadata": {},
   "outputs": [
    {
     "data": {
      "text/plain": [
       "'hello how are you!   '"
      ]
     },
     "execution_count": 68,
     "metadata": {},
     "output_type": "execute_result"
    }
   ],
   "source": [
    "#removing whitespace from the begiining and end of the string\n",
    "'   hello how are you!   '.lstrip()  "
   ]
  },
  {
   "cell_type": "code",
   "execution_count": 70,
   "id": "0791f9b5-8fcf-4784-9ac6-2abd5c129eae",
   "metadata": {},
   "outputs": [
    {
     "data": {
      "text/plain": [
       "'   hello how are you!'"
      ]
     },
     "execution_count": 70,
     "metadata": {},
     "output_type": "execute_result"
    }
   ],
   "source": [
    "'   hello how are you!   '.rstrip()"
   ]
  },
  {
   "cell_type": "code",
   "execution_count": 71,
   "id": "92a19346-5928-487d-9a38-43648693251f",
   "metadata": {},
   "outputs": [
    {
     "data": {
      "text/plain": [
       "'hello how are you!'"
      ]
     },
     "execution_count": 71,
     "metadata": {},
     "output_type": "execute_result"
    }
   ],
   "source": [
    "'   hello how are you!   '.strip()"
   ]
  },
  {
   "cell_type": "code",
   "execution_count": 72,
   "id": "ac593fbd-dc9c-441c-b65f-0cec5f1613f3",
   "metadata": {},
   "outputs": [
    {
     "name": "stdout",
     "output_type": "stream",
     "text": [
      "['Python', 'is', 'a', 'powerful', 'language']\n"
     ]
    }
   ],
   "source": [
    "#splitting a string into substrings\n",
    "text = \"Python is a powerful language\"\n",
    "words = text.split()  # Splits by spaces\n",
    "print(words)\n",
    "\n"
   ]
  },
  {
   "cell_type": "code",
   "execution_count": 73,
   "id": "8a8f8a24-104d-42d7-8e3b-cf3ca66f0d40",
   "metadata": {},
   "outputs": [
    {
     "name": "stdout",
     "output_type": "stream",
     "text": [
      "['apple', 'banana', 'grape', 'orange']\n"
     ]
    }
   ],
   "source": [
    "csv_data = \"apple,banana,grape,orange\"\n",
    "fruits = csv_data.split(\",\")  # Splits by comma\n",
    "print(fruits)\n",
    "\n"
   ]
  },
  {
   "cell_type": "code",
   "execution_count": 74,
   "id": "14923b8f-6dcf-4815-bece-1320ca1d173f",
   "metadata": {},
   "outputs": [
    {
     "name": "stdout",
     "output_type": "stream",
     "text": [
      "['Python', 'is', 'awesome']\n"
     ]
    }
   ],
   "source": [
    "text = \"Python   is\\tawesome\"\n",
    "words = text.split()  # Handles multiple spaces and tabs automatically\n",
    "print(words)\n",
    "\n"
   ]
  },
  {
   "cell_type": "code",
   "execution_count": 75,
   "id": "99dd8c60-15a9-4c9a-a909-65c72370ee63",
   "metadata": {},
   "outputs": [
    {
     "name": "stdout",
     "output_type": "stream",
     "text": [
      "['Python', 'is', 'a great language']\n"
     ]
    }
   ],
   "source": [
    "text = \"Python is a great language\"\n",
    "words = text.split(\" \", 2)  # Split at most 2 times\n",
    "print(words)\n",
    "\n"
   ]
  },
  {
   "cell_type": "code",
   "execution_count": 76,
   "id": "8b19247c-8bfb-4651-9450-f82d05368fa9",
   "metadata": {},
   "outputs": [
    {
     "name": "stdout",
     "output_type": "stream",
     "text": [
      "('Python', ' ', 'is amazing')\n"
     ]
    }
   ],
   "source": [
    "#partitioning a string into 3 parts\n",
    "#returns a tuple with three elements.\n",
    "text = \"Python is amazing\"\n",
    "result = text.partition(\" \")\n",
    "print(result)\n",
    "\n",
    "\n"
   ]
  },
  {
   "cell_type": "code",
   "execution_count": 77,
   "id": "e09adab5-32d1-413c-8655-733671443768",
   "metadata": {},
   "outputs": [
    {
     "name": "stdout",
     "output_type": "stream",
     "text": [
      "('apple', '-', 'banana-orange')\n"
     ]
    }
   ],
   "source": [
    "text = \"apple-banana-orange\"\n",
    "result = text.partition(\"-\")\n",
    "print(result)\n",
    "\n"
   ]
  },
  {
   "cell_type": "code",
   "execution_count": 78,
   "id": "5901338e-3dcc-41e1-ac4b-f0bb05efc29b",
   "metadata": {},
   "outputs": [
    {
     "name": "stdout",
     "output_type": "stream",
     "text": [
      "('Hello World', '', '')\n"
     ]
    }
   ],
   "source": [
    "#If the separator is not in the string, it returns the entire string as the first element, and the other two elements as empty strings\n",
    "text = \"Hello World\"\n",
    "result = text.partition(\",\")\n",
    "print(result)\n",
    "\n"
   ]
  },
  {
   "cell_type": "code",
   "execution_count": 79,
   "id": "547ff80d-5843-49d3-9daf-c87f366fcb56",
   "metadata": {},
   "outputs": [
    {
     "name": "stdout",
     "output_type": "stream",
     "text": [
      "('apple-banana', '-', 'orange')\n"
     ]
    }
   ],
   "source": [
    "#splits at the last occurrence of the separator.\n",
    "text = \"apple-banana-orange\"\n",
    "result = text.rpartition(\"-\")\n",
    "print(result)\n",
    "\n"
   ]
  },
  {
   "cell_type": "code",
   "execution_count": 82,
   "id": "14e4b978-5c67-4787-8151-80e18d88aaf8",
   "metadata": {},
   "outputs": [
    {
     "data": {
      "text/plain": [
       "'I > am > ok'"
      ]
     },
     "execution_count": 82,
     "metadata": {},
     "output_type": "execute_result"
    }
   ],
   "source": [
    "#joining a sequence of strings\n",
    "'>'.join(['I ', ' am ', ' ok'])"
   ]
  },
  {
   "cell_type": "code",
   "execution_count": 84,
   "id": "8c4583f4-e5e3-46b3-9be9-535e98007cc4",
   "metadata": {},
   "outputs": [
    {
     "data": {
      "text/plain": [
       "'I am ok'"
      ]
     },
     "execution_count": 84,
     "metadata": {},
     "output_type": "execute_result"
    }
   ],
   "source": [
    "\n",
    "' '.join(['I', 'am', 'ok'])"
   ]
  },
  {
   "cell_type": "code",
   "execution_count": 88,
   "id": "5d6567c3-dce2-4195-9ad7-3cffb018af73",
   "metadata": {},
   "outputs": [
    {
     "data": {
      "text/plain": [
       "\"'>I>'>,> >'>a>m>'>,> >'>o>k>'\""
      ]
     },
     "execution_count": 88,
     "metadata": {},
     "output_type": "execute_result"
    }
   ],
   "source": [
    "\n",
    "'>'.join(\"'I', 'am', 'ok'\")"
   ]
  },
  {
   "cell_type": "code",
   "execution_count": 89,
   "id": "c1166e7d-4247-4d46-867f-cd718d19971d",
   "metadata": {},
   "outputs": [
    {
     "name": "stdout",
     "output_type": "stream",
     "text": [
      "True\n",
      "True\n",
      "False\n",
      "False\n"
     ]
    }
   ],
   "source": [
    "print(\"   \".isspace())  \n",
    "print(\"\\t\\n\".isspace())  # True (Only whitespace characters)\n",
    "print(\"hello world\".isspace())  # False (Contains letters)\n",
    "print(\"\".isspace())  # False (Empty string)\n"
   ]
  },
  {
   "cell_type": "code",
   "execution_count": 90,
   "id": "afc1dff2-6720-4c41-a320-7cbd19747ce0",
   "metadata": {},
   "outputs": [
    {
     "name": "stdout",
     "output_type": "stream",
     "text": [
      "True\n",
      "True\n",
      "False\n",
      "False\n",
      "False\n"
     ]
    }
   ],
   "source": [
    "print(\"Python\".isalpha())  # True (Only letters)\n",
    "print(\"HelloWorld\".isalpha())  # True (Only letters)\n",
    "print(\"Python3\".isalpha())  # False (Contains a number)\n",
    "print(\"Hello World\".isalpha())  # False (Contains a space)\n",
    "print(\"\".isalpha())  # False (Empty string)\n"
   ]
  },
  {
   "cell_type": "code",
   "execution_count": 91,
   "id": "c8607ee5-c7e0-477d-9b49-487f2857235f",
   "metadata": {},
   "outputs": [
    {
     "name": "stdout",
     "output_type": "stream",
     "text": [
      "True\n",
      "True\n",
      "False\n",
      "False\n",
      "False\n"
     ]
    }
   ],
   "source": [
    "print(\"12345\".isdigit())  # True (Only digits)\n",
    "print(\"007\".isdigit())  # True (Only digits)\n",
    "print(\"123abc\".isdigit())  # False (Contains letters)\n",
    "print(\"12.34\".isdigit())  # False (Contains a dot)\n",
    "print(\"\".isdigit())  # False (Empty string)\n"
   ]
  },
  {
   "cell_type": "code",
   "execution_count": 92,
   "id": "fd043543-f17a-4591-a0dc-85713ea05b0c",
   "metadata": {},
   "outputs": [
    {
     "name": "stdout",
     "output_type": "stream",
     "text": [
      "True\n",
      "True\n",
      "True\n",
      "False\n",
      "False\n",
      "False\n"
     ]
    }
   ],
   "source": [
    "print(\"Python123\".isalnum())  # True (Letters and numbers)\n",
    "print(\"HelloWorld\".isalnum())  # True (Only letters)\n",
    "print(\"123456\".isalnum())  # True (Only numbers)\n",
    "print(\"Python_123\".isalnum())  # False (Contains '_')\n",
    "print(\"Hello World\".isalnum())  # False (Contains a space)\n",
    "print(\"\".isalnum())  # False (Empty string)\n"
   ]
  },
  {
   "cell_type": "code",
   "execution_count": 93,
   "id": "e060298d-f3a3-4e13-ad56-11fce29510a0",
   "metadata": {},
   "outputs": [
    {
     "name": "stdout",
     "output_type": "stream",
     "text": [
      "True\n",
      "False\n",
      "True\n",
      "True\n"
     ]
    }
   ],
   "source": [
    "#startswith\n",
    "text = \"Hello, Python!\"\n",
    "\n",
    "print(text.startswith(\"Hello\"))  # True\n",
    "print(text.startswith(\"Python\"))  # False (starts with \"Hello\")\n",
    "print(text.startswith(\"H\"))  # True (First letter is 'H')\n",
    "print(text.startswith(\"Python\", 7))  # True (Substring from index 7)\n"
   ]
  },
  {
   "cell_type": "code",
   "execution_count": 94,
   "id": "781d45d0-601b-4be5-82d7-5e5935644ba5",
   "metadata": {},
   "outputs": [
    {
     "name": "stdout",
     "output_type": "stream",
     "text": [
      "True\n",
      "False\n",
      "True\n",
      "False\n"
     ]
    }
   ],
   "source": [
    "#endswith\n",
    "text = \"Hello, Python!\"\n",
    "\n",
    "print(text.endswith(\"Python!\"))  # True\n",
    "print(text.endswith(\"Hello\"))  # False (Ends with \"Python!\")\n",
    "print(text.endswith(\"!\"))  # True (Last character is '!')\n",
    "print(text.endswith(\"Python\", 0, 12))  # True (Substring from start to index 12)\n"
   ]
  },
  {
   "cell_type": "code",
   "execution_count": 4,
   "id": "84e1c72e-345b-4a0e-a60e-17d4f37832d5",
   "metadata": {},
   "outputs": [
    {
     "name": "stdout",
     "output_type": "stream",
     "text": [
      "b'Hello, Python!'\n"
     ]
    }
   ],
   "source": [
    "#Converts string → bytes\n",
    "text = \"Hello, Python!\"\n",
    "encoded_text = text.encode()  # Default UTF-8 encoding\n",
    "print(encoded_text)\n",
    "# Output:   (bytes format)\n"
   ]
  },
  {
   "cell_type": "code",
   "execution_count": 5,
   "id": "889352bb-0253-4cd3-96a5-8354eac82ee1",
   "metadata": {},
   "outputs": [
    {
     "name": "stdout",
     "output_type": "stream",
     "text": [
      "Hello, Python!\n"
     ]
    }
   ],
   "source": [
    "#\tConverts bytes → string\n",
    "decoded_text = encoded_text.decode()  # Decodes back to a normal string\n",
    "print(decoded_text)\n",
    "\n"
   ]
  },
  {
   "cell_type": "code",
   "execution_count": 2,
   "id": "31eabb07-2b21-4c07-8d53-a12bc8993119",
   "metadata": {},
   "outputs": [
    {
     "name": "stdout",
     "output_type": "stream",
     "text": [
      "b'Hllo'\n",
      "b'H?llo'\n"
     ]
    }
   ],
   "source": [
    "text = \"Héllo\"  # Contains an accented 'é'\n",
    "ascii_encoded = text.encode(\"ascii\", errors=\"ignore\")  # Ignores unsupported characters\n",
    "print(ascii_encoded)  \n",
    "# Output: b'Hllo' (é is removed)\n",
    "\n",
    "ascii_encoded_replace = text.encode(\"ascii\", errors=\"replace\")  # Replaces unsupported characters\n",
    "print(ascii_encoded_replace)\n",
    "# Output: b'H?llo' ('é' is replaced by '?')\n"
   ]
  },
  {
   "cell_type": "code",
   "execution_count": 6,
   "id": "4f621757-02be-4970-a053-12e406fc8db9",
   "metadata": {},
   "outputs": [
    {
     "name": "stdout",
     "output_type": "stream",
     "text": [
      "Hllo\n"
     ]
    }
   ],
   "source": [
    "decoded_text = ascii_encoded.decode(\"ascii\")\n",
    "print(decoded_text)\n",
    "\n"
   ]
  },
  {
   "cell_type": "markdown",
   "id": "272de339-9a58-45f2-a753-76d45970bbfa",
   "metadata": {},
   "source": [
    "#string processing "
   ]
  },
  {
   "cell_type": "code",
   "execution_count": 7,
   "id": "ee88bdab-5c71-413a-8c2a-462896817654",
   "metadata": {},
   "outputs": [
    {
     "data": {
      "text/plain": [
       "7"
      ]
     },
     "execution_count": 7,
     "metadata": {},
     "output_type": "execute_result"
    }
   ],
   "source": [
    "#counting no of matching characters in a pair of strings\n",
    "def nMatchedChar(str1,str2):\n",
    "    temp1=str1.lower()\n",
    "    temp2=str2.lower()\n",
    "\n",
    "    count=0\n",
    "    for ch1 in temp1:\n",
    "        for ch2 in temp2:\n",
    "            if ch1==ch2:\n",
    "                count+=1\n",
    "\n",
    "    return count\n",
    "\n",
    "\n",
    "name1='Adeela'\n",
    "name2='Saleem'\n",
    "\n",
    "nMatchedChar(name1,name2)\n"
   ]
  },
  {
   "cell_type": "code",
   "execution_count": 8,
   "id": "8d5c693a-5703-4802-824f-fcf26d5ee4ee",
   "metadata": {},
   "outputs": [
    {
     "name": "stdout",
     "output_type": "stream",
     "text": [
      "3\n"
     ]
    }
   ],
   "source": [
    "#counting number of common characters in a pair of strings\n",
    "def nCommonChars(str1, str2):\n",
    "    temp1 = str1.lower()  \n",
    "    temp2 = str2.lower()\n",
    "\n",
    "    count = 0\n",
    "    for i in range(len(temp1)):  # Iterate over characters in str1\n",
    "        ch1 = temp1[i]\n",
    "\n",
    "        # Check if ch1 is the first occurrence (to avoid counting duplicates)\n",
    "        if ch1 not in temp1[:i]:  \n",
    "            for ch2 in temp2:  # Iterate over str2\n",
    "                if ch1 == ch2:  # If common character found\n",
    "                    count += 1\n",
    "                    break  # Break to ensure it's counted only once\n",
    "\n",
    "    return count\n",
    "\n",
    "\n",
    "name1 = \"Adeela\"\n",
    "name2 = \"Saleem\"\n",
    "\n",
    "print(nCommonChars(name1, name2))  \n"
   ]
  },
  {
   "cell_type": "code",
   "execution_count": 9,
   "id": "a5d421db-9a85-4b58-815b-a083775033d1",
   "metadata": {},
   "outputs": [
    {
     "name": "stdout",
     "output_type": "stream",
     "text": [
      "3\n"
     ]
    }
   ],
   "source": [
    "#optimized approach\n",
    "def nCommonCharsOptimized(str1, str2):\n",
    "    return len(set(str1.lower()) & set(str2.lower()))\n",
    "\n",
    "print(nCommonCharsOptimized(name1, name2))  \n"
   ]
  },
  {
   "cell_type": "code",
   "execution_count": 10,
   "id": "76b99295-53bd-41b4-adfa-5ce5ee2d84fe",
   "metadata": {},
   "outputs": [
    {
     "name": "stdout",
     "output_type": "stream",
     "text": [
      "olleH\n",
      "nohtyP\n"
     ]
    }
   ],
   "source": [
    "#reversing a string\n",
    "def reverse(str1):\n",
    "    reverseStr = ''\n",
    "    for i in range(len(str1)):  # Loop through each character\n",
    "        reverseStr = str1[i] + reverseStr  # Prepending the character\n",
    "\n",
    "    return reverseStr  #\n",
    "\n",
    "\n",
    "print(reverse(\"Hello\")) \n",
    "print(reverse(\"Python\")) \n"
   ]
  },
  {
   "cell_type": "code",
   "execution_count": 14,
   "id": "1a03ce7b-ad45-46d5-84d6-262941aef4da",
   "metadata": {},
   "outputs": [
    {
     "name": "stdout",
     "output_type": "stream",
     "text": [
      "olleH\n",
      "nohtyP\n"
     ]
    }
   ],
   "source": [
    "#program to find reverse of  string\n",
    "def reverse(str1):\n",
    "    if str1 == '':  # Base case: If empty string, return it\n",
    "        return str1\n",
    "    else:\n",
    "        return reverse(str1[1:]) + str1[0]  # Reverse rest, then add first char at end\n",
    "\n",
    "\n",
    "print(reverse(\"Hello\")) \n",
    "print(reverse(\"Python\")) \n"
   ]
  },
  {
   "cell_type": "code",
   "execution_count": null,
   "id": "d77ca3ee-dc3e-41d4-a346-27721bf414ce",
   "metadata": {},
   "outputs": [],
   "source": []
  }
 ],
 "metadata": {
  "kernelspec": {
   "display_name": "Python 3 (ipykernel)",
   "language": "python",
   "name": "python3"
  },
  "language_info": {
   "codemirror_mode": {
    "name": "ipython",
    "version": 3
   },
   "file_extension": ".py",
   "mimetype": "text/x-python",
   "name": "python",
   "nbconvert_exporter": "python",
   "pygments_lexer": "ipython3",
   "version": "3.12.7"
  }
 },
 "nbformat": 4,
 "nbformat_minor": 5
}
