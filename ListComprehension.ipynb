{
 "cells": [
  {
   "cell_type": "code",
   "execution_count": 1,
   "id": "b2646145-1c5a-4273-a9f3-90cf7c265430",
   "metadata": {},
   "outputs": [
    {
     "data": {
      "text/plain": [
       "[1, 8, 27, 64, 125, 216, 343, 512, 729, 1000]"
      ]
     },
     "execution_count": 1,
     "metadata": {},
     "output_type": "execute_result"
    }
   ],
   "source": [
    "cubes=[]\n",
    "end=10\n",
    "for i in range(1,end+1):\n",
    "    cubes.append(i**3)\n",
    "\n",
    "cubes"
   ]
  },
  {
   "cell_type": "code",
   "execution_count": 3,
   "id": "9c9ca984-f934-4314-bda3-684906fbcf90",
   "metadata": {},
   "outputs": [
    {
     "data": {
      "text/plain": [
       "[1, 8, 27, 64, 125, 216, 343, 512, 729, 1000]"
      ]
     },
     "execution_count": 3,
     "metadata": {},
     "output_type": "execute_result"
    }
   ],
   "source": [
    "#alternatively\n",
    "cubes=[x**3 for x in range(1,end+1)]\n",
    "cubes"
   ]
  },
  {
   "cell_type": "code",
   "execution_count": 4,
   "id": "75570a24-cf9b-40b4-a74e-760c13a943f7",
   "metadata": {},
   "outputs": [
    {
     "data": {
      "text/plain": [
       "[['rama', 160], ['sona', 161]]"
      ]
     },
     "execution_count": 4,
     "metadata": {},
     "output_type": "execute_result"
    }
   ],
   "source": [
    "lst=[['rama',160],['anaya',157],['mira',157],['sona',161]]\n",
    "threshold=160\n",
    "tall=[x for x in lst if x[1]>=threshold]\n",
    "tall"
   ]
  },
  {
   "cell_type": "code",
   "execution_count": 6,
   "id": "58126713-1dad-40b7-9734-0586fd132079",
   "metadata": {},
   "outputs": [
    {
     "data": {
      "text/plain": [
       "[['a', 3], ['a', 5], ['b', 3], ['b', 5], ['c', 3], ['c', 5]]"
      ]
     },
     "execution_count": 6,
     "metadata": {},
     "output_type": "execute_result"
    }
   ],
   "source": [
    "s1=['a','b','c']\n",
    "s2=[3,5]\n",
    "crossProduct=[[x,y]for x in s1 for y in s2]\n",
    "crossProduct"
   ]
  },
  {
   "cell_type": "code",
   "execution_count": 8,
   "id": "6425a7d2-f92f-469b-9098-11a2536f94ad",
   "metadata": {},
   "outputs": [
    {
     "name": "stdout",
     "output_type": "stream",
     "text": [
      "[10, 15, 30, [40, 50]]\n"
     ]
    }
   ],
   "source": [
    "#lists as arguments\n",
    "def listUpdate(a,i,value):\n",
    "    a[i]=value\n",
    "\n",
    "\n",
    "def main():\n",
    "    lst=[10,20,30,[40,50]]\n",
    "    listUpdate(lst,1,15)\n",
    "    print(lst)\n",
    "\n",
    "\n",
    "\n",
    "\n",
    "\n",
    "\n",
    "\n",
    "if __name__=='__main__':\n",
    "    main()"
   ]
  },
  {
   "cell_type": "code",
   "execution_count": 10,
   "id": "32c18f91-d211-40c7-be65-c6723e8715f5",
   "metadata": {},
   "outputs": [
    {
     "data": {
      "text/plain": [
       "[10, 20, 30, 40, 50]"
      ]
     },
     "execution_count": 10,
     "metadata": {},
     "output_type": "execute_result"
    }
   ],
   "source": [
    "#copying\n",
    "list1=[10,20,30,40,50]\n",
    "list2=list1\n",
    "list2"
   ]
  },
  {
   "cell_type": "code",
   "execution_count": 12,
   "id": "29fd7a7c-b425-46d7-be4a-c50a0f25b803",
   "metadata": {},
   "outputs": [
    {
     "data": {
      "text/plain": [
       "[10, 22, 30, 40, 50]"
      ]
     },
     "execution_count": 12,
     "metadata": {},
     "output_type": "execute_result"
    }
   ],
   "source": [
    "\n",
    "\n",
    "list1[1]=22\n",
    "\n",
    "list1"
   ]
  },
  {
   "cell_type": "code",
   "execution_count": 13,
   "id": "0f4fcd12-dedf-4e53-899c-2772c0d127fd",
   "metadata": {},
   "outputs": [
    {
     "data": {
      "text/plain": [
       "[10, 22, 30, 40, 50]"
      ]
     },
     "execution_count": 13,
     "metadata": {},
     "output_type": "execute_result"
    }
   ],
   "source": [
    "list2"
   ]
  },
  {
   "cell_type": "code",
   "execution_count": 15,
   "id": "99ea1e1e-8f5b-487a-a684-d6d032f4ac9e",
   "metadata": {},
   "outputs": [
    {
     "data": {
      "text/plain": [
       "[10, 20, [30, 40]]"
      ]
     },
     "execution_count": 15,
     "metadata": {},
     "output_type": "execute_result"
    }
   ],
   "source": [
    "import copy\n",
    "list1=[10,20,[30,40]]\n",
    "list3=copy.copy(list1)\n",
    "list3"
   ]
  },
  {
   "cell_type": "code",
   "execution_count": 16,
   "id": "578e52ef-12a6-470d-a94b-27d90970fd82",
   "metadata": {},
   "outputs": [
    {
     "data": {
      "text/plain": [
       "[10, 25, [30, 40]]"
      ]
     },
     "execution_count": 16,
     "metadata": {},
     "output_type": "execute_result"
    }
   ],
   "source": [
    "list1[1]=25\n",
    "list1"
   ]
  },
  {
   "cell_type": "code",
   "execution_count": 17,
   "id": "9030d452-7ccc-44dc-842a-864184001ce5",
   "metadata": {},
   "outputs": [
    {
     "data": {
      "text/plain": [
       "[10, 25, [35, 40]]"
      ]
     },
     "execution_count": 17,
     "metadata": {},
     "output_type": "execute_result"
    }
   ],
   "source": [
    "list1[2][0]=35\n",
    "list1"
   ]
  },
  {
   "cell_type": "code",
   "execution_count": 18,
   "id": "1e9a04f0-5ff1-4f3c-8d11-c81bcbc54c4c",
   "metadata": {},
   "outputs": [
    {
     "data": {
      "text/plain": [
       "[10, 20, [35, 40]]"
      ]
     },
     "execution_count": 18,
     "metadata": {},
     "output_type": "execute_result"
    }
   ],
   "source": [
    "list3"
   ]
  },
  {
   "cell_type": "code",
   "execution_count": 19,
   "id": "862003a9-8942-4115-98a0-ace86395a0f5",
   "metadata": {},
   "outputs": [
    {
     "data": {
      "text/plain": [
       "[10, 20, [30, 40]]"
      ]
     },
     "execution_count": 19,
     "metadata": {},
     "output_type": "execute_result"
    }
   ],
   "source": [
    "import copy\n",
    "list1=[10,20,[30,40]]\n",
    "list4=copy.deepcopy(list1)\n",
    "list4"
   ]
  },
  {
   "cell_type": "code",
   "execution_count": null,
   "id": "542f190b-a37a-4066-9c2d-a21ebb73db32",
   "metadata": {},
   "outputs": [],
   "source": []
  },
  {
   "cell_type": "code",
   "execution_count": 20,
   "id": "976a9418-c40a-4616-abcb-bd0071012087",
   "metadata": {},
   "outputs": [
    {
     "data": {
      "text/plain": [
       "[10, 20, [35, 40]]"
      ]
     },
     "execution_count": 20,
     "metadata": {},
     "output_type": "execute_result"
    }
   ],
   "source": [
    "list1[2][0]=35\n",
    "list1"
   ]
  },
  {
   "cell_type": "code",
   "execution_count": 21,
   "id": "8ceebe35-1af3-4047-99f4-7e380f201153",
   "metadata": {},
   "outputs": [
    {
     "data": {
      "text/plain": [
       "[10, 20, [30, 40]]"
      ]
     },
     "execution_count": 21,
     "metadata": {},
     "output_type": "execute_result"
    }
   ],
   "source": [
    "list4"
   ]
  },
  {
   "cell_type": "code",
   "execution_count": 22,
   "id": "dbaf025c-16e6-40ff-a4c8-8bbc54933d21",
   "metadata": {},
   "outputs": [
    {
     "data": {
      "text/plain": [
       "27"
      ]
     },
     "execution_count": 22,
     "metadata": {},
     "output_type": "execute_result"
    }
   ],
   "source": [
    "cube=lambda x:x**3\n",
    "cube(3)"
   ]
  },
  {
   "cell_type": "code",
   "execution_count": 23,
   "id": "78af3def-a9db-4fc4-ba09-05bb2381bc9f",
   "metadata": {},
   "outputs": [
    {
     "data": {
      "text/plain": [
       "35"
      ]
     },
     "execution_count": 23,
     "metadata": {},
     "output_type": "execute_result"
    }
   ],
   "source": [
    "sum2Cubes=lambda x , y: x**3 + y**3\n",
    "sum2Cubes(2,3)"
   ]
  },
  {
   "cell_type": "code",
   "execution_count": 24,
   "id": "4c369058-f3ba-493c-80fa-d20bbf5ab6ba",
   "metadata": {},
   "outputs": [
    {
     "data": {
      "text/plain": [
       "[1, 8, 27, 64, 125]"
      ]
     },
     "execution_count": 24,
     "metadata": {},
     "output_type": "execute_result"
    }
   ],
   "source": [
    "lst=[1,2,3,4,5]\n",
    "list(map(lambda x:x**3,lst))"
   ]
  },
  {
   "cell_type": "code",
   "execution_count": 25,
   "id": "d3a11b64-6c1e-4380-8dda-1bfbfabebf26",
   "metadata": {},
   "outputs": [
    {
     "data": {
      "text/plain": [
       "[1, 8, 27, 64, 125]"
      ]
     },
     "execution_count": 25,
     "metadata": {},
     "output_type": "execute_result"
    }
   ],
   "source": [
    "list(map(cube,lst))"
   ]
  },
  {
   "cell_type": "code",
   "execution_count": 26,
   "id": "47936875-f94a-4f08-a15d-9da16fc07665",
   "metadata": {},
   "outputs": [
    {
     "data": {
      "text/plain": [
       "[1, 2, 3, 4, 5]"
      ]
     },
     "execution_count": 26,
     "metadata": {},
     "output_type": "execute_result"
    }
   ],
   "source": [
    "list(map(abs,[-1,2,-3,4,5]))"
   ]
  },
  {
   "cell_type": "code",
   "execution_count": 28,
   "id": "ce94f115-8185-4c17-a5a2-4e35cfd082e0",
   "metadata": {},
   "outputs": [
    {
     "data": {
      "text/plain": [
       "225"
      ]
     },
     "execution_count": 28,
     "metadata": {},
     "output_type": "execute_result"
    }
   ],
   "source": [
    "#computing sum of cubes of all elements in the list\n",
    "\n",
    "listCubes=list(map(lambda x:x**3,lst))\n",
    "import functools\n",
    "sumCubes=functools.reduce(lambda x, y:x+y,listCubes)\n",
    "sumCubes"
   ]
  },
  {
   "cell_type": "code",
   "execution_count": 32,
   "id": "3fa54c57-2e82-4b0d-ad3b-4234da975587",
   "metadata": {},
   "outputs": [
    {
     "data": {
      "text/plain": [
       "[8, 64]"
      ]
     },
     "execution_count": 32,
     "metadata": {},
     "output_type": "execute_result"
    }
   ],
   "source": [
    "evenCubes = list(filter(lambda x: x % 2 == 0, listCubes))\n",
    "evenCubes "
   ]
  },
  {
   "cell_type": "code",
   "execution_count": 33,
   "id": "ba4e6dd3-5d9e-464a-b3c8-c48187cf5e91",
   "metadata": {},
   "outputs": [
    {
     "data": {
      "text/plain": [
       "72"
      ]
     },
     "execution_count": 33,
     "metadata": {},
     "output_type": "execute_result"
    }
   ],
   "source": [
    "sumEvenCubes=functools.reduce(lambda x , y: x+y,evenCubes)\n",
    "sumEvenCubes"
   ]
  },
  {
   "cell_type": "code",
   "execution_count": 35,
   "id": "bc9ebdc5-3318-485e-bd37-e1fb245b4550",
   "metadata": {},
   "outputs": [
    {
     "data": {
      "text/plain": [
       "72"
      ]
     },
     "execution_count": 35,
     "metadata": {},
     "output_type": "execute_result"
    }
   ],
   "source": [
    "sumEvenCubes=functools.reduce(lambda x , y: x+y,filter(lambda x:x%2==0,listCubes))\n",
    "sumEvenCubes"
   ]
  },
  {
   "cell_type": "code",
   "execution_count": null,
   "id": "bccc7630-69a7-4212-83bc-cada2795c395",
   "metadata": {},
   "outputs": [],
   "source": []
  },
  {
   "cell_type": "code",
   "execution_count": null,
   "id": "befe5a9b-38c8-4e59-9e3f-839dabdf3628",
   "metadata": {},
   "outputs": [],
   "source": []
  }
 ],
 "metadata": {
  "kernelspec": {
   "display_name": "Python 3 (ipykernel)",
   "language": "python",
   "name": "python3"
  },
  "language_info": {
   "codemirror_mode": {
    "name": "ipython",
    "version": 3
   },
   "file_extension": ".py",
   "mimetype": "text/x-python",
   "name": "python",
   "nbconvert_exporter": "python",
   "pygments_lexer": "ipython3",
   "version": "3.12.7"
  }
 },
 "nbformat": 4,
 "nbformat_minor": 5
}
