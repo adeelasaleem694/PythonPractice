{
 "cells": [
  {
   "cell_type": "markdown",
   "id": "ddb74db4-a18c-4d12-b12f-271a16faab33",
   "metadata": {},
   "source": [
    "\n",
    "Basic Set Operations\n"
   ]
  },
  {
   "cell_type": "code",
   "execution_count": 1,
   "id": "29ab2ac3-6fff-40a8-8cf1-194c6cf15d30",
   "metadata": {},
   "outputs": [
    {
     "name": "stdout",
     "output_type": "stream",
     "text": [
      "5\n"
     ]
    }
   ],
   "source": [
    "#Create a set with 5 unique numbers and print its length:\n",
    "my_set = {1, 2, 3, 4, 5}\n",
    "print(len(my_set)) \n"
   ]
  },
  {
   "cell_type": "code",
   "execution_count": 5,
   "id": "477fd2ab-820e-491e-a87f-878f8ca8ee49",
   "metadata": {},
   "outputs": [
    {
     "name": "stdout",
     "output_type": "stream",
     "text": [
      "{1, 2, 3, 4, 5, 6}\n"
     ]
    }
   ],
   "source": [
    "#Add an element to an existing set:\n",
    "my_set.add(6)\n",
    "print(my_set)"
   ]
  },
  {
   "cell_type": "code",
   "execution_count": 7,
   "id": "ef81e98d-45dd-4980-810a-ff401a9ed3c9",
   "metadata": {},
   "outputs": [
    {
     "name": "stdout",
     "output_type": "stream",
     "text": [
      "{1, 2, 4, 5, 6}\n"
     ]
    }
   ],
   "source": [
    "#Remove a specific element using remove and discard:\n",
    "\n",
    "my_set.remove(3)  # Removes 3. Raises KeyError if not found.\n",
    "my_set.discard(10)  # No error even if 10 is not in the set.\n",
    "print(my_set)  \n"
   ]
  },
  {
   "cell_type": "code",
   "execution_count": 9,
   "id": "af241d65-97b3-4233-8cc5-2f4e63d042e9",
   "metadata": {},
   "outputs": [
    {
     "name": "stdout",
     "output_type": "stream",
     "text": [
      "set()\n"
     ]
    }
   ],
   "source": [
    "#Clear all elements from a set:\n",
    "\n",
    "my_set.clear()\n",
    "print(my_set) \n"
   ]
  },
  {
   "cell_type": "code",
   "execution_count": 17,
   "id": "75f369d8-27fb-4228-915d-96e1891b6b5b",
   "metadata": {},
   "outputs": [
    {
     "name": "stdout",
     "output_type": "stream",
     "text": [
      "True\n",
      "True\n"
     ]
    }
   ],
   "source": [
    "my_set = {1, 2, 3, 4, 5}\n",
    "print(5 in {1, 2, 3, 4, 5})  \n",
    "print(2 in my_set)           \n",
    "\n"
   ]
  },
  {
   "cell_type": "markdown",
   "id": "333683bd-bc2a-474b-83e9-5c1dc1ee7f4b",
   "metadata": {},
   "source": [
    "\n",
    "Set Methods\n"
   ]
  },
  {
   "cell_type": "code",
   "execution_count": 21,
   "id": "4b6f6edb-bc78-4306-8277-a7f5745bf497",
   "metadata": {},
   "outputs": [
    {
     "name": "stdout",
     "output_type": "stream",
     "text": [
      "{1, 2, 3, 4, 5}\n"
     ]
    }
   ],
   "source": [
    "#Union of two sets:\n",
    "set1 = {1, 2, 3}\n",
    "set2 = {3, 4, 5}\n",
    "print(set1.union(set2)) \n"
   ]
  },
  {
   "cell_type": "code",
   "execution_count": 23,
   "id": "ec9b404e-07a3-4038-94b4-d2587e495832",
   "metadata": {},
   "outputs": [
    {
     "name": "stdout",
     "output_type": "stream",
     "text": [
      "{3}\n"
     ]
    }
   ],
   "source": [
    "#Intersection of two sets:\n",
    "print(set1.intersection(set2))  \n"
   ]
  },
  {
   "cell_type": "code",
   "execution_count": 25,
   "id": "08aa3b2a-ee72-476a-86cc-ef0aa6740e83",
   "metadata": {},
   "outputs": [
    {
     "name": "stdout",
     "output_type": "stream",
     "text": [
      "{1, 2}\n"
     ]
    }
   ],
   "source": [
    "#Difference between two sets\n",
    "print(set1 - set2)  \n"
   ]
  },
  {
   "cell_type": "code",
   "execution_count": 27,
   "id": "a32c13bf-becc-42d0-acf2-708daf10fb6c",
   "metadata": {},
   "outputs": [
    {
     "name": "stdout",
     "output_type": "stream",
     "text": [
      "{1, 2, 4, 5}\n"
     ]
    }
   ],
   "source": [
    "#Symmetric difference of two sets\n",
    "print(set1.symmetric_difference(set2))  \n"
   ]
  },
  {
   "cell_type": "code",
   "execution_count": 29,
   "id": "af479300-53c2-4597-8703-3f16ea254ba1",
   "metadata": {},
   "outputs": [
    {
     "name": "stdout",
     "output_type": "stream",
     "text": [
      "False\n"
     ]
    }
   ],
   "source": [
    "#Check if one set is a subset of another:\n",
    "print(set1.issubset(set2))  # Output: False\n"
   ]
  },
  {
   "cell_type": "code",
   "execution_count": 33,
   "id": "7f20ae1b-61b9-40e3-bfd5-5baa071f068e",
   "metadata": {},
   "outputs": [
    {
     "name": "stdout",
     "output_type": "stream",
     "text": [
      "True\n"
     ]
    }
   ],
   "source": [
    "#Check if one set is a superset of another:\n",
    "print(set1.issuperset({2}))  # Output: True\n"
   ]
  },
  {
   "cell_type": "markdown",
   "id": "caadeccd-af13-404d-ab77-18002244c30d",
   "metadata": {},
   "source": [
    "\n",
    "Advanced Manipulations\n",
    "\n"
   ]
  },
  {
   "cell_type": "code",
   "execution_count": 35,
   "id": "393dad8a-3317-4c64-a8d9-7e80ee55ff85",
   "metadata": {},
   "outputs": [
    {
     "name": "stdout",
     "output_type": "stream",
     "text": [
      "{1, 2, 3, 4}\n"
     ]
    }
   ],
   "source": [
    "#Convert a list with duplicates into a set\n",
    "my_list = [1, 2, 2, 3, 4, 4]\n",
    "print(set(my_list)) \n"
   ]
  },
  {
   "cell_type": "code",
   "execution_count": 37,
   "id": "7c3ff926-99e5-4a28-b0f4-0a322e0218a6",
   "metadata": {},
   "outputs": [
    {
     "name": "stdout",
     "output_type": "stream",
     "text": [
      "{'l', 'o', 'e', 'h'}\n"
     ]
    }
   ],
   "source": [
    "#Find unique characters in a string:\n",
    "string = \"hello\"\n",
    "print(set(string))  "
   ]
  },
  {
   "cell_type": "code",
   "execution_count": 39,
   "id": "c161c430-07d5-41f8-8083-475618af6ab4",
   "metadata": {},
   "outputs": [
    {
     "name": "stdout",
     "output_type": "stream",
     "text": [
      "{'cherry', 'banana'}\n"
     ]
    }
   ],
   "source": [
    "#Find common elements between two sets of strings:\n",
    "set_a = {\"apple\", \"banana\", \"cherry\"}\n",
    "set_b = {\"banana\", \"cherry\", \"date\"}\n",
    "print(set_a & set_b) \n"
   ]
  },
  {
   "cell_type": "code",
   "execution_count": 53,
   "id": "616eb998-d96d-4833-a49a-c25570d2af2d",
   "metadata": {},
   "outputs": [
    {
     "name": "stdout",
     "output_type": "stream",
     "text": [
      "{64, 1, 4, 36, 100, 9, 16, 49, 81, 25}\n",
      "[1, 4, 9, 16, 25, 36, 49, 64, 81, 100]\n"
     ]
    }
   ],
   "source": [
    "#Set of squares for numbers from 1 to 10\n",
    "squares = {x**2 for x in range(1, 11)}\n",
    "print(squares)  #unordered collection \n",
    "sorted_squares = sorted(squares)\n",
    "print(sorted_squares)\n"
   ]
  },
  {
   "cell_type": "markdown",
   "id": "7d0fb0f4-5430-48aa-8353-103181c05937",
   "metadata": {},
   "source": [
    "\n",
    "Set Operations with Loops\n"
   ]
  },
  {
   "cell_type": "code",
   "execution_count": 49,
   "id": "6d096983-15bf-4925-933a-4a1c7a74d43b",
   "metadata": {},
   "outputs": [
    {
     "name": "stdout",
     "output_type": "stream",
     "text": [
      "1\n",
      "2\n",
      "3\n"
     ]
    }
   ],
   "source": [
    "#Iterate through a set and print each element:\n",
    "for elem in {1, 2, 3}:\n",
    "    print(elem)\n"
   ]
  },
  {
   "cell_type": "code",
   "execution_count": 51,
   "id": "0c71faa9-b778-48f5-936a-c2ef7679467b",
   "metadata": {},
   "outputs": [
    {
     "name": "stdout",
     "output_type": "stream",
     "text": [
      "{1, 3, 5}\n"
     ]
    }
   ],
   "source": [
    "#Filter out even numbers\n",
    "numbers = {1, 2, 3, 4, 5, 6}\n",
    "print({x for x in numbers if x % 2 != 0}) \n"
   ]
  },
  {
   "cell_type": "code",
   "execution_count": 55,
   "id": "f00c7fe9-c161-45e5-8185-9681b713cff3",
   "metadata": {},
   "outputs": [
    {
     "name": "stdout",
     "output_type": "stream",
     "text": [
      "{'a', 'e', 'i'}\n"
     ]
    }
   ],
   "source": [
    "#Find all vowels in a sentence:\n",
    "sentence = \"This is a test sentence.\"\n",
    "vowels = set(\"aeiou\")\n",
    "print(vowels & set(sentence.lower())) \n"
   ]
  },
  {
   "cell_type": "markdown",
   "id": "55297ee9-3bde-4b17-9d26-b47841a837a2",
   "metadata": {},
   "source": [
    "\n",
    "Applications\n",
    "\n"
   ]
  },
  {
   "cell_type": "code",
   "execution_count": 59,
   "id": "f46715fb-e12b-4131-acf8-94c96e971cef",
   "metadata": {},
   "outputs": [
    {
     "name": "stdout",
     "output_type": "stream",
     "text": [
      "{1, 2, 3, 4}\n"
     ]
    }
   ],
   "source": [
    "#Union of three sets:\n",
    "set1, set2, set3 = {1, 2}, {2, 3}, {3, 4}\n",
    "print(set1 | set2 | set3)  \n"
   ]
  },
  {
   "cell_type": "code",
   "execution_count": 61,
   "id": "dea6f77d-f026-4ccb-8881-35b3be4eae05",
   "metadata": {},
   "outputs": [
    {
     "name": "stdout",
     "output_type": "stream",
     "text": [
      "{1}\n"
     ]
    }
   ],
   "source": [
    "#Elements in one set but not another:\n",
    "print(set1 - set2)  \n"
   ]
  },
  {
   "cell_type": "code",
   "execution_count": 65,
   "id": "73c40900-69b4-450e-97d3-5a4ebcdd3474",
   "metadata": {},
   "outputs": [
    {
     "name": "stdout",
     "output_type": "stream",
     "text": [
      "5\n"
     ]
    }
   ],
   "source": [
    "#Count unique words in a sentence:\n",
    "sentence = \"this is a test this is only a test\"  #sentence.split() -->['this', 'is', 'a', 'test', 'this', 'is', 'only', 'a', 'test']\n",
    "\n",
    "print(len(set(sentence.split())))  \n"
   ]
  },
  {
   "cell_type": "code",
   "execution_count": 2,
   "id": "6b318d74-e0ff-42ee-a814-f5b5a995d0da",
   "metadata": {},
   "outputs": [
    {
     "name": "stdout",
     "output_type": "stream",
     "text": [
      "{2, 3}\n"
     ]
    }
   ],
   "source": [
    "#Identify duplicate elements in a list:\n",
    "my_list = [1, 2, 2, 3, 3, 4]\n",
    "print(set(x for x in my_list if my_list.count(x) > 1)) \n",
    "#The count() method counts how many times x appears in my_list."
   ]
  },
  {
   "cell_type": "code",
   "execution_count": 69,
   "id": "20140e0b-5ef6-4292-bbfe-a0e596f5a093",
   "metadata": {},
   "outputs": [
    {
     "name": "stdout",
     "output_type": "stream",
     "text": [
      "{'Bob'}\n"
     ]
    }
   ],
   "source": [
    "#Students in both courses:\n",
    "course1 = {\"Alice\", \"Bob\"}\n",
    "course2 = {\"Bob\", \"Charlie\"}\n",
    "print(course1 & course2)  "
   ]
  },
  {
   "cell_type": "markdown",
   "id": "07363a99-ce7a-47be-9fe7-6be462fc3c26",
   "metadata": {},
   "source": [
    "\n",
    "Set and Mathematical Operations\n"
   ]
  },
  {
   "cell_type": "code",
   "execution_count": 71,
   "id": "364aaeb7-b9be-4022-8155-cf893cb48b1d",
   "metadata": {},
   "outputs": [
    {
     "name": "stdout",
     "output_type": "stream",
     "text": [
      "{(2, 3), (2, 4), (1, 3), (1, 4)}\n"
     ]
    }
   ],
   "source": [
    "#Cartesian product of two sets:\n",
    "set1, set2 = {1, 2}, {3, 4}\n",
    "print({(x, y) for x in set1 for y in set2})  \n"
   ]
  },
  {
   "cell_type": "code",
   "execution_count": 4,
   "id": "7ba39cb1-5be8-415e-a2b1-3add1aba819e",
   "metadata": {},
   "outputs": [
    {
     "name": "stdout",
     "output_type": "stream",
     "text": [
      "{2, 3, 5, 37, 7, 41, 11, 43, 13, 47, 17, 19, 23, 29, 31}\n"
     ]
    }
   ],
   "source": [
    "#Prime numbers less than 50:\n",
    "print({x for x in range(2, 50) if all(x % y != 0 for y in range(2, int(x**0.5)+1))})\n"
   ]
  },
  {
   "cell_type": "code",
   "execution_count": 6,
   "id": "c6fa55d8-bf17-49f2-8d93-7c90caa748c4",
   "metadata": {},
   "outputs": [
    {
     "name": "stdout",
     "output_type": "stream",
     "text": [
      "True\n"
     ]
    }
   ],
   "source": [
    "#Check if two sets are disjoint:\n",
    "print({1, 2}.isdisjoint({3, 4}))  \n",
    "\n"
   ]
  },
  {
   "cell_type": "code",
   "execution_count": 8,
   "id": "83bf0be1-0d09-4894-815c-2a49c345b46e",
   "metadata": {},
   "outputs": [
    {
     "name": "stdout",
     "output_type": "stream",
     "text": [
      "{1, 2, 3, 4, 6, 12}\n"
     ]
    }
   ],
   "source": [
    "#Divisors of a number:\n",
    "\n",
    "num = 12\n",
    "print({x for x in range(1, num + 1) if num % x == 0}) \n"
   ]
  },
  {
   "cell_type": "markdown",
   "id": "1286b227-b7d5-4ab9-9e5a-047ffefda1dd",
   "metadata": {},
   "source": [
    "\n",
    "Set and Dictionary Interactions\n"
   ]
  },
  {
   "cell_type": "code",
   "execution_count": 81,
   "id": "3696445b-4d4d-490e-918d-2d8c66334448",
   "metadata": {},
   "outputs": [
    {
     "name": "stdout",
     "output_type": "stream",
     "text": [
      "{'b', 'a'}\n",
      "{1, 2}\n"
     ]
    }
   ],
   "source": [
    "#Convert dictionary keys/values into a set:\n",
    "my_dict = {'a': 1, 'b': 2}\n",
    "print(set(my_dict.keys())) \n",
    "print(set(my_dict.values()))"
   ]
  },
  {
   "cell_type": "code",
   "execution_count": 83,
   "id": "d448d5cf-4ea0-4fc7-a3fd-d604c9662328",
   "metadata": {},
   "outputs": [
    {
     "name": "stdout",
     "output_type": "stream",
     "text": [
      "{'a'}\n"
     ]
    }
   ],
   "source": [
    "#Intersection of a set and dictionary keys:\n",
    "keys_set = {'a', 'c'}\n",
    "print(keys_set & set(my_dict.keys())) \n",
    "\n",
    "\n"
   ]
  },
  {
   "cell_type": "markdown",
   "id": "68e1aa34-76fa-4e10-823b-a97718405bcf",
   "metadata": {},
   "source": [
    "\n",
    "Special Challenges\n",
    "\n"
   ]
  },
  {
   "cell_type": "code",
   "execution_count": 12,
   "id": "08122681-8c34-4dfa-a5c7-0cfd109700e4",
   "metadata": {},
   "outputs": [],
   "source": [
    "#Frozen set immutability:\n",
    "\n",
    "frozen = frozenset([1, 2, 3])\n",
    "#frozen.add(4)  # This will raise an AttributeError\n"
   ]
  },
  {
   "cell_type": "code",
   "execution_count": 14,
   "id": "36ac8e21-6118-4717-9459-0c783c09c899",
   "metadata": {},
   "outputs": [
    {
     "name": "stdout",
     "output_type": "stream",
     "text": [
      "{1, 2, 3, 4}\n"
     ]
    }
   ],
   "source": [
    "#Union of multiple sets in a list:\n",
    "sets = [{1, 2}, {2, 3}, {3, 4}]\n",
    "print(set.union(*sets))\n",
    "\n"
   ]
  },
  {
   "cell_type": "code",
   "execution_count": 16,
   "id": "34fe2040-e7f3-4eb9-81ea-cf4cf064f86c",
   "metadata": {},
   "outputs": [
    {
     "name": "stdout",
     "output_type": "stream",
     "text": [
      "{33, 8, 60, 28, 29}\n"
     ]
    }
   ],
   "source": [
    "#Generate random integers:\n",
    "import random\n",
    "print({random.randint(1, 100) for _ in range(5)})\n"
   ]
  },
  {
   "cell_type": "code",
   "execution_count": 46,
   "id": "57e5560e-2ada-4159-a031-9ec6c5592ca9",
   "metadata": {},
   "outputs": [
    {
     "name": "stdout",
     "output_type": "stream",
     "text": [
      "[(), (1,), (2,), (3,), (1, 2), (1, 3), (2, 3), (1, 2, 3)]\n"
     ]
    }
   ],
   "source": [
    "#Find all subsets:\n",
    "from itertools import chain, combinations\n",
    "\n",
    "my_set = {1, 2, 3} \n",
    "\n",
    "# Generate all subsets using combinations for lengths 0 to len(my_set)\n",
    "subsets = list(chain.from_iterable(combinations(my_set, r) for r in range(len(my_set) + 1)))\n",
    "\n",
    "print(subsets)  \n"
   ]
  },
  {
   "cell_type": "markdown",
   "id": "8a887ff2-169d-468a-9e23-9ba7d829cc34",
   "metadata": {},
   "source": [
    "\n",
    "Functions and Sets\n"
   ]
  },
  {
   "cell_type": "code",
   "execution_count": 20,
   "id": "775ae6e9-145b-4468-974d-e6bb6ea47ce9",
   "metadata": {},
   "outputs": [
    {
     "name": "stdout",
     "output_type": "stream",
     "text": [
      "3\n"
     ]
    }
   ],
   "source": [
    "#Largest element in a set:\n",
    "\n",
    "def largest(s):\n",
    "    return max(s)\n",
    "print(largest({1, 2, 3}))  \n"
   ]
  },
  {
   "cell_type": "code",
   "execution_count": 22,
   "id": "70ec3c43-339b-4c19-b908-bc399330387c",
   "metadata": {},
   "outputs": [
    {
     "name": "stdout",
     "output_type": "stream",
     "text": [
      "{0, 1}\n"
     ]
    }
   ],
   "source": [
    "#Remove negative numbers:\n",
    "def remove_negatives(s):\n",
    "    return {x for x in s if x >= 0}\n",
    "print(remove_negatives({-1, 0, 1})) \n"
   ]
  },
  {
   "cell_type": "code",
   "execution_count": 26,
   "id": "464e007e-aaff-4b1d-80c8-34a400f502bf",
   "metadata": {},
   "outputs": [
    {
     "name": "stdout",
     "output_type": "stream",
     "text": [
      "True\n"
     ]
    }
   ],
   "source": [
    "#Check if two sets are equal:\n",
    "\n",
    "def are_equal(s1, s2):\n",
    "    return s1 == s2\n",
    "print(are_equal({1, 2}, {2, 1}))  \n"
   ]
  },
  {
   "cell_type": "markdown",
   "id": "bf51343f-9d0f-4238-8abd-ec8af8c08f86",
   "metadata": {},
   "source": [
    "\n",
    "Error Handling\n"
   ]
  },
  {
   "cell_type": "code",
   "execution_count": 30,
   "id": "ba7951a8-0c56-4fc2-8e53-6fb63cbd2c99",
   "metadata": {},
   "outputs": [
    {
     "name": "stdout",
     "output_type": "stream",
     "text": [
      "Element not found.\n"
     ]
    }
   ],
   "source": [
    "#Handle errors for remove:\n",
    "try:\n",
    "    {1, 2}.remove(3)\n",
    "except KeyError:\n",
    "    print(\"Element not found.\")\n"
   ]
  },
  {
   "cell_type": "code",
   "execution_count": 34,
   "id": "a8b8186f-1493-41b9-ac43-7bbb0879cbc9",
   "metadata": {},
   "outputs": [
    {
     "name": "stdout",
     "output_type": "stream",
     "text": [
      "Conversion failed.\n"
     ]
    }
   ],
   "source": [
    "#Handle exceptions when converting elements:\n",
    "try:\n",
    "    s = {1, 'a', 3}\n",
    "    converted = {int(x) for x in s}\n",
    "except ValueError:\n",
    "    print(\"Conversion failed.\")\n"
   ]
  },
  {
   "cell_type": "code",
   "execution_count": 38,
   "id": "73c1c4c6-f801-45ce-aa35-dca322085edf",
   "metadata": {},
   "outputs": [
    {
     "name": "stdout",
     "output_type": "stream",
     "text": [
      "{'l'}\n"
     ]
    }
   ],
   "source": [
    "string = \"hello\"\n",
    "print({x for x in string if string.count(x) > 1})  # Output: {'l'}\n"
   ]
  },
  {
   "cell_type": "code",
   "execution_count": 42,
   "id": "225b3637-8ba7-4e79-a58e-72f91e8f10a0",
   "metadata": {},
   "outputs": [
    {
     "name": "stdout",
     "output_type": "stream",
     "text": [
      "0.5\n"
     ]
    }
   ],
   "source": [
    "#Jaccard similarity coefficient:\n",
    "set_a, set_b = {1, 2, 3}, {2, 3, 4}\n",
    "jaccard = len(set_a & set_b) / len(set_a | set_b)\n",
    "print(jaccard) \n"
   ]
  }
 ],
 "metadata": {
  "kernelspec": {
   "display_name": "Python 3 (ipykernel)",
   "language": "python",
   "name": "python3"
  },
  "language_info": {
   "codemirror_mode": {
    "name": "ipython",
    "version": 3
   },
   "file_extension": ".py",
   "mimetype": "text/x-python",
   "name": "python",
   "nbconvert_exporter": "python",
   "pygments_lexer": "ipython3",
   "version": "3.12.7"
  }
 },
 "nbformat": 4,
 "nbformat_minor": 5
}
