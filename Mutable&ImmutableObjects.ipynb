{
 "cells": [
  {
   "cell_type": "code",
   "execution_count": 1,
   "id": "c265f380-1df0-4bb2-a0f4-d75652dccd5f",
   "metadata": {},
   "outputs": [],
   "source": [
    "subjects=['English','Urdu','MAth','Science']"
   ]
  },
  {
   "cell_type": "code",
   "execution_count": 2,
   "id": "8b0f209e-37a1-4171-942a-ccd1bc4392da",
   "metadata": {},
   "outputs": [
    {
     "data": {
      "text/plain": [
       "3034190552192"
      ]
     },
     "execution_count": 2,
     "metadata": {},
     "output_type": "execute_result"
    }
   ],
   "source": [
    "id(subjects)"
   ]
  },
  {
   "cell_type": "code",
   "execution_count": 3,
   "id": "0be037df-3254-49dc-a663-2063d1dc8594",
   "metadata": {},
   "outputs": [
    {
     "data": {
      "text/plain": [
       "3034190552192"
      ]
     },
     "execution_count": 3,
     "metadata": {},
     "output_type": "execute_result"
    }
   ],
   "source": [
    "#different variables may refer to same list object\n",
    "temporary=subjects\n",
    "id(temporary)"
   ]
  },
  {
   "cell_type": "code",
   "execution_count": 9,
   "id": "99fa9011-6535-423f-b0ae-30cfb615af33",
   "metadata": {},
   "outputs": [],
   "source": [
    "# Creating a 2D list for subjects and marks\n",
    "subjects_marks = [\n",
    "    [\"Math\", 95],\n",
    "    [\"Science\", 88],\n",
    "    [\"English\", 92],\n",
    "    [\"Computer Science\", 98],\n",
    "    [\"History\", 85]\n",
    "]\n",
    "\n",
    "\n",
    "\n",
    "\n"
   ]
  },
  {
   "cell_type": "code",
   "execution_count": 10,
   "id": "f2950afa-ee4d-422c-ae84-7cb4e926465d",
   "metadata": {},
   "outputs": [
    {
     "name": "stdout",
     "output_type": "stream",
     "text": [
      "Marks in Science: 88\n"
     ]
    }
   ],
   "source": [
    "# Accessing specific subject's marks\n",
    "print(\"Marks in Science:\", subjects_marks[1][1]) "
   ]
  },
  {
   "cell_type": "code",
   "execution_count": 11,
   "id": "11e302e1-84cf-46b7-a7a1-6bf8a2157d02",
   "metadata": {},
   "outputs": [
    {
     "name": "stdout",
     "output_type": "stream",
     "text": [
      "Subjects and Marks:\n",
      "Math: 95\n",
      "Science: 88\n",
      "English: 92\n",
      "Computer Science: 98\n",
      "History: 85\n"
     ]
    }
   ],
   "source": [
    "\n",
    "# Printing subjects and marks\n",
    "print(\"Subjects and Marks:\")\n",
    "for subject in subjects_marks:\n",
    "    print(f\"{subject[0]}: {subject[1]}\")"
   ]
  },
  {
   "cell_type": "code",
   "execution_count": 8,
   "id": "16ce41ed-dbca-4426-8a8c-9b7f1e6093e3",
   "metadata": {},
   "outputs": [
    {
     "name": "stdout",
     "output_type": "stream",
     "text": [
      "\n",
      "Updated Subjects and Marks:\n",
      "Math: 95\n",
      "Science: 88\n",
      "English: 95\n",
      "Computer Science: 98\n",
      "History: 85\n"
     ]
    }
   ],
   "source": [
    "\n",
    "subjects_marks[2][1] = 95 \n",
    "\n",
    "# Printing the modified list\n",
    "print(\"\\nUpdated Subjects and Marks:\")\n",
    "for subject in subjects_marks:\n",
    "    print(f\"{subject[0]}: {subject[1]}\")"
   ]
  },
  {
   "cell_type": "code",
   "execution_count": 12,
   "id": "d570e585-6360-4126-becf-f7c916b4ae92",
   "metadata": {},
   "outputs": [
    {
     "data": {
      "text/plain": [
       "4"
      ]
     },
     "execution_count": 12,
     "metadata": {},
     "output_type": "execute_result"
    }
   ],
   "source": [
    "len(subjects)"
   ]
  },
  {
   "cell_type": "code",
   "execution_count": 13,
   "id": "b523aabe-c2b7-49bb-927d-fd3b30328d9c",
   "metadata": {},
   "outputs": [
    {
     "data": {
      "text/plain": [
       "'Science'"
      ]
     },
     "execution_count": 13,
     "metadata": {},
     "output_type": "execute_result"
    }
   ],
   "source": [
    "subjects[-1]"
   ]
  },
  {
   "cell_type": "code",
   "execution_count": 14,
   "id": "fc784cd3-9878-4b16-b221-8c4106e49aac",
   "metadata": {},
   "outputs": [
    {
     "data": {
      "text/plain": [
       "['English', 'Urdu']"
      ]
     },
     "execution_count": 14,
     "metadata": {},
     "output_type": "execute_result"
    }
   ],
   "source": [
    "subjects[0:2]"
   ]
  },
  {
   "cell_type": "code",
   "execution_count": 15,
   "id": "59ebb106-492d-4625-92a8-fee36c8bbc5a",
   "metadata": {},
   "outputs": [
    {
     "data": {
      "text/plain": [
       "'English'"
      ]
     },
     "execution_count": 15,
     "metadata": {},
     "output_type": "execute_result"
    }
   ],
   "source": [
    "min(subjects)"
   ]
  },
  {
   "cell_type": "code",
   "execution_count": 16,
   "id": "fdcbaf81-f043-49f3-a9c2-a55323405fed",
   "metadata": {},
   "outputs": [
    {
     "data": {
      "text/plain": [
       "'Urdu'"
      ]
     },
     "execution_count": 16,
     "metadata": {},
     "output_type": "execute_result"
    }
   ],
   "source": [
    "max(subjects)"
   ]
  },
  {
   "cell_type": "code",
   "execution_count": 17,
   "id": "3b3e038f-ec15-4ffd-b71d-984a8d92e179",
   "metadata": {},
   "outputs": [
    {
     "data": {
      "text/plain": [
       "['English', 'Urdu', 'MAth', 'Science', 'English', 'Urdu', 'MAth', 'Science']"
      ]
     },
     "execution_count": 17,
     "metadata": {},
     "output_type": "execute_result"
    }
   ],
   "source": [
    "subjects*2"
   ]
  },
  {
   "cell_type": "code",
   "execution_count": 18,
   "id": "950d6551-784f-49d3-a339-50b70bf67067",
   "metadata": {},
   "outputs": [],
   "source": [
    "subjects+=['Social']"
   ]
  },
  {
   "cell_type": "code",
   "execution_count": 19,
   "id": "ca8880bc-df1d-40b5-911b-c04306ee22be",
   "metadata": {},
   "outputs": [
    {
     "data": {
      "text/plain": [
       "['English', 'Urdu', 'MAth', 'Science', 'Social']"
      ]
     },
     "execution_count": 19,
     "metadata": {},
     "output_type": "execute_result"
    }
   ],
   "source": [
    "subjects"
   ]
  },
  {
   "cell_type": "code",
   "execution_count": 20,
   "id": "30e77dbd-8f81-4564-b70a-d97df6db63d6",
   "metadata": {},
   "outputs": [
    {
     "data": {
      "text/plain": [
       "False"
      ]
     },
     "execution_count": 20,
     "metadata": {},
     "output_type": "execute_result"
    }
   ],
   "source": [
    "40 in subjects"
   ]
  },
  {
   "cell_type": "code",
   "execution_count": 24,
   "id": "03ec881f-607e-43bd-bec5-c2e8d12660ae",
   "metadata": {},
   "outputs": [
    {
     "data": {
      "text/plain": [
       "True"
      ]
     },
     "execution_count": 24,
     "metadata": {},
     "output_type": "execute_result"
    }
   ],
   "source": [
    "\n",
    "'English' in subjects"
   ]
  },
  {
   "cell_type": "code",
   "execution_count": 25,
   "id": "f1ece684-963f-4580-8075-d0b9a653e15a",
   "metadata": {},
   "outputs": [
    {
     "name": "stdout",
     "output_type": "stream",
     "text": [
      "\n",
      "Ali's Marks:\n",
      "Math: 95\n",
      "Science: 88\n",
      "English: 92\n",
      "\n",
      "Sara's Marks:\n",
      "Math: 89\n",
      "Science: 91\n",
      "English: 90\n",
      "\n",
      "Ahmed's Marks:\n",
      "Math: 85\n",
      "Science: 80\n",
      "English: 88\n"
     ]
    }
   ],
   "source": [
    "# List of students with their subjects and marks\n",
    "students = [\n",
    "    [\"Ali\", [[\"Math\", 95], [\"Science\", 88], [\"English\", 92]]],\n",
    "    [\"Sara\", [[\"Math\", 89], [\"Science\", 91], [\"English\", 90]]],\n",
    "    [\"Ahmed\", [[\"Math\", 85], [\"Science\", 80], [\"English\", 88]]]\n",
    "]\n",
    "\n",
    "# Printing student-wise subject marks\n",
    "for student in students:\n",
    "    name = student[0]\n",
    "    subjects = student[1]\n",
    "    print(f\"\\n{name}'s Marks:\")\n",
    "    \n",
    "    for subject in subjects:\n",
    "        print(f\"{subject[0]}: {subject[1]}\") \n"
   ]
  },
  {
   "cell_type": "code",
   "execution_count": 26,
   "id": "f9cd8af9-c7cf-488e-92c9-1675c9904a1a",
   "metadata": {},
   "outputs": [
    {
     "name": "stdout",
     "output_type": "stream",
     "text": [
      "['Ali', [['Math', 95], ['Science', 88], ['English', 92]]]\n",
      "['Sara', [['Math', 89], ['Science', 91], ['English', 90]]]\n",
      "['Ahmed', [['Math', 85], ['Science', 80], ['English', 88]]]\n"
     ]
    }
   ],
   "source": [
    "for name in students:\n",
    "    print(name)"
   ]
  },
  {
   "cell_type": "code",
   "execution_count": 29,
   "id": "f3531da2-1bf0-43f1-a160-57d3f1d04dc1",
   "metadata": {},
   "outputs": [
    {
     "data": {
      "text/plain": [
       "2"
      ]
     },
     "execution_count": 29,
     "metadata": {},
     "output_type": "execute_result"
    }
   ],
   "source": [
    "marksList=[23,56,78,89,45,34]\n",
    "count=0\n",
    "for marks in marksList:\n",
    "    if marks>=75:\n",
    "        count+=1\n",
    "\n",
    "count"
   ]
  },
  {
   "cell_type": "code",
   "execution_count": 30,
   "id": "700e3571-cc87-4168-9add-54bf6fe79ada",
   "metadata": {},
   "outputs": [
    {
     "data": {
      "text/plain": [
       "['a', 'e', 'i', 'o', 'u']"
      ]
     },
     "execution_count": 30,
     "metadata": {},
     "output_type": "execute_result"
    }
   ],
   "source": [
    "#function list\n",
    "vowels='aeiou'\n",
    "list(vowels)"
   ]
  },
  {
   "cell_type": "code",
   "execution_count": 32,
   "id": "8530eb0a-e5f7-4f34-8bf5-6324d979b2af",
   "metadata": {},
   "outputs": [
    {
     "data": {
      "text/plain": [
       "[10, 20, 30, 40, 35]"
      ]
     },
     "execution_count": 32,
     "metadata": {},
     "output_type": "execute_result"
    }
   ],
   "source": [
    "a=[10,20,30,40]\n",
    "a.append(35)\n",
    "a"
   ]
  },
  {
   "cell_type": "code",
   "execution_count": 34,
   "id": "c93db16b-9484-4cb2-af3a-8ad4bd30c4ce",
   "metadata": {},
   "outputs": [
    {
     "data": {
      "text/plain": [
       "[10, 20, 30, 40, 35, 45, 43, 45, 43]"
      ]
     },
     "execution_count": 34,
     "metadata": {},
     "output_type": "execute_result"
    }
   ],
   "source": [
    "a.extend([45,43])\n",
    "a"
   ]
  },
  {
   "cell_type": "code",
   "execution_count": 36,
   "id": "17e606c5-b816-45e5-880a-ccb23deb3552",
   "metadata": {},
   "outputs": [
    {
     "data": {
      "text/plain": [
       "[10, 20, 30, 40, 35, 45, 43, 45, 43, 'a', 'b', 'c', 'a', 'b', 'c']"
      ]
     },
     "execution_count": 36,
     "metadata": {},
     "output_type": "execute_result"
    }
   ],
   "source": [
    "a.extend('abc')\n",
    "a"
   ]
  },
  {
   "cell_type": "code",
   "execution_count": 38,
   "id": "595f98e6-a045-4475-91b9-bc8f5fadfe49",
   "metadata": {},
   "outputs": [
    {
     "data": {
      "text/plain": [
       "2"
      ]
     },
     "execution_count": 38,
     "metadata": {},
     "output_type": "execute_result"
    }
   ],
   "source": [
    "a.count(45)"
   ]
  },
  {
   "cell_type": "code",
   "execution_count": 40,
   "id": "4c3fcee5-55a7-4bec-96f5-3cc410c01961",
   "metadata": {},
   "outputs": [
    {
     "data": {
      "text/plain": [
       "45"
      ]
     },
     "execution_count": 40,
     "metadata": {},
     "output_type": "execute_result"
    }
   ],
   "source": [
    "a.pop(5)"
   ]
  },
  {
   "cell_type": "code",
   "execution_count": 41,
   "id": "e8723e13-9141-456b-891c-49c2d250fc0a",
   "metadata": {},
   "outputs": [
    {
     "data": {
      "text/plain": [
       "43"
      ]
     },
     "execution_count": 41,
     "metadata": {},
     "output_type": "execute_result"
    }
   ],
   "source": [
    "a.pop(5)"
   ]
  },
  {
   "cell_type": "code",
   "execution_count": 44,
   "id": "4ac8b7c9-7de7-4f44-9ca8-468730c4cafe",
   "metadata": {},
   "outputs": [
    {
     "data": {
      "text/plain": [
       "[30, 40, 35, 45, 43, 'a', 'b', 'c', 'a', 'b', 'c']"
      ]
     },
     "execution_count": 44,
     "metadata": {},
     "output_type": "execute_result"
    }
   ],
   "source": [
    "a.remove(10)\n",
    "a\n"
   ]
  },
  {
   "cell_type": "code",
   "execution_count": 46,
   "id": "b714d504-f0e7-4460-8fa4-4bf1107f5d95",
   "metadata": {},
   "outputs": [],
   "source": [
    "del a[2:6]"
   ]
  },
  {
   "cell_type": "code",
   "execution_count": 47,
   "id": "b0f1b351-e202-4a72-bb49-c3972ef45131",
   "metadata": {},
   "outputs": [
    {
     "data": {
      "text/plain": [
       "[30, 40, 'b', 'c', 'a', 'b', 'c']"
      ]
     },
     "execution_count": 47,
     "metadata": {},
     "output_type": "execute_result"
    }
   ],
   "source": [
    "a"
   ]
  },
  {
   "cell_type": "code",
   "execution_count": 50,
   "id": "a8aca3a7-6c9c-4d1d-9aae-6c99d78f0dd2",
   "metadata": {},
   "outputs": [
    {
     "data": {
      "text/plain": [
       "[30, 40, 'b', 'c', 45, 'a', 'b', 'c']"
      ]
     },
     "execution_count": 50,
     "metadata": {},
     "output_type": "execute_result"
    }
   ],
   "source": [
    "a.insert(4,45)\n",
    "a"
   ]
  },
  {
   "cell_type": "code",
   "execution_count": 53,
   "id": "09b01bb3-b573-4f47-8b60-79008e16d507",
   "metadata": {},
   "outputs": [
    {
     "name": "stdout",
     "output_type": "stream",
     "text": [
      "['c', 'b', 'a', 45, 'c', 'b', 40, 30]\n"
     ]
    }
   ],
   "source": [
    "a = [30, 40, 'b', 'c', 45, 'a', 'b', 'c']\n",
    "a.reverse()  \n",
    "print(a)  \n"
   ]
  }
 ],
 "metadata": {
  "kernelspec": {
   "display_name": "Python 3 (ipykernel)",
   "language": "python",
   "name": "python3"
  },
  "language_info": {
   "codemirror_mode": {
    "name": "ipython",
    "version": 3
   },
   "file_extension": ".py",
   "mimetype": "text/x-python",
   "name": "python",
   "nbconvert_exporter": "python",
   "pygments_lexer": "ipython3",
   "version": "3.12.7"
  }
 },
 "nbformat": 4,
 "nbformat_minor": 5
}
