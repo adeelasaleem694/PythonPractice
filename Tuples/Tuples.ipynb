{
 "cells": [
  {
   "cell_type": "markdown",
   "id": "a7f408e1-c1fe-4427-8568-7c5fd2a00738",
   "metadata": {},
   "source": [
    "\n",
    "Basic Tuple Operations\n"
   ]
  },
  {
   "cell_type": "code",
   "execution_count": 1,
   "id": "9894660a-ad11-43ac-996e-ec17af165ac2",
   "metadata": {},
   "outputs": [
    {
     "data": {
      "text/plain": [
       "(1, 2, 3, 4, 5)"
      ]
     },
     "execution_count": 1,
     "metadata": {},
     "output_type": "execute_result"
    }
   ],
   "source": [
    "# Create a tuple with 5 elements and print its length.\n",
    "tup=(1,2,3,4,5)\n",
    "tup"
   ]
  },
  {
   "cell_type": "code",
   "execution_count": 3,
   "id": "d1bfeb68-b34a-4f65-a629-b1aa25a36dc0",
   "metadata": {},
   "outputs": [
    {
     "name": "stdout",
     "output_type": "stream",
     "text": [
      "1\n",
      "5\n"
     ]
    }
   ],
   "source": [
    "# Access the first and last elements of a tuple.\n",
    "print(tup[0])\n",
    "print(tup[-1])"
   ]
  },
  {
   "cell_type": "code",
   "execution_count": 5,
   "id": "2c5a786e-251e-404e-96da-b297a0ac9079",
   "metadata": {},
   "outputs": [
    {
     "name": "stdout",
     "output_type": "stream",
     "text": [
      "3\n"
     ]
    }
   ],
   "source": [
    "# Write a program to find the index of a specific element in a tuple.\n",
    "print(tup.index(4))"
   ]
  },
  {
   "cell_type": "code",
   "execution_count": 9,
   "id": "0ce056da-ea5b-4885-bf43-8216414dfdba",
   "metadata": {},
   "outputs": [
    {
     "name": "stdout",
     "output_type": "stream",
     "text": [
      "False\n",
      "True\n"
     ]
    }
   ],
   "source": [
    "#Check if a specific value exists in a tuple.\n",
    "print(60 in tup)\n",
    "print(4 in tup)"
   ]
  },
  {
   "cell_type": "code",
   "execution_count": 13,
   "id": "086324aa-8a77-48f9-8914-a5d226ab3090",
   "metadata": {},
   "outputs": [
    {
     "name": "stdout",
     "output_type": "stream",
     "text": [
      "[1, 2, 3, 4, 5]\n",
      "(1, 2, 3, 4, 5)\n"
     ]
    }
   ],
   "source": [
    "# Convert a list into a tuple and vice versa.\n",
    "print(list(tup))\n",
    "x=[1,2,3,4,5]\n",
    "print(tuple(x))"
   ]
  },
  {
   "cell_type": "markdown",
   "id": "91997e8c-16d0-4375-9544-a4af87117175",
   "metadata": {},
   "source": [
    "\n",
    "Immutable Nature of Tuples\n",
    "\n"
   ]
  },
  {
   "cell_type": "code",
   "execution_count": 19,
   "id": "3beb0499-6f7d-4ddc-ba63-72574f7ba8b5",
   "metadata": {},
   "outputs": [
    {
     "name": "stdout",
     "output_type": "stream",
     "text": [
      "(1, 2, 3, 4, 5)\n"
     ]
    }
   ],
   "source": [
    "# Try modifying an element in a tuple and observe the error.\n",
    "print(tup)\n",
    "# print(tup[0]=8)-->raise error\n"
   ]
  },
  {
   "cell_type": "code",
   "execution_count": 21,
   "id": "d19c9fcc-8261-446b-9a16-5d8fc3aec813",
   "metadata": {},
   "outputs": [
    {
     "name": "stdout",
     "output_type": "stream",
     "text": [
      "(4, 5, 6, 7, 14, 15, 16, 17)\n"
     ]
    }
   ],
   "source": [
    "#Write a program to create a new tuple by concatenating two existing tuples.\n",
    "tuple1=(4,5,6,7)\n",
    "tuple2=(14,15,16,17)\n",
    "print(tuple1+tuple2)"
   ]
  },
  {
   "cell_type": "code",
   "execution_count": 25,
   "id": "576fbd5f-f421-4d01-bb21-25bb68960fa2",
   "metadata": {},
   "outputs": [],
   "source": [
    "#Demonstrate how to delete an entire tuple.\n",
    "del tup"
   ]
  },
  {
   "cell_type": "markdown",
   "id": "9e985759-230b-4ddf-a8d2-588848a9928e",
   "metadata": {},
   "source": [
    "\n",
    "Tuple Methods\n"
   ]
  },
  {
   "cell_type": "code",
   "execution_count": 33,
   "id": "df84fcee-1bbc-435f-8166-e7f37aa25dab",
   "metadata": {},
   "outputs": [
    {
     "data": {
      "text/plain": [
       "(1, 2, 3, 4, 4, 5)"
      ]
     },
     "execution_count": 33,
     "metadata": {},
     "output_type": "execute_result"
    }
   ],
   "source": [
    "# Count the occurrences of a specific element in a tuple.\n",
    "tup=(1,2,3,4,4,5)\n",
    "tup"
   ]
  },
  {
   "cell_type": "code",
   "execution_count": 35,
   "id": "dbeadbcc-db07-4d53-a090-009421979283",
   "metadata": {},
   "outputs": [
    {
     "name": "stdout",
     "output_type": "stream",
     "text": [
      "2\n"
     ]
    }
   ],
   "source": [
    "print(tup.count(4))"
   ]
  },
  {
   "cell_type": "code",
   "execution_count": 37,
   "id": "57810c10-6e34-4db9-b9d5-d3f227a5e312",
   "metadata": {},
   "outputs": [
    {
     "name": "stdout",
     "output_type": "stream",
     "text": [
      "1\n"
     ]
    }
   ],
   "source": [
    "# Find the index of the first occurrence of an element in a tuple.\n",
    "print(tup.index(2))"
   ]
  },
  {
   "cell_type": "markdown",
   "id": "1a8a9992-b560-46ed-93eb-32f874e16dff",
   "metadata": {},
   "source": [
    "\n",
    "Tuple Unpacking\n"
   ]
  },
  {
   "cell_type": "code",
   "execution_count": 41,
   "id": "eaa4410e-1219-47f3-9c1f-f77004410aca",
   "metadata": {},
   "outputs": [
    {
     "name": "stdout",
     "output_type": "stream",
     "text": [
      "1\n",
      "2\n",
      "3\n"
     ]
    }
   ],
   "source": [
    "#Create a tuple `(1, 2, 3)` and unpack its values into three variables.\n",
    "tupl1=(1,2,3)\n",
    "x,y,z=tupl1\n",
    "print(x)\n",
    "print(y)\n",
    "print(z)"
   ]
  },
  {
   "cell_type": "code",
   "execution_count": 43,
   "id": "0cce3491-20e7-4302-af1f-fca57f243c1a",
   "metadata": {},
   "outputs": [
    {
     "name": "stdout",
     "output_type": "stream",
     "text": [
      "10 5\n"
     ]
    }
   ],
   "source": [
    "# Use tuple unpacking to swap the values of two variables.\n",
    "a = 5\n",
    "b = 10\n",
    "a, b = b, a\n",
    "print(a, b) \n"
   ]
  },
  {
   "cell_type": "code",
   "execution_count": 55,
   "id": "a91d480f-d527-4440-98d3-2a4f327619e0",
   "metadata": {},
   "outputs": [
    {
     "name": "stdout",
     "output_type": "stream",
     "text": [
      "1 2 [3, 45, 67, 8, 9]\n"
     ]
    }
   ],
   "source": [
    "# Unpack a tuple of unknown length using `*` syntax.\n",
    "var1=(1,2,3,45,67,8,9)\n",
    "x,y,*z=var1\n",
    "print(x,y,z)\n"
   ]
  },
  {
   "cell_type": "markdown",
   "id": "33635b3d-0ed5-4bb4-b930-0b14655e17f7",
   "metadata": {},
   "source": [
    "\n",
    "Nested Tuples\n"
   ]
  },
  {
   "cell_type": "code",
   "execution_count": 57,
   "id": "ddefff2a-dd55-4032-b0bd-caf12e8b8f41",
   "metadata": {},
   "outputs": [
    {
     "name": "stdout",
     "output_type": "stream",
     "text": [
      "2\n"
     ]
    }
   ],
   "source": [
    "#Access elements from a nested tuple: `nested_tuple = ((1, 2), (3, 4), (5, 6))`.\n",
    "nested_tuple = ((1, 2), (3, 4), (5, 6))\n",
    "print(nested_tuple[0][1]) "
   ]
  },
  {
   "cell_type": "code",
   "execution_count": 59,
   "id": "c4181182-925d-4448-9f79-b53af30de24f",
   "metadata": {},
   "outputs": [
    {
     "name": "stdout",
     "output_type": "stream",
     "text": [
      "3\n"
     ]
    }
   ],
   "source": [
    "#Find the length of a nested tuple.\n",
    "print(len(nested_tuple))"
   ]
  },
  {
   "cell_type": "markdown",
   "id": "3890befa-9d71-4da6-81e0-c00370fcf177",
   "metadata": {},
   "source": [
    "\n",
    "Tuple Comprehensions and Applications\n"
   ]
  },
  {
   "cell_type": "code",
   "execution_count": 61,
   "id": "4e8f7715-65c7-4538-bc2b-fc232b10272a",
   "metadata": {},
   "outputs": [
    {
     "name": "stdout",
     "output_type": "stream",
     "text": [
      "[0, 1, 4, 9, 16, 25]\n"
     ]
    }
   ],
   "source": [
    "# Create a tuple of squares for numbers 1 to 5 using a generator expression\n",
    "square_tuple=[i**2 for i in range(0,6)]\n",
    "print(square_tuple)\n"
   ]
  },
  {
   "cell_type": "code",
   "execution_count": 63,
   "id": "b1ebcaa5-9d50-41b0-816f-dc986c9731b9",
   "metadata": {},
   "outputs": [
    {
     "name": "stdout",
     "output_type": "stream",
     "text": [
      "(0, 1, 1, 2, 3)\n"
     ]
    }
   ],
   "source": [
    "#Create a tuple of Fibonacci numbers up to `n` terms.\n",
    "def fibonacci(n):\n",
    "    fib = (0, 1)\n",
    "    for i in range(2, n):\n",
    "        fib += (fib[-1] + fib[-2],)\n",
    "    return fib\n",
    "\n",
    "print(fibonacci(5)) \n",
    "\n"
   ]
  },
  {
   "cell_type": "markdown",
   "id": "98429287-bd51-44ba-af43-549722b046b7",
   "metadata": {},
   "source": [
    "\n",
    "Tuple and Dictionary Interactions\n"
   ]
  },
  {
   "cell_type": "code",
   "execution_count": 65,
   "id": "8833a61d-156d-422a-be9b-6fdad79900b4",
   "metadata": {},
   "outputs": [
    {
     "name": "stdout",
     "output_type": "stream",
     "text": [
      "{'name': 'John', 'age': 25}\n"
     ]
    }
   ],
   "source": [
    "#Convert a tuple of key-value pairs into a dictionary.\n",
    "pairs = ((\"name\", \"John\"), (\"age\", 25))\n",
    "my_dict = dict(pairs)\n",
    "print(my_dict) \n"
   ]
  },
  {
   "cell_type": "code",
   "execution_count": 67,
   "id": "953f7c17-8fbe-453f-95cd-be4d8fe0bb26",
   "metadata": {},
   "outputs": [
    {
     "name": "stdout",
     "output_type": "stream",
     "text": [
      "{1: 1, 2: 4, 3: 9, 4: 16}\n"
     ]
    }
   ],
   "source": [
    "#Write a program to create a dictionary where keys are elements of a tuple, and values are their squares.\n",
    "my_tuple = (1, 2, 3, 4)\n",
    "my_dict = {x: x**2 for x in my_tuple}\n",
    "print(my_dict)  \n",
    "\n"
   ]
  },
  {
   "cell_type": "markdown",
   "id": "7c3b1748-ca97-405e-9ef3-c1cf69ede21e",
   "metadata": {},
   "source": [
    "\n",
    "Advanced Manipulations\n"
   ]
  },
  {
   "cell_type": "code",
   "execution_count": 73,
   "id": "e7e38589-24f7-49d4-a191-c314c2c5a3cb",
   "metadata": {},
   "outputs": [
    {
     "name": "stdout",
     "output_type": "stream",
     "text": [
      "(1, 2, 3, 4, 5)\n"
     ]
    }
   ],
   "source": [
    "#Merge two tuples into one and sort the result.\n",
    "tuple1 = (3, 1, 4)\n",
    "tuple2 = (2, 5)\n",
    "merged = tuple1 + tuple2\n",
    "sorted_tuple = tuple(sorted(merged))\n",
    "print(sorted_tuple)  \n"
   ]
  },
  {
   "cell_type": "code",
   "execution_count": 75,
   "id": "1854b0d8-1204-4150-b09d-7751173aaa3e",
   "metadata": {},
   "outputs": [
    {
     "name": "stdout",
     "output_type": "stream",
     "text": [
      "(1, 2, 3, 4)\n"
     ]
    }
   ],
   "source": [
    "# Write a program to remove duplicates from a tuple.\n",
    "my_tuple = (1, 2, 3, 2, 4, 1)\n",
    "unique_tuple = tuple(set(my_tuple))\n",
    "print(unique_tuple) \n"
   ]
  },
  {
   "cell_type": "code",
   "execution_count": 77,
   "id": "645942de-3df5-4462-9e7e-5f1e66226c0a",
   "metadata": {},
   "outputs": [
    {
     "name": "stdout",
     "output_type": "stream",
     "text": [
      "40\n",
      "5\n"
     ]
    }
   ],
   "source": [
    "#Find the maximum and minimum values in a tuple of integers.\n",
    "my_tuple = (10, 20, 30, 5, 40)\n",
    "print(max(my_tuple))  \n",
    "print(min(my_tuple))  \n",
    "\n"
   ]
  },
  {
   "cell_type": "code",
   "execution_count": null,
   "id": "5bee0eba-4e70-4fc2-a718-07b4626ac31c",
   "metadata": {},
   "outputs": [],
   "source": [
    "\n",
    "Tuple Applications\n"
   ]
  },
  {
   "cell_type": "code",
   "execution_count": 83,
   "id": "3939c6b3-c0db-43a1-900b-ac4ec9a84e46",
   "metadata": {},
   "outputs": [
    {
     "name": "stdout",
     "output_type": "stream",
     "text": [
      "(2, 4, 6, 8, 10, 12, 14, 16, 18, 20)\n"
     ]
    }
   ],
   "source": [
    "#Write a program to create a tuple of even numbers from 1 to 20.\n",
    "even_numbers = tuple(x for x in range(1, 21) if x % 2 == 0)\n",
    "print(even_numbers)\n"
   ]
  },
  {
   "cell_type": "code",
   "execution_count": 81,
   "id": "139f11f0-dcc1-41e0-991f-26d56670bcf7",
   "metadata": {},
   "outputs": [
    {
     "name": "stdout",
     "output_type": "stream",
     "text": [
      "True\n"
     ]
    }
   ],
   "source": [
    "#Check if two tuples are identical.\n",
    "tuple1 = (1, 2, 3)\n",
    "tuple2 = (1, 2, 3)\n",
    "print(tuple1 == tuple2)  \n"
   ]
  },
  {
   "cell_type": "code",
   "execution_count": 85,
   "id": "89d2476b-5827-4cc1-b2de-bf2dfd7b2264",
   "metadata": {},
   "outputs": [
    {
     "name": "stdout",
     "output_type": "stream",
     "text": [
      "banana\n"
     ]
    }
   ],
   "source": [
    "# Create a tuple of strings and find the longest string.\n",
    "my_tuple = (\"apple\", \"banana\", \"cherry\")\n",
    "longest_string = max(my_tuple, key=len)\n",
    "print(longest_string) \n"
   ]
  },
  {
   "cell_type": "markdown",
   "id": "7743350f-eb1a-4968-b84b-0224b79e3cec",
   "metadata": {},
   "source": [
    "\n",
    "\n",
    "Special Challenges\n"
   ]
  },
  {
   "cell_type": "code",
   "execution_count": 87,
   "id": "be678ada-53d4-400e-96fa-2f6163bbbe98",
   "metadata": {},
   "outputs": [
    {
     "name": "stdout",
     "output_type": "stream",
     "text": [
      "((1, 3), (1, 4), (2, 3), (2, 4))\n"
     ]
    }
   ],
   "source": [
    "#Create a tuple of all possible combinations from two tuples\n",
    "tuple1 = (1, 2)\n",
    "tuple2 = (3, 4)\n",
    "combinations = tuple((x,y) for x in tuple1 for y in tuple2)\n",
    "print(combinations)"
   ]
  },
  {
   "cell_type": "code",
   "execution_count": 89,
   "id": "75260fbd-98d1-4a88-b055-84b8b58df257",
   "metadata": {},
   "outputs": [
    {
     "name": "stdout",
     "output_type": "stream",
     "text": [
      "(2, 3)\n"
     ]
    }
   ],
   "source": [
    "#Write a program to find the intersection of two tuples\n",
    "tuple1 = (1, 2, 3)\n",
    "tuple2 = (2, 3, 4)\n",
    "intersection = tuple(x for x in tuple1 if x in tuple2)\n",
    "print(intersection)  "
   ]
  },
  {
   "cell_type": "code",
   "execution_count": 95,
   "id": "99a27f53-3673-4ff4-b815-6affe3db5205",
   "metadata": {},
   "outputs": [
    {
     "name": "stdout",
     "output_type": "stream",
     "text": [
      "[(3, 4, 5), (6, 7, 8)]\n"
     ]
    }
   ],
   "source": [
    "# Find all tuples with a specific length in a list of tuples.\n",
    "list_of_tuples = [(1, 2), (3, 4, 5), (6, 7, 8), (9, 10)]\n",
    "result = [tup for tup in list_of_tuples if len(tup) == 3]\n",
    "print(result) \n",
    "\n"
   ]
  },
  {
   "cell_type": "markdown",
   "id": "79b0feb4-c4e5-4587-a7fe-6b7eda95a279",
   "metadata": {},
   "source": [
    "\n",
    "Functions and Tuples\n"
   ]
  },
  {
   "cell_type": "code",
   "execution_count": 93,
   "id": "8cf957a6-94a2-4599-8d51-cbaa45851d0c",
   "metadata": {},
   "outputs": [
    {
     "name": "stdout",
     "output_type": "stream",
     "text": [
      "10\n"
     ]
    }
   ],
   "source": [
    "#Write a function that takes a tuple as input and returns the sum of all elements.\n",
    "def tuple_sum(tup):\n",
    "    return sum(tup)\n",
    "\n",
    "print(tuple_sum((1, 2, 3, 4)))  \n"
   ]
  },
  {
   "cell_type": "code",
   "execution_count": 97,
   "id": "67f9845b-bc7b-4dd2-82d5-9309b7787f86",
   "metadata": {},
   "outputs": [
    {
     "name": "stdout",
     "output_type": "stream",
     "text": [
      "(3, 2, 1)\n"
     ]
    }
   ],
   "source": [
    "#Create a function to reverse a tuple.\n",
    "def reverse_tuple(tup):\n",
    "    return tup[::-1]\n",
    "\n",
    "print(reverse_tuple((1, 2, 3)))  "
   ]
  },
  {
   "cell_type": "code",
   "execution_count": null,
   "id": "d2499467-284d-4bc4-b8d7-14630cbcb428",
   "metadata": {},
   "outputs": [],
   "source": [
    "#Write a function to find the product of all elements in a tuple.\n",
    "def tuple_product(tup):\n",
    "    result = 1\n",
    "    for i in tup:\n",
    "        result *= i\n",
    "    return result\n",
    "\n",
    "print(tuple_product((1, 2, 3, 4)))  \n"
   ]
  },
  {
   "cell_type": "markdown",
   "id": "307b6a8b-d39d-48b5-a0d2-0a5f2f163253",
   "metadata": {},
   "source": [
    "\n",
    "Error Handling\n"
   ]
  },
  {
   "cell_type": "code",
   "execution_count": 99,
   "id": "1876a517-d1aa-4554-add0-2578c34ca604",
   "metadata": {},
   "outputs": [
    {
     "name": "stdout",
     "output_type": "stream",
     "text": [
      "Error: tuple index out of range\n"
     ]
    }
   ],
   "source": [
    "# Handle errors gracefully when accessing an index out of range in a tuple.\n",
    "my_tuple = (1, 2, 3)\n",
    "try:\n",
    "    print(my_tuple[5])\n",
    "except IndexError as e:\n",
    "    print(\"Error:\", e)\n",
    "\n"
   ]
  },
  {
   "cell_type": "code",
   "execution_count": 101,
   "id": "f9dd61b5-28ba-4220-a65e-b5cdc80418ed",
   "metadata": {},
   "outputs": [
    {
     "name": "stdout",
     "output_type": "stream",
     "text": [
      "10\n",
      "20\n",
      "Error converting 'invalid' to integer: invalid literal for int() with base 10: 'invalid'\n"
     ]
    }
   ],
   "source": [
    "#Demonstrate how to handle exceptions when converting tuple elements to integers.\n",
    "my_tuple = (\"10\", \"20\", \"invalid\")\n",
    "for item in my_tuple:\n",
    "    try:\n",
    "        print(int(item))\n",
    "    except ValueError as e:\n",
    "        print(f\"Error converting '{item}' to integer: {e}\")\n"
   ]
  }
 ],
 "metadata": {
  "kernelspec": {
   "display_name": "Python 3 (ipykernel)",
   "language": "python",
   "name": "python3"
  },
  "language_info": {
   "codemirror_mode": {
    "name": "ipython",
    "version": 3
   },
   "file_extension": ".py",
   "mimetype": "text/x-python",
   "name": "python",
   "nbconvert_exporter": "python",
   "pygments_lexer": "ipython3",
   "version": "3.12.7"
  }
 },
 "nbformat": 4,
 "nbformat_minor": 5
}
