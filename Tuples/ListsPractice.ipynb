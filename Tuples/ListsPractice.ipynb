{
 "cells": [
  {
   "cell_type": "markdown",
   "id": "8a03e809-9c0f-45ed-b76e-9e91deb6099d",
   "metadata": {},
   "source": [
    "Basic List Operations\n"
   ]
  },
  {
   "cell_type": "code",
   "execution_count": 1,
   "id": "8474174b-8bac-46a6-939d-14324605a744",
   "metadata": {},
   "outputs": [
    {
     "name": "stdout",
     "output_type": "stream",
     "text": [
      "[1, 2, 3, 4, 5, 6, 7, 8, 9, 10]\n"
     ]
    }
   ],
   "source": [
    "#Create a list of the first 10 natural numbers.\n",
    "x = [1, 2, 3, 4, 5, 6, 7, 8, 9, 10]\n",
    "print(x)\n"
   ]
  },
  {
   "cell_type": "code",
   "execution_count": 3,
   "id": "e1b393dc-3fa7-40b5-a03b-16a97642eaca",
   "metadata": {},
   "outputs": [
    {
     "name": "stdout",
     "output_type": "stream",
     "text": [
      "[1, 2, 3, 4, 5, 6, 7, 8, 9, 10, 11]\n"
     ]
    }
   ],
   "source": [
    "#Write a program to append a number to an existing list.\n",
    "x.append(11) \n",
    "print(x)      \n"
   ]
  },
  {
   "cell_type": "code",
   "execution_count": 7,
   "id": "06307366-72d9-42a8-b278-aa2e9466adc8",
   "metadata": {},
   "outputs": [
    {
     "name": "stdout",
     "output_type": "stream",
     "text": [
      "[1, 2, 99, 3, 4, 5, 6, 7, 8, 9, 10, 11]\n"
     ]
    }
   ],
   "source": [
    "#Insert an element at the 2nd index of a list.\n",
    "x.insert(2, 99) \n",
    "print(x)         \n"
   ]
  },
  {
   "cell_type": "code",
   "execution_count": 9,
   "id": "fb6c2bfe-4c26-43c5-aab6-5816ee0abeec",
   "metadata": {},
   "outputs": [
    {
     "name": "stdout",
     "output_type": "stream",
     "text": [
      "[1, 2, 3, 4, 5, 6, 7, 8, 9, 10, 11]\n"
     ]
    }
   ],
   "source": [
    "#Remove the first occurrence of a specific element from a list.\n",
    "x.remove(99) \n",
    "print(x)      \n"
   ]
  },
  {
   "cell_type": "code",
   "execution_count": 11,
   "id": "87eb0d67-4950-4e0d-a2ef-1a2451247bee",
   "metadata": {},
   "outputs": [
    {
     "name": "stdout",
     "output_type": "stream",
     "text": [
      "[1, 2, 3, 5, 6, 7, 8, 9, 10, 11]\n"
     ]
    }
   ],
   "source": [
    "\n",
    "#Delete the element at index 3 of a list.\n",
    "del x[3]\n",
    "print(x)  \n"
   ]
  },
  {
   "cell_type": "code",
   "execution_count": 13,
   "id": "c0ae2be1-55e6-4dc7-b8f2-1913c4c764b7",
   "metadata": {},
   "outputs": [
    {
     "name": "stdout",
     "output_type": "stream",
     "text": [
      "10\n"
     ]
    }
   ],
   "source": [
    "#Find the length of a list.\n",
    "print(len(x))  \n"
   ]
  },
  {
   "cell_type": "code",
   "execution_count": 15,
   "id": "1fc570cb-ad2b-4ef8-8ff7-f41c773e41ee",
   "metadata": {},
   "outputs": [
    {
     "name": "stdout",
     "output_type": "stream",
     "text": [
      "No\n"
     ]
    }
   ],
   "source": [
    "#Check if a specific element exists in a list.\n",
    "if 4 in x:\n",
    "    print(\"Yes\")\n",
    "else:\n",
    "    print(\"No\")\n"
   ]
  },
  {
   "cell_type": "code",
   "execution_count": 17,
   "id": "2c26ce1f-cd2f-4e0a-adec-2b6d95e0ba0d",
   "metadata": {},
   "outputs": [
    {
     "name": "stdout",
     "output_type": "stream",
     "text": [
      "[2, 3, 5, 6, 7, 8, 9, 10, 11]\n"
     ]
    }
   ],
   "source": [
    "#Pop the first element of the list\n",
    "x.pop(0)  # Removes and returns the element at index 0\n",
    "print(x)  \n"
   ]
  },
  {
   "cell_type": "code",
   "execution_count": 19,
   "id": "2046d44d-1e45-43be-817e-e0d4c6bc633d",
   "metadata": {},
   "outputs": [
    {
     "name": "stdout",
     "output_type": "stream",
     "text": [
      "List is not empty\n"
     ]
    }
   ],
   "source": [
    "#Check if a list is empty before performing operations.\n",
    "if not x:  # Checks if the list is empty\n",
    "    print(\"List is empty\")\n",
    "else:\n",
    "    print(\"List is not empty\")\n"
   ]
  },
  {
   "cell_type": "code",
   "execution_count": 21,
   "id": "6fb0dbac-5c1a-418a-9e6a-72dea5d6b868",
   "metadata": {},
   "outputs": [
    {
     "name": "stdout",
     "output_type": "stream",
     "text": [
      "2\n",
      "3\n",
      "5\n",
      "6\n",
      "7\n",
      "8\n",
      "9\n",
      "10\n",
      "11\n"
     ]
    }
   ],
   "source": [
    "#Iterate over the elements of a list.\n",
    "for item in x:\n",
    "    print(item)\n"
   ]
  },
  {
   "cell_type": "code",
   "execution_count": 23,
   "id": "4deefdb1-2bdf-4ff0-9c67-7c6971bead24",
   "metadata": {},
   "outputs": [
    {
     "name": "stdout",
     "output_type": "stream",
     "text": [
      "2\n"
     ]
    }
   ],
   "source": [
    "#Find the index of an element\n",
    "index_of_five = x.index(5)  \n",
    "print(index_of_five)\n"
   ]
  },
  {
   "cell_type": "code",
   "execution_count": 25,
   "id": "c45e8271-97e2-406c-9869-da6f48f5b251",
   "metadata": {},
   "outputs": [
    {
     "name": "stdout",
     "output_type": "stream",
     "text": [
      "1\n"
     ]
    }
   ],
   "source": [
    "#Count the occurrences of an element in the list.\n",
    "count_of_twos = x.count(2)  # Returns the number of times 2 appears in the list\n",
    "print(count_of_twos)\n"
   ]
  },
  {
   "cell_type": "code",
   "execution_count": null,
   "id": "c4eaafb4-1889-43b9-9d6b-92d0757fd246",
   "metadata": {},
   "outputs": [],
   "source": [
    "'''pop(): Use when you need to remove an element and use its value later (e.g., stack operations or list manipulations).\n",
    "del: Use for quick removal by index or slices, or to delete the entire list.\n",
    "remove(): Use when you know the value to remove but not its index.'''"
   ]
  },
  {
   "cell_type": "code",
   "execution_count": 27,
   "id": "58fe6424-f022-4414-a97d-7c57b9f2fd51",
   "metadata": {},
   "outputs": [
    {
     "name": "stdout",
     "output_type": "stream",
     "text": [
      "[10, 20, 30]\n",
      "30\n",
      "20\n",
      "[10]\n"
     ]
    }
   ],
   "source": [
    "stack = []\n",
    "\n",
    "# Pushing elements onto the stack\n",
    "stack.append(10)\n",
    "stack.append(20)\n",
    "stack.append(30)\n",
    "\n",
    "print(stack)  \n",
    "\n",
    "# Popping elements off the stack\n",
    "print(stack.pop())  \n",
    "print(stack.pop())  \n",
    "print(stack)       \n"
   ]
  },
  {
   "cell_type": "code",
   "execution_count": 29,
   "id": "e3a061c2-ad74-48d5-8290-0a3933f1362e",
   "metadata": {},
   "outputs": [
    {
     "name": "stdout",
     "output_type": "stream",
     "text": [
      "5\n",
      "4\n",
      "3\n",
      "2\n",
      "1\n"
     ]
    }
   ],
   "source": [
    "x = [1, 2, 3, 4, 5]\n",
    "\n",
    "while x:\n",
    "    print(x.pop())  # Removes and prints elements from the end\n"
   ]
  },
  {
   "cell_type": "raw",
   "id": "238e6f13-e4b0-44dc-8736-0db2417a09cd",
   "metadata": {},
   "source": [
    "Indexing and Slicing"
   ]
  },
  {
   "cell_type": "code",
   "execution_count": 33,
   "id": "f2e0659e-f70e-4621-9aa5-939a17c8593f",
   "metadata": {},
   "outputs": [
    {
     "data": {
      "text/plain": [
       "[10, 20, 30, 40, 50]"
      ]
     },
     "execution_count": 33,
     "metadata": {},
     "output_type": "execute_result"
    }
   ],
   "source": [
    "list1 = [10, 20, 30, 40, 50] \n",
    "list1"
   ]
  },
  {
   "cell_type": "code",
   "execution_count": 35,
   "id": "68610580-6458-47a2-9b26-f3e2b60ca34d",
   "metadata": {},
   "outputs": [
    {
     "name": "stdout",
     "output_type": "stream",
     "text": [
      "10\n",
      "50\n"
     ]
    }
   ],
   "source": [
    "# Access first and last elements\n",
    "print(list1[0])   # First element\n",
    "print(list1[-1])  # Last element\n"
   ]
  },
  {
   "cell_type": "code",
   "execution_count": 37,
   "id": "d5f01215-945c-461e-b68a-44fdf53a62a4",
   "metadata": {},
   "outputs": [
    {
     "name": "stdout",
     "output_type": "stream",
     "text": [
      "[20, 30, 40, 50]\n"
     ]
    }
   ],
   "source": [
    "# Extract 2nd to 5th elements\n",
    "print(list1[1:5])  "
   ]
  },
  {
   "cell_type": "code",
   "execution_count": 39,
   "id": "e54ece1e-e153-48af-b3ae-89fde37324e4",
   "metadata": {},
   "outputs": [
    {
     "name": "stdout",
     "output_type": "stream",
     "text": [
      "[50, 40, 30, 20, 10]\n"
     ]
    }
   ],
   "source": [
    "#Reverse a list using slicing\n",
    "print(list1[::-1]) "
   ]
  },
  {
   "cell_type": "code",
   "execution_count": 41,
   "id": "f52ffcb8-0ea8-4f1a-ad3e-e12366c937de",
   "metadata": {},
   "outputs": [
    {
     "name": "stdout",
     "output_type": "stream",
     "text": [
      "[10, 30, 50]\n"
     ]
    }
   ],
   "source": [
    "# Get every alternate element from a list.\n",
    "print(list1[::2])"
   ]
  },
  {
   "cell_type": "code",
   "execution_count": 43,
   "id": "72ca8288-a02f-4c94-b969-d86df0711558",
   "metadata": {},
   "outputs": [
    {
     "name": "stdout",
     "output_type": "stream",
     "text": [
      "[10, 20, 30]\n"
     ]
    }
   ],
   "source": [
    "# Slice a list to get all elements except the last two.\n",
    "print(list1[:-2])"
   ]
  },
  {
   "cell_type": "markdown",
   "id": "eaa981b6-e40a-41da-925c-c9cca1ac8288",
   "metadata": {},
   "source": [
    "List Methods"
   ]
  },
  {
   "cell_type": "code",
   "execution_count": 45,
   "id": "faa289eb-a715-41a4-bb81-d7475e6f2066",
   "metadata": {},
   "outputs": [
    {
     "data": {
      "text/plain": [
       "[10, 20, 30, 5, 8, 3]"
      ]
     },
     "execution_count": 45,
     "metadata": {},
     "output_type": "execute_result"
    }
   ],
   "source": [
    "thislist = [10, 20, 30, 5, 8, 3]\n",
    "thislist"
   ]
  },
  {
   "cell_type": "code",
   "execution_count": 49,
   "id": "58a19a82-662b-479d-84b5-7f6d8b52f930",
   "metadata": {},
   "outputs": [
    {
     "name": "stdout",
     "output_type": "stream",
     "text": [
      "[3, 5, 8, 10, 20, 30]\n",
      "[30, 20, 10, 8, 5, 3]\n"
     ]
    }
   ],
   "source": [
    "# Sort a list in ascending and descending order.\n",
    "thislist.sort()\n",
    "print(thislist) \n",
    "thislist.sort(reverse=True)\n",
    "print(thislist)"
   ]
  },
  {
   "cell_type": "code",
   "execution_count": 51,
   "id": "7e0d223c-771f-4b23-ae6d-88db788f38af",
   "metadata": {},
   "outputs": [
    {
     "name": "stdout",
     "output_type": "stream",
     "text": [
      "30\n",
      "3\n"
     ]
    }
   ],
   "source": [
    "#Find the maximum and minimum values in a list.\n",
    "print(max(thislist)) \n",
    "print(min(thislist))"
   ]
  },
  {
   "cell_type": "code",
   "execution_count": 53,
   "id": "aebb1250-94c8-49b8-9082-b5d534e4f3c1",
   "metadata": {},
   "outputs": [
    {
     "name": "stdout",
     "output_type": "stream",
     "text": [
      "1\n"
     ]
    }
   ],
   "source": [
    "# Count the occurrences of a specific element in a list.\n",
    "print(thislist.count(3))"
   ]
  },
  {
   "cell_type": "code",
   "execution_count": 55,
   "id": "a44c59eb-ae6a-4a9a-987f-2ac1576a5e29",
   "metadata": {},
   "outputs": [
    {
     "name": "stdout",
     "output_type": "stream",
     "text": [
      "[1, 2, 3, 4, 5, 6]\n"
     ]
    }
   ],
   "source": [
    "# Extend one list with another list.\n",
    "list1 = [1, 2, 3]\n",
    "thislist2 = [4, 5, 6]\n",
    "list1.extend(thislist2)\n",
    "print(list1)"
   ]
  },
  {
   "cell_type": "code",
   "execution_count": 57,
   "id": "e9fd88c5-fe1b-4aca-8f42-3b6b2555668b",
   "metadata": {},
   "outputs": [
    {
     "name": "stdout",
     "output_type": "stream",
     "text": [
      "[]\n"
     ]
    }
   ],
   "source": [
    "# Clear all elements from a list.\n",
    "thislist.clear()\n",
    "print(thislist)"
   ]
  },
  {
   "cell_type": "markdown",
   "id": "bcf8fb6c-a1f2-4894-8939-49627b83a0e7",
   "metadata": {},
   "source": [
    "List Comprehensions\n",
    "Syntax: [<expression> for <variable> in <iterable>].\n",
    "it's concise,readable and efficient"
   ]
  },
  {
   "cell_type": "code",
   "execution_count": 59,
   "id": "4e0d45fc-df00-4593-85cc-5a5890aacef8",
   "metadata": {},
   "outputs": [
    {
     "name": "stdout",
     "output_type": "stream",
     "text": [
      "[1, 4, 9, 16, 25, 36, 49, 64, 81, 100]\n"
     ]
    }
   ],
   "source": [
    "#Create a list of squares for numbers from 1 to 10.\n",
    "squares=[i**2 for i in range(1,11)]\n",
    "print(squares)"
   ]
  },
  {
   "cell_type": "code",
   "execution_count": 61,
   "id": "aa1f3a47-71a5-48dc-82ef-57b7f2ac6bf3",
   "metadata": {},
   "outputs": [
    {
     "name": "stdout",
     "output_type": "stream",
     "text": [
      "[2, 4, 6, 8, 10, 12, 14, 16, 18, 20]\n"
     ]
    }
   ],
   "source": [
    "#  Generate a list of all even numbers between 1 and 20\n",
    "even_Numbers=[i for i in range(1,21) if i%2==0]\n",
    "print(even_Numbers)"
   ]
  },
  {
   "cell_type": "code",
   "execution_count": 63,
   "id": "43084ee4-ae5c-41ba-a8a4-260d1e7c2862",
   "metadata": {},
   "outputs": [
    {
     "name": "stdout",
     "output_type": "stream",
     "text": [
      "[3, 6, 9, 12, 15, 18]\n"
     ]
    }
   ],
   "source": [
    "# Create a list of all numbers divisible by 3 from a given range.\n",
    "divisibleBy3=[i for i in range(1,21) if i%3==0]\n",
    "print(divisibleBy3)"
   ]
  },
  {
   "cell_type": "code",
   "execution_count": 65,
   "id": "cffb95a6-8b5f-4eed-bdc7-ca217d37b270",
   "metadata": {},
   "outputs": [
    {
     "name": "stdout",
     "output_type": "stream",
     "text": [
      "['HELLO', 'WORLD', 'PYTHON']\n"
     ]
    }
   ],
   "source": [
    "# Convert a list of strings to uppercase.\n",
    "strings = [\"hello\", \"world\", \"python\"]\n",
    "uppercase_string=[s.upper() for s in strings]\n",
    "print(uppercase_string)"
   ]
  },
  {
   "cell_type": "code",
   "execution_count": 67,
   "id": "0afcf2bc-5a46-4998-9a94-eb50901af94a",
   "metadata": {},
   "outputs": [
    {
     "name": "stdout",
     "output_type": "stream",
     "text": [
      "[(1, 1), (2, 8), (3, 27), (4, 64), (5, 125)]\n"
     ]
    }
   ],
   "source": [
    "# Create a list of tuples where each tuple contains a number and its cube.\n",
    "\n",
    "number_cubes = [(i, i**3) for i in range(1, 6)]\n",
    "print(number_cubes)"
   ]
  },
  {
   "cell_type": "markdown",
   "id": "9ee93cc9-79e1-4dd7-b683-8bc5b3f4526d",
   "metadata": {},
   "source": [
    "\n",
    "Advanced Manipulations"
   ]
  },
  {
   "cell_type": "code",
   "execution_count": 71,
   "id": "c659117d-0cdf-42dd-96da-5deff8c128ff",
   "metadata": {},
   "outputs": [
    {
     "data": {
      "text/plain": [
       "[1, 2, 3, 4, 5]"
      ]
     },
     "execution_count": 71,
     "metadata": {},
     "output_type": "execute_result"
    }
   ],
   "source": [
    "numbers = [1, 2, 3, 4, 5]\n",
    "numbers"
   ]
  },
  {
   "cell_type": "code",
   "execution_count": 75,
   "id": "55e555e5-5c5c-4c78-87b2-221c72b165a0",
   "metadata": {},
   "outputs": [
    {
     "name": "stdout",
     "output_type": "stream",
     "text": [
      "15\n"
     ]
    }
   ],
   "source": [
    "#Write a program to find the sum of all elements in a list.\n",
    "print(sum(numbers))"
   ]
  },
  {
   "cell_type": "code",
   "execution_count": 95,
   "id": "24520654-40c9-4232-9da7-846c6a333be0",
   "metadata": {},
   "outputs": [
    {
     "name": "stdout",
     "output_type": "stream",
     "text": [
      "15\n"
     ]
    }
   ],
   "source": [
    "                                  #by using functions \n",
    "def sum_of_elements(lst):\n",
    "    return sum(lst)\n",
    "\n",
    "print(sum_of_elements(numbers))"
   ]
  },
  {
   "cell_type": "code",
   "execution_count": 97,
   "id": "a78c6b44-8bdf-442b-b07d-1a494cb3282f",
   "metadata": {},
   "outputs": [
    {
     "name": "stdout",
     "output_type": "stream",
     "text": [
      "[2, 4, 6, 8, 10]\n"
     ]
    }
   ],
   "source": [
    "# Multiply all elements of a list by 2.\n",
    "print([i * 2 for i in numbers])"
   ]
  },
  {
   "cell_type": "code",
   "execution_count": 79,
   "id": "773f4dd0-23d0-4e2a-9f87-a578d382c48f",
   "metadata": {},
   "outputs": [
    {
     "name": "stdout",
     "output_type": "stream",
     "text": [
      "[2, 4, 6, 8, 10]\n"
     ]
    }
   ],
   "source": [
    "                                      #2nd\n",
    "def multiply_by_two(lst):\n",
    "    return [i * 2 for i in lst]\n",
    "\n",
    "numbers = [1, 2, 3, 4, 5]\n",
    "print(multiply_by_two(numbers))"
   ]
  },
  {
   "cell_type": "code",
   "execution_count": 99,
   "id": "6bb14247-0d6b-4cbe-8359-606a6ec75a74",
   "metadata": {},
   "outputs": [
    {
     "name": "stdout",
     "output_type": "stream",
     "text": [
      "[1, 2, 3, 4, 5]\n"
     ]
    }
   ],
   "source": [
    "\n",
    "print(list(set(numbers)))"
   ]
  },
  {
   "cell_type": "code",
   "execution_count": 83,
   "id": "ba24dd84-95ae-49d9-8874-c1c637c5a5a3",
   "metadata": {},
   "outputs": [
    {
     "name": "stdout",
     "output_type": "stream",
     "text": [
      "[1, 2, 3, 4, 5, 6]\n"
     ]
    }
   ],
   "source": [
    "\n",
    "def remove_duplicates(lst):\n",
    "    return list(set(lst))\n",
    "\n",
    "numbers = [1, 2, 2, 3, 4, 4, 5, 6, 6]\n",
    "print(remove_duplicates(numbers))"
   ]
  },
  {
   "cell_type": "code",
   "execution_count": 101,
   "id": "5ca5315a-abb8-47a0-8910-85a4440c6460",
   "metadata": {},
   "outputs": [
    {
     "name": "stdout",
     "output_type": "stream",
     "text": [
      "[2, 3, 4, 5, 1]\n"
     ]
    }
   ],
   "source": [
    "#Rotate a list to the left by one position.\n",
    "\n",
    "print(numbers[1:] + numbers[:1])\n"
   ]
  },
  {
   "cell_type": "code",
   "execution_count": 103,
   "id": "e6ac6843-8ff9-4a0d-8d3c-76f3870ff6ca",
   "metadata": {},
   "outputs": [
    {
     "name": "stdout",
     "output_type": "stream",
     "text": [
      "[1, 2, 6, 7]\n"
     ]
    }
   ],
   "source": [
    "numbers = [1, 2, 3, 4, 5, 6, 7]\n",
    "\n",
    "# Exclude middle (indexes 2 to 4)\n",
    "excluded = numbers[:2] + numbers[5:]\n",
    "print(excluded)  \n"
   ]
  },
  {
   "cell_type": "code",
   "execution_count": 105,
   "id": "25ee2c76-557b-4b34-b7d5-f1a99068d2b3",
   "metadata": {},
   "outputs": [
    {
     "name": "stdout",
     "output_type": "stream",
     "text": [
      "[1, 2, 6, 7]\n"
     ]
    }
   ],
   "source": [
    "\n",
    "\n",
    "# Exclude middle (indexes 2 to 4)\n",
    "excluded = numbers[:2] + numbers[5:]\n",
    "print(excluded)  \n"
   ]
  },
  {
   "cell_type": "code",
   "execution_count": 89,
   "id": "a32b36d6-641b-474a-b846-b6e1ca1c9aa1",
   "metadata": {},
   "outputs": [
    {
     "name": "stdout",
     "output_type": "stream",
     "text": [
      "4\n"
     ]
    }
   ],
   "source": [
    "# Find the second largest number in a list.\n",
    "numbers = [1, 2, 3, 4, 5]\n",
    "numbers.sort()\n",
    "print(numbers[-2])"
   ]
  },
  {
   "cell_type": "markdown",
   "id": "5a867e66-bd73-45bf-8623-04b3eebc1e41",
   "metadata": {},
   "source": [
    "Nested Lists\n"
   ]
  },
  {
   "cell_type": "code",
   "execution_count": 93,
   "id": "4d7819f6-e0f4-4839-a64a-3e3aaf03b6b5",
   "metadata": {},
   "outputs": [
    {
     "name": "stdout",
     "output_type": "stream",
     "text": [
      "[2, 5, 8]\n"
     ]
    }
   ],
   "source": [
    "# Access the second element of each sublist in a nested list.\n",
    "nested_list = [[1, 2, 3], [4, 5, 6], [7, 8, 9]]\n",
    "second_elements=[sublist[1] for sublist in nested_list]\n",
    "print(second_elements)\n"
   ]
  },
  {
   "cell_type": "code",
   "execution_count": 107,
   "id": "ca83b105-868b-4249-ba0e-6f3f21389e5f",
   "metadata": {},
   "outputs": [
    {
     "name": "stdout",
     "output_type": "stream",
     "text": [
      "[1, 2, 3, 4, 5, 6, 7, 8, 9]\n"
     ]
    }
   ],
   "source": [
    "# Flatten a nested list into a single list.\n",
    "nested_list = [[1, 2, 3], [4, 5, 6], [7, 8, 9]]\n",
    "flattened_list = [item for sublist in nested_list for item in sublist]\n",
    "print(flattened_list)"
   ]
  },
  {
   "cell_type": "code",
   "execution_count": 117,
   "id": "625c7336-a710-4dbe-8e8b-9f36f5bee29e",
   "metadata": {},
   "outputs": [
    {
     "name": "stdout",
     "output_type": "stream",
     "text": [
      "[[1, 4, 7], [2, 5, 8], [3, 6, 9]]\n"
     ]
    }
   ],
   "source": [
    "# Transpose a 2D list (list of lists).\n",
    "matrix = [[1, 2, 3], [4, 5, 6], [7, 8, 9]]\n",
    "'''The * operator unpacks the rows of the matrix.\n",
    "zip takes the first element from each row to create a tuple, then the second element, and so on.'''\n",
    "transposed = [list(row) for row in zip(*matrix)]\n",
    "print(transposed)\n"
   ]
  },
  {
   "cell_type": "code",
   "execution_count": 121,
   "id": "28af0e49-f294-4e31-bd87-736d9e9c215d",
   "metadata": {},
   "outputs": [
    {
     "name": "stdout",
     "output_type": "stream",
     "text": [
      "[1, 2, 3]\n",
      "[4, 5, 6]\n",
      "[7, 8, 9]\n"
     ]
    }
   ],
   "source": [
    "# Write a program to create a 3x3 matrix and print it.\n",
    "\n",
    "matrix = [[1, 2, 3], [4, 5, 6], [7, 8, 9]]\n",
    "for row in matrix:\n",
    "    print(row)"
   ]
  },
  {
   "cell_type": "code",
   "execution_count": 131,
   "id": "22c0afb9-dbfc-4d07-a85b-1175be5288f0",
   "metadata": {},
   "outputs": [
    {
     "name": "stdout",
     "output_type": "stream",
     "text": [
      "Value 5 found: True\n"
     ]
    }
   ],
   "source": [
    "# Check if a nested list contains a specific value.\n",
    "nested_list = [[1, 2, 3], [4, 5, 6], [7, 8, 9]]\n",
    "value_to_check = 5\n",
    "\n",
    "found = any(value_to_check in sublist for sublist in nested_list)\n",
    "\n",
    "print(f\"Value {value_to_check} found: {found}\")\n"
   ]
  },
  {
   "cell_type": "code",
   "execution_count": 133,
   "id": "88a48945-2a11-43cd-8296-93da386c0d0a",
   "metadata": {},
   "outputs": [
    {
     "name": "stdout",
     "output_type": "stream",
     "text": [
      "[6, 5, 4, 3, 2, 1]\n",
      "[1, 3, 5]\n"
     ]
    }
   ],
   "source": [
    "my_list = [1, 2, 3, 4, 5, 6]\n",
    "\n",
    "# Reverse sublist\n",
    "reverse_list = my_list[::-1]\n",
    "print(reverse_list)  \n",
    "\n",
    "# Alternate elements\n",
    "alternate_elements = my_list[::2]\n",
    "print(alternate_elements)  \n"
   ]
  },
  {
   "cell_type": "markdown",
   "id": "123bc654-6aee-4145-958d-53065300d13d",
   "metadata": {},
   "source": [
    "\n",
    "\n",
    "Applications\n",
    "\n"
   ]
  },
  {
   "cell_type": "code",
   "execution_count": 137,
   "id": "7428c3c9-b029-46b0-9894-0b3ad7f0c521",
   "metadata": {},
   "outputs": [
    {
     "name": "stdout",
     "output_type": "stream",
     "text": [
      "[1, 2, 3, 4, 5, 6]\n"
     ]
    }
   ],
   "source": [
    "# Merge two sorted lists into one sorted list.\n",
    "list1 = [1, 3, 5]\n",
    "list2 = [2, 4, 6]\n",
    "merged_list = sorted(list1 + list2)\n",
    "print(merged_list)\n"
   ]
  },
  {
   "cell_type": "code",
   "execution_count": 139,
   "id": "7ffd2f63-e137-4f68-9508-64fc0512b084",
   "metadata": {},
   "outputs": [
    {
     "name": "stdout",
     "output_type": "stream",
     "text": [
      "Intersection: [3, 4, 5]\n"
     ]
    }
   ],
   "source": [
    "#Write a program to find the intersection of two lists.\n",
    "list1 = [1, 2, 3, 4, 5]\n",
    "list2 = [3, 4, 5, 6, 7]\n",
    "\n",
    "intersection = list(set(list1) & set(list2))\n",
    "\n",
    "print(\"Intersection:\", intersection)\n"
   ]
  },
  {
   "cell_type": "code",
   "execution_count": 149,
   "id": "79d17512-92c6-4fc9-b79f-fe6c28622c62",
   "metadata": {},
   "outputs": [
    {
     "data": {
      "text/plain": [
       "[1, 2, 3, 4, 5, 6, 7]"
      ]
     },
     "execution_count": 149,
     "metadata": {},
     "output_type": "execute_result"
    }
   ],
   "source": [
    "#Find the union of two lists without duplicates.\n",
    "list1 = [1, 2, 3, 4, 5]\n",
    "list2 = [3, 4, 5, 6, 7]\n",
    "union=list(set(list1+list2))\n",
    "union"
   ]
  },
  {
   "cell_type": "code",
   "execution_count": 153,
   "id": "e35c7e4d-b410-4357-8019-60b4fbea2cdc",
   "metadata": {},
   "outputs": [
    {
     "name": "stdout",
     "output_type": "stream",
     "text": [
      "Intersection: [3, 4, 5]\n"
     ]
    }
   ],
   "source": [
    "list1 = [1, 2, 3, 4, 5]\n",
    "list2 = [3, 4, 5, 6, 7]\n",
    "#filter(lambda x: condition, iterable)\n",
    "\n",
    "intersection = list(filter(lambda x: x in list2, list1))\n",
    "\n",
    "print(\"Intersection:\", intersection)\n"
   ]
  },
  {
   "cell_type": "code",
   "execution_count": 151,
   "id": "53b8666a-1d0e-4e99-bb9a-e79d81d1255d",
   "metadata": {},
   "outputs": [
    {
     "name": "stdout",
     "output_type": "stream",
     "text": [
      "not equal\n"
     ]
    }
   ],
   "source": [
    "#Write a program to check if two lists are equal.\n",
    "list1 = [1, 2, 3, 4, 5]\n",
    "list2 = [3, 4, 5, 6, 7]\n",
    "if list1==list2:\n",
    "    print(\"equaal\")\n",
    "else:\n",
    "    print(\"not equal\")"
   ]
  },
  {
   "cell_type": "code",
   "execution_count": null,
   "id": "f09e913a-e3b4-43d2-96b7-f0c13f5c59c5",
   "metadata": {},
   "outputs": [],
   "source": [
    "#Create a list of Fibonacci numbers up to `n` terms.\n",
    "n = 10\n",
    "fibonacci = [0, 1]\n",
    "while len(fibonacci) < n:  # Continue the loop until the length of the Fibonacci list reaches n\n",
    "fibonacci.append(fibonacci[-1] + fibonacci[-2]) \n",
    "# Add the next Fibonacci number by summing the last two numbers in the list\n",
    "\n",
    "print(fibonacci) "
   ]
  },
  {
   "cell_type": "markdown",
   "id": "b01576a2-cb9b-45cf-9b79-55af4f66e008",
   "metadata": {},
   "source": [
    "\n",
    "Special Challenges\n",
    "\n"
   ]
  },
  {
   "cell_type": "code",
   "execution_count": 1,
   "id": "5ad541fa-6918-423b-8b7c-ca96bcace9c2",
   "metadata": {},
   "outputs": [
    {
     "name": "stdout",
     "output_type": "stream",
     "text": [
      "[[], [1], [1, 2], [1, 2, 3], [2], [2, 3], [3]]\n"
     ]
    }
   ],
   "source": [
    "#Find all sublists of a given list.\n",
    "def find_sublists(lst):\n",
    "    sublists=[[]]\n",
    "    for i in range(len(lst)):             # Iterate through each index of the list\n",
    "        for j in range(i+1,len(lst)+1):  # Iterate from (i+1) to the end of the list\n",
    "            sublists.append(lst[i:j])    # Append the sublist from index i to j\n",
    "    return sublists        \n",
    "\n",
    "\n",
    "    \n",
    "numbers=[1,2,3]\n",
    "print(find_sublists(numbers))"
   ]
  },
  {
   "cell_type": "code",
   "execution_count": null,
   "id": "df3f8f46-8371-4d1c-827f-854e39d2fd25",
   "metadata": {},
   "outputs": [],
   "source": [
    "#  Write a program to find all permutations of a list.\n",
    "import itertools\n",
    "numbers = [1, 2, 3]\n",
    "permutations = list(itertools.permutations(numbers))\n",
    "'''It returns an iterator of tuples, where each tuple is a permutation of the elements in numbers.So \n",
    " by passing it to list(), we convert it into a list of tuples.'''\n",
    "print(permutations)"
   ]
  },
  {
   "cell_type": "code",
   "execution_count": 9,
   "id": "a18a9a84-e448-41a6-a706-d6186ee6c097",
   "metadata": {},
   "outputs": [
    {
     "name": "stdout",
     "output_type": "stream",
     "text": [
      "[2, 3, 5, 7, 11, 13, 17, 19, 23, 29, 31, 37, 41, 43, 47]\n"
     ]
    }
   ],
   "source": [
    "#  Generate a list of prime numbers less than 50.\n",
    "\n",
    "def is_prime(n):\n",
    "    if n < 2:\n",
    "        return False\n",
    "    for i in range(2, int(n**0.5) + 1):\n",
    "        if n % i == 0:\n",
    "            return False\n",
    "    return True\n",
    "\n",
    "prime_numbers = [n for n in range(2, 50) if is_prime(n)]\n",
    "print(prime_numbers)\n",
    "\n",
    "\n"
   ]
  },
  {
   "cell_type": "code",
   "execution_count": null,
   "id": "a420344c-7712-4855-9a0c-2c269fa963be",
   "metadata": {},
   "outputs": [],
   "source": [
    "'''# We check up to the square root of 'n' because factors larger than the square root would already have corresponding smaller factors.\n",
    "# Adding +1 ensures we include the square root if it's an integer (e.g., 6 for n=36).\n",
    "'''"
   ]
  },
  {
   "cell_type": "code",
   "execution_count": 7,
   "id": "357974d3-9f16-4e82-9237-d085ffd6fc52",
   "metadata": {},
   "outputs": [
    {
     "name": "stdout",
     "output_type": "stream",
     "text": [
      "[1, 3, 5, 0, 0]\n"
     ]
    }
   ],
   "source": [
    "# Write a program to shift all zeros in a list to the end, maintaining the order of other elements.\n",
    "\n",
    "numbers = [1, 0, 3, 0, 5]\n",
    "non_zeros = [n for n in numbers if n != 0]\n",
    "zeros = [n for n in numbers if n == 0]\n",
    "result = non_zeros + zeros\n",
    "print(result)"
   ]
  },
  {
   "cell_type": "code",
   "execution_count": 11,
   "id": "1b7712b0-4ca0-4660-8ea6-0f7b9bb0cf3e",
   "metadata": {},
   "outputs": [
    {
     "name": "stdout",
     "output_type": "stream",
     "text": [
      "[1, 2] [3, 4, 5]\n"
     ]
    }
   ],
   "source": [
    "# Split a list into two halves.\n",
    "\n",
    "numbers = [1, 2, 3, 4, 5]\n",
    "mid = len(numbers) // 2\n",
    "first_half = numbers[:mid]\n",
    "second_half = numbers[mid:]\n",
    "print(first_half, second_half)"
   ]
  },
  {
   "cell_type": "markdown",
   "id": "22681789-7672-492b-9490-e72b57e0e19e",
   "metadata": {},
   "source": [
    "\n",
    "Sorting and Searching\n",
    "\n"
   ]
  },
  {
   "cell_type": "code",
   "execution_count": 13,
   "id": "62c1b9c9-0dcb-4d5c-bb20-b5ff4bcead4d",
   "metadata": {},
   "outputs": [
    {
     "name": "stdout",
     "output_type": "stream",
     "text": [
      "['cat', 'dog', 'apple', 'banana', 'elephant']\n"
     ]
    }
   ],
   "source": [
    "# Sort a list of strings based on their lengths.\n",
    "strings = [\"apple\", \"banana\", \"cat\", \"dog\", \"elephant\"]\n",
    "sorted_strings=sorted(strings,key=len) #can sort the items in the list based on something other than the default behavior\n",
    "print(sorted_strings)"
   ]
  },
  {
   "cell_type": "code",
   "execution_count": 23,
   "id": "dd34597f-e5e8-4d90-9a53-7a55daedaf55",
   "metadata": {},
   "outputs": [
    {
     "name": "stdout",
     "output_type": "stream",
     "text": [
      "['apple', 'banana', 'cat', 'dog', 'elephant']\n"
     ]
    }
   ],
   "source": [
    "# Sort based on the first character\n",
    "sorted_strings = sorted(strings, key=lambda x: x[0])  \n",
    "print(sorted_strings)\n"
   ]
  },
  {
   "cell_type": "code",
   "execution_count": 15,
   "id": "6ce1e41c-5d71-4f3e-89bf-3179e6fb12ae",
   "metadata": {},
   "outputs": [
    {
     "name": "stdout",
     "output_type": "stream",
     "text": [
      "4\n"
     ]
    }
   ],
   "source": [
    "# Write a program to find the position of the first occurrence of a number in a list.\n",
    "numbers = [1, 2, 3, 4, 5, 6, 7, 8, 9]\n",
    "target_number=5\n",
    "position=numbers.index(target_number)\n",
    "print(position)"
   ]
  },
  {
   "cell_type": "code",
   "execution_count": 25,
   "id": "15208243-0cbd-40e2-9a45-c095c1ed3a23",
   "metadata": {},
   "outputs": [
    {
     "name": "stdout",
     "output_type": "stream",
     "text": [
      "4\n"
     ]
    }
   ],
   "source": [
    "#  Use binary search to find an element in a sorted list.\n",
    "def binary_search(sorted_list, target):\n",
    "    low = 0\n",
    "    high = len(sorted_list) - 1\n",
    "\n",
    "    while low <= high:\n",
    "        mid = (low + high) // 2  # Find the middle index\n",
    "        if sorted_list[mid] == target:\n",
    "            return mid  # Target found at index 'mid'\n",
    "        elif sorted_list[mid] < target:\n",
    "            low = mid + 1  # Search in the right half\n",
    "        else:\n",
    "            high = mid - 1  # Search in the left half\n",
    "\n",
    "    return -1  # Target not found\n",
    "\n",
    "\n",
    "sorted_list = [1, 2, 3, 4, 5, 6, 7, 8, 9]\n",
    "target = 5\n",
    "position = binary_search(sorted_list, target)\n",
    "print(position)  \n",
    "\n"
   ]
  },
  {
   "cell_type": "code",
   "execution_count": 29,
   "id": "b0345b03-5367-4f42-99fe-52adcd16b982",
   "metadata": {},
   "outputs": [
    {
     "name": "stdout",
     "output_type": "stream",
     "text": [
      "[(3, 1), (1, 2), (2, 3), (4, 4)]\n"
     ]
    }
   ],
   "source": [
    "# Write a program to sort a list of tuples by the second element.tuples\n",
    "tuples = [(1, 2), (3, 1), (2, 3), (4, 4)]\n",
    "sorted_tuples = sorted(tuples, key=lambda x: x[1])\n",
    "print(sorted_tuples)"
   ]
  },
  {
   "cell_type": "markdown",
   "id": "60fc9a84-252d-4530-812f-99b329cdb6d2",
   "metadata": {},
   "source": [
    "String and List Interactions"
   ]
  },
  {
   "cell_type": "code",
   "execution_count": 33,
   "id": "84b377a6-fcdc-41e6-8338-04166c655671",
   "metadata": {},
   "outputs": [
    {
     "name": "stdout",
     "output_type": "stream",
     "text": [
      "['Hello', 'World', 'this', 'is', 'Python']\n"
     ]
    }
   ],
   "source": [
    "#Split a string into a list of words.\n",
    "\n",
    "sentence = \"Hello World this is Python\"\n",
    "words = sentence.split()\n",
    "print(words)"
   ]
  },
  {
   "cell_type": "code",
   "execution_count": 41,
   "id": "d4a2fe7f-c5bf-4d0c-853d-40de9df7f089",
   "metadata": {},
   "outputs": [
    {
     "name": "stdout",
     "output_type": "stream",
     "text": [
      "Hello#  World#  this#  is#  Python\n"
     ]
    }
   ],
   "source": [
    "#  Join a list of words into a single string separated by spaces\n",
    "words = [\"Hello\", \"World\", \"this\", \"is\", \"Python\"]\n",
    "sentence = \"#  \".join(words)\n",
    "print(sentence)"
   ]
  },
  {
   "cell_type": "code",
   "execution_count": 51,
   "id": "b4faac9c-3a12-4d12-a06b-277343611266",
   "metadata": {},
   "outputs": [
    {
     "name": "stdout",
     "output_type": "stream",
     "text": [
      "123\n"
     ]
    }
   ],
   "source": [
    "#  Convert a list of integers to a single string (e.g., [1, 2, 3] -> '123')\n",
    "\n",
    "numbers = [1, 2, 3]\n",
    "string = \"\".join(map(str, numbers)) #notwork on no's\n",
    "print(string) "
   ]
  },
  {
   "cell_type": "code",
   "execution_count": 45,
   "id": "e10fbdb4-8644-4369-8313-78d2a14464b0",
   "metadata": {},
   "outputs": [
    {
     "name": "stdout",
     "output_type": "stream",
     "text": [
      "2\n"
     ]
    }
   ],
   "source": [
    "#  Count the number of palindromes in a list of strings.\n",
    "def is_palindrome(s):\n",
    "    return s == s[::-1]\n",
    "\n",
    "strings = [\"radar\", \"hello\", \"level\", \"world\"]\n",
    "palindrome_count = sum(1 for s in strings if is_palindrome(s)) #\"radar\" is a palindrome → Add 1.\n",
    "print(palindrome_count) "
   ]
  },
  {
   "cell_type": "markdown",
   "id": "afd220f5-3c6d-4ce8-9bbe-fcf63afa6042",
   "metadata": {},
   "source": [
    "\n",
    "Functions and Lists\n"
   ]
  },
  {
   "cell_type": "code",
   "execution_count": 55,
   "id": "a378f4e5-d214-408b-b77e-4f262c3c06f2",
   "metadata": {},
   "outputs": [
    {
     "name": "stdout",
     "output_type": "stream",
     "text": [
      "89\n"
     ]
    }
   ],
   "source": [
    "# Write a function that takes a list as input and returns the largest number\n",
    "\n",
    "def find_largest(numbers):\n",
    "    return max(numbers)\n",
    "\n",
    "\n",
    "numbers = [12, 45, 7, 23, 56, 89, 34]\n",
    "print(find_largest(numbers))"
   ]
  },
  {
   "cell_type": "code",
   "execution_count": 57,
   "id": "e1e8266e-94ef-4a73-a7be-d64069dd8fd7",
   "metadata": {},
   "outputs": [
    {
     "name": "stdout",
     "output_type": "stream",
     "text": [
      "[12, 7, 56, 34]\n"
     ]
    }
   ],
   "source": [
    "# Implement a function that removes all negative numbers from a list.\n",
    "def remove_negatives(numbers):\n",
    "   return [n for n in numbers if n >= 0]\n",
    "\n",
    "numbers = [12, -45, 7, -23, 56, -89, 34]\n",
    "print(remove_negatives(numbers))"
   ]
  },
  {
   "cell_type": "code",
   "execution_count": 61,
   "id": "76b5247d-ed0b-4412-afc6-5a2c21ea8ed0",
   "metadata": {},
   "outputs": [
    {
     "name": "stdout",
     "output_type": "stream",
     "text": [
      "{1: 1, 2: 2, 3: 3, 4: 4}\n"
     ]
    }
   ],
   "source": [
    "# Write a function that takes a list and returns a dictionary with the frequency of each element.\n",
    "def element_frequency(lst):\n",
    "    frequency = {}\n",
    "    for element in lst:\n",
    "       if element in frequency:\n",
    "          frequency[element] += 1\n",
    "       else:\n",
    "          frequency[element] = 1\n",
    "    return frequency\n",
    "\n",
    "numbers = [1, 2, 2, 3, 3, 3, 4, 4, 4, 4]\n",
    "print(element_frequency(numbers)) \n",
    "'''We are trying to count how many times each element appears in the list and store this information in a dictionary, where:\n",
    "\n",
    "The element itself is the key.\n",
    "The number of occurrences of the element is the value.'''"
   ]
  },
  {
   "cell_type": "code",
   "execution_count": 9,
   "id": "75e39723-7f74-4576-8ec1-055e9c7d872a",
   "metadata": {},
   "outputs": [
    {
     "name": "stdout",
     "output_type": "stream",
     "text": [
      "{'h': 1, 'e': 1, 'l': 3, 'o': 2, ' ': 1, 'w': 1, 'r': 1, 'd': 1}\n"
     ]
    }
   ],
   "source": [
    "def char_frequency(s):\n",
    "    frequency = {}  # Create an empty dictionary to store character frequencies\n",
    "    for char in s:  # Loop through each character in the string\n",
    "        if char in frequency:  # If the character is already a key in the dictionary\n",
    "            frequency[char] += 1  # Increment its value by 1\n",
    "        else:\n",
    "            frequency[char] = 1  # Otherwise, add it with a value of 1\n",
    "    return frequency  # Return the frequency dictionary\n",
    "\n",
    "string = \"hello world\"  # Example string\n",
    "print(char_frequency(string))  # Call the function and print the result\n"
   ]
  },
  {
   "cell_type": "markdown",
   "id": "3b423149-522a-4ff5-a57d-6f4fe296ad07",
   "metadata": {},
   "source": [
    "\n",
    "Error Handling\n"
   ]
  },
  {
   "cell_type": "code",
   "execution_count": 3,
   "id": "c86ab2c6-5543-47d6-b8a5-e8e57cbf7c03",
   "metadata": {},
   "outputs": [
    {
     "name": "stdout",
     "output_type": "stream",
     "text": [
      "3\n",
      "Index out of range\n"
     ]
    }
   ],
   "source": [
    "#  Handle errors gracefully when accessing an index out of range in a list.\n",
    "\n",
    "def access_index(lst, index):\n",
    "    \n",
    "    try:\n",
    "       return lst[index]\n",
    "    except IndexError:\n",
    "           return \"Index out of range\"\n",
    "\n",
    "numbers = [1, 2, 3]\n",
    "print(access_index(numbers, 2))  \n",
    "print(access_index(numbers, 5)) \n",
    "\n",
    "\n"
   ]
  },
  {
   "cell_type": "code",
   "execution_count": 7,
   "id": "ab97f7cb-aea3-4600-94c0-efc02607d5b3",
   "metadata": {},
   "outputs": [
    {
     "name": "stdout",
     "output_type": "stream",
     "text": [
      "[1, 2, 'Invalid input', 4, 'Invalid input']\n"
     ]
    }
   ],
   "source": [
    "#  Handle exceptions when converting elements of a list to integers.\n",
    "\n",
    "def convert_to_int(lst):\n",
    "    result = []\n",
    "    for element in lst:\n",
    "       try:\n",
    "          result.append(int(element))\n",
    "       except ValueError:\n",
    "            result.append(\"Invalid input\")\n",
    "    return result\n",
    "\n",
    "mixed_list = [\"1\", \"2\", \"three\", \"4\", \"five\"]\n",
    "print(convert_to_int(mixed_list))  \n"
   ]
  }
 ],
 "metadata": {
  "kernelspec": {
   "display_name": "Python 3 (ipykernel)",
   "language": "python",
   "name": "python3"
  },
  "language_info": {
   "codemirror_mode": {
    "name": "ipython",
    "version": 3
   },
   "file_extension": ".py",
   "mimetype": "text/x-python",
   "name": "python",
   "nbconvert_exporter": "python",
   "pygments_lexer": "ipython3",
   "version": "3.12.7"
  }
 },
 "nbformat": 4,
 "nbformat_minor": 5
}
